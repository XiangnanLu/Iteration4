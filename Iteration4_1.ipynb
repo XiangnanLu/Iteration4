{
 "cells": [
  {
   "cell_type": "code",
   "execution_count": 1,
   "id": "c9a8eaca",
   "metadata": {},
   "outputs": [
    {
     "name": "stderr",
     "output_type": "stream",
     "text": [
      "23/10/07 12:46:32 WARN Utils: Your hostname, luxiangnandeMacBook-Pro.local resolves to a loopback address: 127.0.0.1; using 192.168.1.126 instead (on interface en0)\n",
      "23/10/07 12:46:32 WARN Utils: Set SPARK_LOCAL_IP if you need to bind to another address\n",
      "Setting default log level to \"WARN\".\n",
      "To adjust logging level use sc.setLogLevel(newLevel). For SparkR, use setLogLevel(newLevel).\n",
      "23/10/07 12:46:32 WARN NativeCodeLoader: Unable to load native-hadoop library for your platform... using builtin-java classes where applicable\n"
     ]
    }
   ],
   "source": [
    "import pyspark\n",
    "from pyspark.sql import SparkSession\n",
    "spark = SparkSession.builder.appName('basics').getOrCreate()"
   ]
  },
  {
   "cell_type": "code",
   "execution_count": 128,
   "id": "7d7d99f4",
   "metadata": {},
   "outputs": [
    {
     "name": "stdout",
     "output_type": "stream",
     "text": [
      "Requirement already satisfied: graphviz in ./anaconda3/lib/python3.11/site-packages (0.20.1)\n",
      "Requirement already satisfied: py4j in ./anaconda3/lib/python3.11/site-packages (0.10.9.7)\n",
      "Note: you may need to restart the kernel to use updated packages.\n"
     ]
    }
   ],
   "source": [
    "pip install graphviz py4j"
   ]
  },
  {
   "cell_type": "code",
   "execution_count": 133,
   "id": "7ffdc6f5",
   "metadata": {},
   "outputs": [
    {
     "name": "stdout",
     "output_type": "stream",
     "text": [
      "Requirement already satisfied: graphviz in ./anaconda3/lib/python3.11/site-packages (0.20.1)\n",
      "Note: you may need to restart the kernel to use updated packages.\n"
     ]
    }
   ],
   "source": [
    "pip install graphviz"
   ]
  },
  {
   "cell_type": "code",
   "execution_count": 2,
   "id": "7f02f7f0",
   "metadata": {},
   "outputs": [],
   "source": [
    "df = spark.read.option(\"delimiter\", \";\").csv('cardio_train.csv', inferSchema=True, header=True)"
   ]
  },
  {
   "cell_type": "code",
   "execution_count": 3,
   "id": "9676fe0d",
   "metadata": {},
   "outputs": [],
   "source": [
    "import pandas as pd\n",
    "from pyspark.sql import functions as F\n",
    "from pyspark.ml.stat import Correlation\n",
    "from pyspark.ml.feature import VectorAssembler\n",
    "from pyspark.sql.functions import col\n",
    "import numpy as np\n",
    "import matplotlib.pyplot as plt\n",
    "%matplotlib inline\n",
    "import seaborn as sns\n",
    "from pyspark.sql.functions import corr"
   ]
  },
  {
   "cell_type": "code",
   "execution_count": 87,
   "id": "3ef53ee6",
   "metadata": {},
   "outputs": [],
   "source": [
    "from pyspark.ml.classification import (LogisticRegression, DecisionTreeClassifier, \n",
    "                                       RandomForestClassifier, GBTClassifier, LinearSVC, MultilayerPerceptronClassifier)\n",
    "from pyspark.ml.evaluation import MulticlassClassificationEvaluator\n",
    "from pyspark.ml.tuning import CrossValidator, ParamGridBuilder\n",
    "from pyspark.ml.evaluation import BinaryClassificationEvaluator"
   ]
  },
  {
   "cell_type": "code",
   "execution_count": 4,
   "id": "a47ebe81",
   "metadata": {},
   "outputs": [
    {
     "name": "stdout",
     "output_type": "stream",
     "text": [
      "+---+-----+------+------+------+-----+-----+-----------+----+-----+----+------+------+\n",
      "| id|  age|gender|height|weight|ap_hi|ap_lo|cholesterol|gluc|smoke|alco|active|cardio|\n",
      "+---+-----+------+------+------+-----+-----+-----------+----+-----+----+------+------+\n",
      "|  0|18393|     2|   168|  62.0|  110|   80|          1|   1|    0|   0|     1|     0|\n",
      "|  1|20228|     1|   156|  85.0|  140|   90|          3|   1|    0|   0|     1|     1|\n",
      "|  2|18857|     1|   165|  64.0|  130|   70|          3|   1|    0|   0|     0|     1|\n",
      "|  3|17623|     2|   169|  82.0|  150|  100|          1|   1|    0|   0|     1|     1|\n",
      "|  4|17474|     1|   156|  56.0|  100|   60|          1|   1|    0|   0|     0|     0|\n",
      "|  8|21914|     1|   151|  67.0|  120|   80|          2|   2|    0|   0|     0|     0|\n",
      "|  9|22113|     1|   157|  93.0|  130|   80|          3|   1|    0|   0|     1|     0|\n",
      "| 12|22584|     2|   178|  95.0|  130|   90|          3|   3|    0|   0|     1|     1|\n",
      "| 13|17668|     1|   158|  71.0|  110|   70|          1|   1|    0|   0|     1|     0|\n",
      "| 14|19834|     1|   164|  68.0|  110|   60|          1|   1|    0|   0|     0|     0|\n",
      "| 15|22530|     1|   169|  80.0|  120|   80|          1|   1|    0|   0|     1|     0|\n",
      "| 16|18815|     2|   173|  60.0|  120|   80|          1|   1|    0|   0|     1|     0|\n",
      "| 18|14791|     2|   165|  60.0|  120|   80|          1|   1|    0|   0|     0|     0|\n",
      "| 21|19809|     1|   158|  78.0|  110|   70|          1|   1|    0|   0|     1|     0|\n",
      "| 23|14532|     2|   181|  95.0|  130|   90|          1|   1|    1|   1|     1|     0|\n",
      "| 24|16782|     2|   172| 112.0|  120|   80|          1|   1|    0|   0|     0|     1|\n",
      "| 25|21296|     1|   170|  75.0|  130|   70|          1|   1|    0|   0|     0|     0|\n",
      "| 27|16747|     1|   158|  52.0|  110|   70|          1|   3|    0|   0|     1|     0|\n",
      "| 28|17482|     1|   154|  68.0|  100|   70|          1|   1|    0|   0|     0|     0|\n",
      "| 29|21755|     2|   162|  56.0|  120|   70|          1|   1|    1|   0|     1|     0|\n",
      "+---+-----+------+------+------+-----+-----+-----------+----+-----+----+------+------+\n",
      "only showing top 20 rows\n",
      "\n"
     ]
    }
   ],
   "source": [
    "df.show()"
   ]
  },
  {
   "cell_type": "code",
   "execution_count": 5,
   "id": "b84fc9cc",
   "metadata": {},
   "outputs": [
    {
     "name": "stdout",
     "output_type": "stream",
     "text": [
      "+-----------+----+----+---------------------------------------------------------------------------+\n",
      "|     Entity|Code|Year|Deaths - Cardiovascular diseases - Sex: Both - Age: Age-standardized (Rate)|\n",
      "+-----------+----+----+---------------------------------------------------------------------------+\n",
      "|Afghanistan| AFG|1990|                                                                     716.27|\n",
      "|Afghanistan| AFG|1991|                                                                      711.2|\n",
      "|Afghanistan| AFG|1992|                                                                     708.28|\n",
      "|Afghanistan| AFG|1993|                                                                     712.87|\n",
      "|Afghanistan| AFG|1994|                                                                     720.74|\n",
      "|Afghanistan| AFG|1995|                                                                      724.0|\n",
      "|Afghanistan| AFG|1996|                                                                      727.4|\n",
      "|Afghanistan| AFG|1997|                                                                     730.63|\n",
      "|Afghanistan| AFG|1998|                                                                      733.5|\n",
      "|Afghanistan| AFG|1999|                                                                     737.74|\n",
      "|Afghanistan| AFG|2000|                                                                     740.45|\n",
      "|Afghanistan| AFG|2001|                                                                     741.17|\n",
      "|Afghanistan| AFG|2002|                                                                     727.08|\n",
      "|Afghanistan| AFG|2003|                                                                     717.22|\n",
      "|Afghanistan| AFG|2004|                                                                     708.56|\n",
      "|Afghanistan| AFG|2005|                                                                     697.35|\n",
      "|Afghanistan| AFG|2006|                                                                     686.42|\n",
      "|Afghanistan| AFG|2007|                                                                      674.2|\n",
      "|Afghanistan| AFG|2008|                                                                     663.27|\n",
      "|Afghanistan| AFG|2009|                                                                     650.29|\n",
      "+-----------+----+----+---------------------------------------------------------------------------+\n",
      "only showing top 20 rows\n",
      "\n"
     ]
    }
   ],
   "source": [
    "df_1=spark.read.csv('cardiovascular-disease-death-rates.csv', inferSchema=True, header=True)\n",
    "df_1.show()"
   ]
  },
  {
   "cell_type": "code",
   "execution_count": 6,
   "id": "0333fdc8",
   "metadata": {},
   "outputs": [
    {
     "name": "stdout",
     "output_type": "stream",
     "text": [
      "root\n",
      " |-- id: integer (nullable = true)\n",
      " |-- age: integer (nullable = true)\n",
      " |-- gender: integer (nullable = true)\n",
      " |-- height: integer (nullable = true)\n",
      " |-- weight: double (nullable = true)\n",
      " |-- ap_hi: integer (nullable = true)\n",
      " |-- ap_lo: integer (nullable = true)\n",
      " |-- cholesterol: integer (nullable = true)\n",
      " |-- gluc: integer (nullable = true)\n",
      " |-- smoke: integer (nullable = true)\n",
      " |-- alco: integer (nullable = true)\n",
      " |-- active: integer (nullable = true)\n",
      " |-- cardio: integer (nullable = true)\n",
      "\n"
     ]
    }
   ],
   "source": [
    "df.printSchema()"
   ]
  },
  {
   "cell_type": "code",
   "execution_count": 7,
   "id": "368801bb",
   "metadata": {},
   "outputs": [
    {
     "name": "stderr",
     "output_type": "stream",
     "text": [
      "23/10/07 12:46:44 WARN SparkStringUtils: Truncated the string representation of a plan since it was too large. This behavior can be adjusted by setting 'spark.sql.debug.maxToStringFields'.\n"
     ]
    },
    {
     "name": "stdout",
     "output_type": "stream",
     "text": [
      "             count                  mean               stddev    min    max  \\\n",
      "id           70000            49972.4199   28851.302323172742      0  99999   \n",
      "age          70000    19468.865814285713    2467.251667241397  10798  23713   \n",
      "gender       70000    1.3495714285714286  0.47683801558286265      1      2   \n",
      "height       70000    164.35922857142856    8.210126364538075     55    250   \n",
      "weight       70000              74.20569   14.395756678511347   10.0  200.0   \n",
      "ap_hi        70000     128.8172857142857    154.0114194560919   -150  16020   \n",
      "ap_lo        70000     96.63041428571428   188.47253029638918    -70  11000   \n",
      "cholesterol  70000    1.3668714285714285   0.6802503486993823      1      3   \n",
      "gluc         70000     1.226457142857143   0.5722702766138456      1      3   \n",
      "smoke        70000   0.08812857142857143  0.28348381676993667      0      1   \n",
      "alco         70000  0.053771428571428574  0.22556770360410555      0      1   \n",
      "active       70000    0.8037285714285715   0.3971790635049267      0      1   \n",
      "cardio       70000                0.4997   0.5000034814661851      0      1   \n",
      "\n",
      "               25.0%    50.0%    75.0%  \n",
      "id           23428.0  49038.0  71367.0  \n",
      "age          18009.0  19686.0  21171.0  \n",
      "gender           1.0      1.0      2.0  \n",
      "height         159.0    165.0    169.0  \n",
      "weight          65.0     72.0     80.0  \n",
      "ap_hi          120.0    120.0    130.0  \n",
      "ap_lo           80.0     80.0     90.0  \n",
      "cholesterol      1.0      1.0      1.0  \n",
      "gluc             1.0      1.0      1.0  \n",
      "smoke            0.0      0.0      0.0  \n",
      "alco             0.0      0.0      0.0  \n",
      "active           1.0      1.0      1.0  \n",
      "cardio           0.0      0.0      1.0  \n"
     ]
    }
   ],
   "source": [
    "summary_pd = df.describe().toPandas()\n",
    "\n",
    "percentiles = [0.25, 0.5, 0.75]\n",
    "percentile_values = {col: df.approxQuantile(col, percentiles, 0.05) for col in df.columns}\n",
    "percentiles_pd = pd.DataFrame(percentile_values, index=[f'{p*100}%' for p in percentiles])\n",
    "summary_pd = summary_pd.set_index('summary').transpose()\n",
    "percentiles_pd = percentiles_pd.transpose()\n",
    "\n",
    "final_df = pd.concat([summary_pd, percentiles_pd], axis=1)\n",
    "\n",
    "print(final_df)"
   ]
  },
  {
   "cell_type": "code",
   "execution_count": 8,
   "id": "1ac0fbca",
   "metadata": {},
   "outputs": [
    {
     "name": "stdout",
     "output_type": "stream",
     "text": [
      "+-----+\n",
      "|  age|\n",
      "+-----+\n",
      "|18393|\n",
      "|20228|\n",
      "|18857|\n",
      "|17623|\n",
      "|17474|\n",
      "|21914|\n",
      "|22113|\n",
      "|22584|\n",
      "|17668|\n",
      "|19834|\n",
      "|22530|\n",
      "|18815|\n",
      "|14791|\n",
      "|19809|\n",
      "|14532|\n",
      "|16782|\n",
      "|21296|\n",
      "|16747|\n",
      "|17482|\n",
      "|21755|\n",
      "+-----+\n",
      "only showing top 20 rows\n",
      "\n"
     ]
    }
   ],
   "source": [
    "df.select('age').show()"
   ]
  },
  {
   "cell_type": "code",
   "execution_count": 9,
   "id": "30f746ae",
   "metadata": {},
   "outputs": [
    {
     "name": "stdout",
     "output_type": "stream",
     "text": [
      "+---+---+------+------+------+-----+-----+-----------+----+-----+----+------+------+\n",
      "| id|age|gender|height|weight|ap_hi|ap_lo|cholesterol|gluc|smoke|alco|active|cardio|\n",
      "+---+---+------+------+------+-----+-----+-----------+----+-----+----+------+------+\n",
      "|  0| 50|     2|   168|  62.0|  110|   80|          1|   1|    0|   0|     1|     0|\n",
      "|  1| 55|     1|   156|  85.0|  140|   90|          3|   1|    0|   0|     1|     1|\n",
      "|  2| 52|     1|   165|  64.0|  130|   70|          3|   1|    0|   0|     0|     1|\n",
      "|  3| 48|     2|   169|  82.0|  150|  100|          1|   1|    0|   0|     1|     1|\n",
      "|  4| 48|     1|   156|  56.0|  100|   60|          1|   1|    0|   0|     0|     0|\n",
      "|  8| 60|     1|   151|  67.0|  120|   80|          2|   2|    0|   0|     0|     0|\n",
      "|  9| 61|     1|   157|  93.0|  130|   80|          3|   1|    0|   0|     1|     0|\n",
      "| 12| 62|     2|   178|  95.0|  130|   90|          3|   3|    0|   0|     1|     1|\n",
      "| 13| 48|     1|   158|  71.0|  110|   70|          1|   1|    0|   0|     1|     0|\n",
      "| 14| 54|     1|   164|  68.0|  110|   60|          1|   1|    0|   0|     0|     0|\n",
      "| 15| 62|     1|   169|  80.0|  120|   80|          1|   1|    0|   0|     1|     0|\n",
      "| 16| 52|     2|   173|  60.0|  120|   80|          1|   1|    0|   0|     1|     0|\n",
      "| 18| 41|     2|   165|  60.0|  120|   80|          1|   1|    0|   0|     0|     0|\n",
      "| 21| 54|     1|   158|  78.0|  110|   70|          1|   1|    0|   0|     1|     0|\n",
      "| 23| 40|     2|   181|  95.0|  130|   90|          1|   1|    1|   1|     1|     0|\n",
      "| 24| 46|     2|   172| 112.0|  120|   80|          1|   1|    0|   0|     0|     1|\n",
      "| 25| 58|     1|   170|  75.0|  130|   70|          1|   1|    0|   0|     0|     0|\n",
      "| 27| 46|     1|   158|  52.0|  110|   70|          1|   3|    0|   0|     1|     0|\n",
      "| 28| 48|     1|   154|  68.0|  100|   70|          1|   1|    0|   0|     0|     0|\n",
      "| 29| 60|     2|   162|  56.0|  120|   70|          1|   1|    1|   0|     1|     0|\n",
      "+---+---+------+------+------+-----+-----+-----------+----+-----+----+------+------+\n",
      "only showing top 20 rows\n",
      "\n"
     ]
    }
   ],
   "source": [
    "df = df.withColumn('age', (F.round(df['age'] / 365)).cast('int'))\n",
    "df.show()"
   ]
  },
  {
   "cell_type": "code",
   "execution_count": 10,
   "id": "e2c454dc",
   "metadata": {},
   "outputs": [
    {
     "name": "stdout",
     "output_type": "stream",
     "text": [
      "               id   age  gender  height  weight  ap_hi  ap_lo  cholesterol  \\\n",
      "id           1.00  0.00    0.00   -0.00   -0.00   0.00  -0.00         0.01   \n",
      "age          0.00  1.00   -0.02   -0.08    0.05   0.02   0.02         0.15   \n",
      "gender       0.00 -0.02    1.00    0.50    0.16   0.01   0.02        -0.04   \n",
      "height      -0.00 -0.08    0.50    1.00    0.29   0.01   0.01        -0.05   \n",
      "weight      -0.00  0.05    0.16    0.29    1.00   0.03   0.04         0.14   \n",
      "ap_hi        0.00  0.02    0.01    0.01    0.03   1.00   0.02         0.02   \n",
      "ap_lo       -0.00  0.02    0.02    0.01    0.04   0.02   1.00         0.02   \n",
      "cholesterol  0.01  0.15   -0.04   -0.05    0.14   0.02   0.02         1.00   \n",
      "gluc         0.00  0.10   -0.02   -0.02    0.11   0.01   0.01         0.45   \n",
      "smoke       -0.00 -0.05    0.34    0.19    0.07  -0.00   0.01         0.01   \n",
      "alco         0.00 -0.03    0.17    0.09    0.07   0.00   0.01         0.04   \n",
      "active       0.00 -0.01    0.01   -0.01   -0.02  -0.00   0.00         0.01   \n",
      "cardio       0.00  0.24    0.01   -0.01    0.18   0.05   0.07         0.22   \n",
      "\n",
      "             gluc  smoke  alco  active  cardio  \n",
      "id           0.00  -0.00  0.00    0.00    0.00  \n",
      "age          0.10  -0.05 -0.03   -0.01    0.24  \n",
      "gender      -0.02   0.34  0.17    0.01    0.01  \n",
      "height      -0.02   0.19  0.09   -0.01   -0.01  \n",
      "weight       0.11   0.07  0.07   -0.02    0.18  \n",
      "ap_hi        0.01  -0.00  0.00   -0.00    0.05  \n",
      "ap_lo        0.01   0.01  0.01    0.00    0.07  \n",
      "cholesterol  0.45   0.01  0.04    0.01    0.22  \n",
      "gluc         1.00  -0.00  0.01   -0.01    0.09  \n",
      "smoke       -0.00   1.00  0.34    0.03   -0.02  \n",
      "alco         0.01   0.34  1.00    0.03   -0.01  \n",
      "active      -0.01   0.03  0.03    1.00   -0.04  \n",
      "cardio       0.09  -0.02 -0.01   -0.04    1.00  \n"
     ]
    },
    {
     "name": "stderr",
     "output_type": "stream",
     "text": [
      "23/10/07 12:46:52 WARN InstanceBuilder: Failed to load implementation from:dev.ludovic.netlib.blas.JNIBLAS\n",
      "23/10/07 12:46:52 WARN InstanceBuilder: Failed to load implementation from:dev.ludovic.netlib.blas.VectorBLAS\n",
      "                                                                                \r"
     ]
    }
   ],
   "source": [
    "assembler = VectorAssembler(inputCols=df.columns, outputCol=\"features\")\n",
    "df_vector = assembler.transform(df).select(\"features\")\n",
    "\n",
    "matrix = Correlation.corr(df_vector, \"features\")\n",
    "\n",
    "\n",
    "corr_matrix = matrix.head()[0].toArray()\n",
    "corr_df = pd.DataFrame(corr_matrix, index=df.columns, columns=df.columns)\n",
    "\n",
    "\n",
    "corr_df_rounded = corr_df.round(2)\n",
    "\n",
    "print(corr_df_rounded)"
   ]
  },
  {
   "cell_type": "code",
   "execution_count": 11,
   "id": "5c075c68",
   "metadata": {},
   "outputs": [],
   "source": [
    "pandas_df = df.toPandas()"
   ]
  },
  {
   "cell_type": "code",
   "execution_count": 12,
   "id": "704a818a",
   "metadata": {},
   "outputs": [
    {
     "data": {
      "image/png": "[encoded data removed]",
      "text/plain": [
       "<Figure size 640x480 with 1 Axes>"
      ]
     },
     "metadata": {},
     "output_type": "display_data"
    }
   ],
   "source": [
    "pandas_df['age'].plot.hist()\n",
    "plt.show()"
   ]
  },
  {
   "cell_type": "code",
   "execution_count": 13,
   "id": "d488fee9",
   "metadata": {},
   "outputs": [
    {
     "data": {
      "image/png": "[encoded data removed]",
      "text/plain": [
       "<Figure size 640x480 with 1 Axes>"
      ]
     },
     "metadata": {},
     "output_type": "display_data"
    }
   ],
   "source": [
    "pandas_df['age'].plot.density()\n",
    "plt.show()"
   ]
  },
  {
   "cell_type": "code",
   "execution_count": 14,
   "id": "e0353475",
   "metadata": {},
   "outputs": [
    {
     "data": {
      "image/png": "[encoded data removed]",
      "text/plain": [
       "<Figure size 640x480 with 1 Axes>"
      ]
     },
     "metadata": {},
     "output_type": "display_data"
    }
   ],
   "source": [
    "pandas_df['age'].plot.box()\n",
    "plt.show()"
   ]
  },
  {
   "cell_type": "code",
   "execution_count": 15,
   "id": "8ac4a888",
   "metadata": {},
   "outputs": [
    {
     "name": "stdout",
     "output_type": "stream",
     "text": [
      "For the feature height, No of Outliers is 901\n",
      "For the feature weight, No of Outliers is 2992\n",
      "Total number of unique outliers: 3742\n"
     ]
    }
   ],
   "source": [
    "def outliers(spark_df, columns, drop=False):\n",
    "    for each_feature in columns:\n",
    "        bounds = spark_df.approxQuantile(each_feature, [0.25, 0.75], 0.05)\n",
    "        Q1, Q3 = bounds\n",
    "        IQR = Q3 - Q1\n",
    "\n",
    "        outliers_condition = ~((spark_df[each_feature] >= Q1 - 1.5 * IQR) & (spark_df[each_feature] <= Q3 + 1.5 * IQR))\n",
    "        spark_df = spark_df.withColumn(f'{each_feature}_outlier', outliers_condition.cast('int'))\n",
    "\n",
    "        outliers_df = spark_df.filter(outliers_condition)\n",
    "        print(f'For the feature {each_feature}, No of Outliers is {outliers_df.count()}')\n",
    "\n",
    "    outlier_flag_sum = sum([F.col(f'{each_feature}_outlier') for each_feature in columns])\n",
    "    spark_df = spark_df.withColumn('outlier_flag_sum', outlier_flag_sum)\n",
    "    total_unique_outliers = spark_df.filter(spark_df['outlier_flag_sum'] > 0).count()\n",
    "    print(f'Total number of unique outliers: {total_unique_outliers}')\n",
    "\n",
    "    if drop:\n",
    "        non_outliers_condition = spark_df['outlier_flag_sum'] == 0\n",
    "        spark_df = spark_df.filter(non_outliers_condition)\n",
    "        print('Outliers removed.')\n",
    "    for each_feature in columns:\n",
    "        spark_df = spark_df.drop(f'{each_feature}_outlier')\n",
    "    spark_df = spark_df.drop('outlier_flag_sum')\n",
    "\n",
    "    return spark_df\n",
    "outliers_df = outliers(df, ['height', 'weight'], drop=False)"
   ]
  },
  {
   "cell_type": "code",
   "execution_count": 16,
   "id": "7aa84e14",
   "metadata": {},
   "outputs": [
    {
     "name": "stdout",
     "output_type": "stream",
     "text": [
      "                   0\n",
      "id           85816.0\n",
      "age             62.0\n",
      "gender           1.0\n",
      "height         167.0\n",
      "weight          74.0\n",
      "ap_hi           15.0\n",
      "ap_lo          -70.0\n",
      "cholesterol      1.0\n",
      "gluc             1.0\n",
      "smoke            0.0\n",
      "alco             0.0\n",
      "active           1.0\n",
      "cardio           1.0\n"
     ]
    }
   ],
   "source": [
    "negative_ap_lo_df = df.filter(df['ap_lo'] < 0)\n",
    "negative_ap_lo_pd = negative_ap_lo_df.toPandas()\n",
    "transposed_negative_ap_lo = negative_ap_lo_pd.transpose()\n",
    "print(transposed_negative_ap_lo)"
   ]
  },
  {
   "cell_type": "code",
   "execution_count": 17,
   "id": "f3794a03",
   "metadata": {},
   "outputs": [
    {
     "data": {
      "image/png": "[encoded data removed]",
      "text/plain": [
       "<Figure size 640x480 with 1 Axes>"
      ]
     },
     "metadata": {},
     "output_type": "display_data"
    }
   ],
   "source": [
    "heightArr = np.array(df.select('height').collect())\n",
    "plt.hist(heightArr, bins=30, density=True, alpha=0.5, color='blue')\n",
    "plt.show()"
   ]
  },
  {
   "cell_type": "code",
   "execution_count": 18,
   "id": "90a5c876",
   "metadata": {},
   "outputs": [
    {
     "data": {
      "image/png": "[encoded data removed]",
      "text/plain": [
       "<Figure size 640x480 with 1 Axes>"
      ]
     },
     "metadata": {},
     "output_type": "display_data"
    }
   ],
   "source": [
    "pandas_df['height'].plot.density()\n",
    "plt.show()"
   ]
  },
  {
   "cell_type": "code",
   "execution_count": 19,
   "id": "10b2879a",
   "metadata": {},
   "outputs": [
    {
     "data": {
      "image/png": "[encoded data removed]",
      "text/plain": [
       "<Figure size 1000x600 with 1 Axes>"
      ]
     },
     "metadata": {},
     "output_type": "display_data"
    }
   ],
   "source": [
    "plt.figure(figsize=(10, 6))\n",
    "sns.histplot(pandas_df['weight'], bins=30, kde=True)\n",
    "plt.title('Histogram of Weight')\n",
    "plt.xlabel('Weight')\n",
    "plt.ylabel('Frequency')\n",
    "plt.show()"
   ]
  },
  {
   "cell_type": "code",
   "execution_count": 20,
   "id": "0f4a3078",
   "metadata": {},
   "outputs": [
    {
     "data": {
      "image/png": "[encoded data removed]",
      "text/plain": [
       "<Figure size 1000x600 with 1 Axes>"
      ]
     },
     "metadata": {},
     "output_type": "display_data"
    }
   ],
   "source": [
    "#histogram graph of height\n",
    "\n",
    "plt.figure(figsize=(10, 6))\n",
    "sns.histplot(pandas_df['height'], bins=30, kde=True)\n",
    "plt.title('Histogram of height')\n",
    "plt.xlabel('height')\n",
    "plt.ylabel('Frequency')\n",
    "plt.show()"
   ]
  },
  {
   "cell_type": "code",
   "execution_count": 21,
   "id": "c3588f7f",
   "metadata": {},
   "outputs": [],
   "source": [
    "df = df.drop('id')"
   ]
  },
  {
   "cell_type": "code",
   "execution_count": 22,
   "id": "24094de9",
   "metadata": {},
   "outputs": [
    {
     "name": "stdout",
     "output_type": "stream",
     "text": [
      "root\n",
      " |-- age: integer (nullable = true)\n",
      " |-- gender: integer (nullable = true)\n",
      " |-- height: integer (nullable = true)\n",
      " |-- weight: double (nullable = true)\n",
      " |-- ap_hi: integer (nullable = true)\n",
      " |-- ap_lo: integer (nullable = true)\n",
      " |-- cholesterol: integer (nullable = true)\n",
      " |-- gluc: integer (nullable = true)\n",
      " |-- smoke: integer (nullable = true)\n",
      " |-- alco: integer (nullable = true)\n",
      " |-- active: integer (nullable = true)\n",
      " |-- cardio: integer (nullable = true)\n",
      "\n"
     ]
    }
   ],
   "source": [
    "df.printSchema()"
   ]
  },
  {
   "cell_type": "code",
   "execution_count": 23,
   "id": "4bf0af59",
   "metadata": {},
   "outputs": [
    {
     "name": "stdout",
     "output_type": "stream",
     "text": [
      "For the feature height, No of Outliers is 901\n",
      "For the feature weight, No of Outliers is 2992\n",
      "Total number of unique outliers: 3742\n",
      "Outliers removed.\n"
     ]
    },
    {
     "data": {
      "text/plain": [
       "DataFrame[age: int, gender: int, height: int, weight: double, ap_hi: int, ap_lo: int, cholesterol: int, gluc: int, smoke: int, alco: int, active: int, cardio: int]"
      ]
     },
     "execution_count": 23,
     "metadata": {},
     "output_type": "execute_result"
    }
   ],
   "source": [
    "outliers(df, ['height', 'weight'], drop=True)"
   ]
  },
  {
   "cell_type": "code",
   "execution_count": 24,
   "id": "c5356714",
   "metadata": {},
   "outputs": [],
   "source": [
    "weight_quantiles = df.approxQuantile(\"weight\", [0.005, 0.995], 0.0)\n",
    "\n",
    "df = df.filter((df['weight'] > weight_quantiles[0]) & (df['weight'] < weight_quantiles[1]))\n",
    "\n",
    "height_quantiles = df.approxQuantile(\"height\", [0.005, 0.995], 0.0)\n",
    "\n",
    "df = df.filter((df['height'] > height_quantiles[0]) & (df['height'] < height_quantiles[1]))"
   ]
  },
  {
   "cell_type": "code",
   "execution_count": 25,
   "id": "d84a1903",
   "metadata": {},
   "outputs": [
    {
     "name": "stdout",
     "output_type": "stream",
     "text": [
      "For the feature height, No of Outliers is 669\n",
      "For the feature weight, No of Outliers is 2356\n",
      "Total number of unique outliers: 2940\n",
      "The DataFrame has 68370 rows.\n"
     ]
    }
   ],
   "source": [
    "outliers(df, ['height', 'weight'], drop=False)\n",
    "num_rows = df.count()\n",
    "print(f'The DataFrame has {num_rows} rows.')"
   ]
  },
  {
   "cell_type": "code",
   "execution_count": 26,
   "id": "d47068a5",
   "metadata": {},
   "outputs": [],
   "source": [
    "pandas_df_free = df.toPandas()"
   ]
  },
  {
   "cell_type": "code",
   "execution_count": 27,
   "id": "283b063a",
   "metadata": {},
   "outputs": [
    {
     "data": {
      "image/png": "[encoded data removed]",
      "text/plain": [
       "<Figure size 1000x600 with 1 Axes>"
      ]
     },
     "metadata": {},
     "output_type": "display_data"
    }
   ],
   "source": [
    "plt.figure(figsize=(10, 6))\n",
    "sns.histplot(pandas_df_free['height'], bins=30, kde=True)\n",
    "plt.title('Histogram of Height')\n",
    "plt.xlabel('Height')\n",
    "plt.ylabel('Frequency')\n",
    "plt.show()"
   ]
  },
  {
   "cell_type": "code",
   "execution_count": 28,
   "id": "5da7ec3c",
   "metadata": {},
   "outputs": [
    {
     "data": {
      "image/png": "[encoded data removed]",
      "text/plain": [
       "<Figure size 1000x600 with 1 Axes>"
      ]
     },
     "metadata": {},
     "output_type": "display_data"
    }
   ],
   "source": [
    "plt.figure(figsize=(10, 6))\n",
    "sns.histplot(pandas_df_free['weight'], bins=30, kde=True)\n",
    "plt.title('Histogram of Weight')\n",
    "plt.xlabel('Weight')\n",
    "plt.ylabel('Frequency')\n",
    "plt.show()"
   ]
  },
  {
   "cell_type": "code",
   "execution_count": 29,
   "id": "55d79cf5",
   "metadata": {},
   "outputs": [
    {
     "name": "stdout",
     "output_type": "stream",
     "text": [
      "+---+------+------+------+-----+-----+-----------+----+-----+----+------+------+\n",
      "|age|gender|height|weight|ap_hi|ap_lo|cholesterol|gluc|smoke|alco|active|cardio|\n",
      "+---+------+------+------+-----+-----+-----------+----+-----+----+------+------+\n",
      "| 42|     1|   165|  78.0| -100|   80|          2|   1|    0|   0|     1|     0|\n",
      "| 61|     2|   161|  90.0| -115|   70|          1|   1|    0|   0|     1|     0|\n",
      "| 43|     1|   153|  54.0| -100|   70|          1|   1|    0|   0|     1|     0|\n",
      "| 50|     1|   162|  74.0| -140|   90|          1|   1|    0|   0|     1|     1|\n",
      "| 40|     2|   168|  50.0| -120|   80|          2|   1|    0|   0|     0|     1|\n",
      "| 64|     2|   168|  59.0| -150|   80|          1|   1|    0|   0|     1|     1|\n",
      "| 65|     2|   160|  59.0| -120|   80|          1|   1|    0|   0|     0|     0|\n",
      "| 62|     1|   167|  74.0|   15|  -70|          1|   1|    0|   0|     1|     1|\n",
      "+---+------+------+------+-----+-----+-----------+----+-----+----+------+------+\n",
      "\n",
      "Total number of records with negative blood pressure: 8\n"
     ]
    }
   ],
   "source": [
    "df.filter((df['ap_hi'] < 0) | (df['ap_lo'] < 0)).show()\n",
    "\n",
    "negative_bp_df = df.filter((df['ap_hi'] < 0) | (df['ap_lo'] < 0))\n",
    "\n",
    "print(f\"Total number of records with negative blood pressure: {negative_bp_df.count()}\")\n",
    "\n",
    "outlier_free_df = df.withColumn('ap_hi', F.abs(df['ap_hi'])).\\\n",
    "                withColumn('ap_lo', F.abs(df['ap_lo']))\n",
    "\n",
    "\n"
   ]
  },
  {
   "cell_type": "code",
   "execution_count": 30,
   "id": "443f95bf",
   "metadata": {},
   "outputs": [
    {
     "name": "stdout",
     "output_type": "stream",
     "text": [
      "Total number of records with negative blood pressure:       0\n"
     ]
    }
   ],
   "source": [
    "print(f\"Total number of records with negative blood pressure: \\\n",
    "      {outlier_free_df.filter((outlier_free_df['ap_hi'] < 0) | (outlier_free_df['ap_lo'] < 0)).count()}\")\n"
   ]
  },
  {
   "cell_type": "code",
   "execution_count": 31,
   "id": "94279b79",
   "metadata": {},
   "outputs": [
    {
     "name": "stdout",
     "output_type": "stream",
     "text": [
      "Records with abnormal pairs in blood pressure attributes:\n",
      "+---+------+------+------+-----+-----+-----------+----+-----+----+------+------+\n",
      "|age|gender|height|weight|ap_hi|ap_lo|cholesterol|gluc|smoke|alco|active|cardio|\n",
      "+---+------+------+------+-----+-----+-----------+----+-----+----+------+------+\n",
      "| 48|     2|   183|  98.0|  160| 1100|          1|   2|    1|   0|     1|     1|\n",
      "| 60|     2|   157|  60.0|  160| 1000|          2|   1|    0|   0|     0|     1|\n",
      "| 50|     1|   150|  83.0|  140|  800|          1|   1|    0|   0|     1|     1|\n",
      "| 64|     1|   176|  63.0|  160| 1000|          2|   2|    0|   0|     0|     1|\n",
      "| 51|     1|   154|  81.0|  140| 1000|          2|   1|    0|   0|     1|     1|\n",
      "| 42|     1|   150|  95.0|  150| 1033|          1|   1|    0|   0|     1|     1|\n",
      "| 52|     1|   156|  65.0|  120|  150|          2|   1|    0|   0|     1|     0|\n",
      "| 56|     2|   173| 101.0|  200| 1000|          1|   1|    0|   0|     1|     1|\n",
      "| 58|     1|   168|  78.0|   14|   90|          2|   1|    0|   0|     1|     1|\n",
      "| 52|     1|   165|  92.0|  140| 1000|          1|   1|    1|   0|     1|     1|\n",
      "| 56|     2|   169|  68.0|   70|  110|          1|   1|    0|   0|     1|     0|\n",
      "| 50|     1|   166|  57.0|  190| 1100|          1|   1|    0|   0|     1|     1|\n",
      "| 60|     1|   156|  72.0|  180| 1000|          2|   1|    0|   0|     0|     1|\n",
      "| 64|     2|   170|  74.0|  140| 1000|          1|   1|    0|   0|     1|     1|\n",
      "| 48|     2|   170|  84.0|  150| 1100|          1|   1|    1|   0|     0|     1|\n",
      "| 60|     2|   175|  70.0|   14|   90|          3|   1|    0|   0|     1|     1|\n",
      "| 50|     1|   172|  65.0|   11|   80|          1|   3|    0|   0|     1|     0|\n",
      "| 58|     2|   168|  82.0|  160| 1000|          2|   1|    0|   0|     0|     1|\n",
      "| 44|     1|   167|  71.0|  150| 1001|          2|   1|    0|   0|     1|     1|\n",
      "| 58|     2|   169|  76.0|  140| 1000|          3|   3|    1|   0|     1|     1|\n",
      "+---+------+------+------+-----+-----+-----------+----+-----+----+------+------+\n",
      "only showing top 20 rows\n",
      "\n",
      "Total number of abnormal pairs:\n",
      "1189\n"
     ]
    }
   ],
   "source": [
    "print(\"Records with abnormal pairs in blood pressure attributes:\")\n",
    "abnormal_df = df.filter(df['ap_hi'] < df['ap_lo'])\n",
    "abnormal_df.show()\n",
    "print(\"Total number of abnormal pairs:\")\n",
    "print(abnormal_df.count())"
   ]
  },
  {
   "cell_type": "code",
   "execution_count": 32,
   "id": "3e58a62d",
   "metadata": {},
   "outputs": [
    {
     "data": {
      "text/plain": [
       "68370"
      ]
     },
     "execution_count": 32,
     "metadata": {},
     "output_type": "execute_result"
    }
   ],
   "source": [
    "df.count()"
   ]
  },
  {
   "cell_type": "code",
   "execution_count": 33,
   "id": "4cac451b",
   "metadata": {},
   "outputs": [
    {
     "data": {
      "text/plain": [
       "67181"
      ]
     },
     "execution_count": 33,
     "metadata": {},
     "output_type": "execute_result"
    }
   ],
   "source": [
    "df = df.filter(df['ap_hi'] >= df['ap_lo'])\n",
    "df.count()"
   ]
  },
  {
   "cell_type": "code",
   "execution_count": 34,
   "id": "ca920042",
   "metadata": {},
   "outputs": [
    {
     "name": "stdout",
     "output_type": "stream",
     "text": [
      "+---+------+------+------+-----+-----+-----------+----+-----+----+------+------+\n",
      "|age|gender|height|weight|ap_hi|ap_lo|cholesterol|gluc|smoke|alco|active|cardio|\n",
      "+---+------+------+------+-----+-----+-----------+----+-----+----+------+------+\n",
      "| 50|     2|   168|  62.0|  110|   80|          1|   1|    0|   0|     1|     0|\n",
      "| 55|     1|   156|  85.0|  140|   90|          3|   1|    0|   0|     1|     1|\n",
      "| 52|     1|   165|  64.0|  130|   70|          3|   1|    0|   0|     0|     1|\n",
      "| 48|     2|   169|  82.0|  150|  100|          1|   1|    0|   0|     1|     1|\n",
      "| 48|     1|   156|  56.0|  100|   60|          1|   1|    0|   0|     0|     0|\n",
      "| 60|     1|   151|  67.0|  120|   80|          2|   2|    0|   0|     0|     0|\n",
      "| 61|     1|   157|  93.0|  130|   80|          3|   1|    0|   0|     1|     0|\n",
      "| 62|     2|   178|  95.0|  130|   90|          3|   3|    0|   0|     1|     1|\n",
      "+---+------+------+------+-----+-----+-----------+----+-----+----+------+------+\n",
      "only showing top 8 rows\n",
      "\n"
     ]
    },
    {
     "data": {
      "text/plain": [
       "67143"
      ]
     },
     "execution_count": 34,
     "metadata": {},
     "output_type": "execute_result"
    }
   ],
   "source": [
    "#limmer the upper bound of high and low blood pressure\n",
    "\n",
    "# Keep only rows where ap_hi <= 250 and ap_lo <= 200\n",
    "df = df.filter((df['ap_hi'] <= 250) & (df['ap_lo'] <= 200))\n",
    "df.show(8)\n",
    "df.count()"
   ]
  },
  {
   "cell_type": "code",
   "execution_count": 35,
   "id": "d03e795c",
   "metadata": {},
   "outputs": [
    {
     "name": "stdout",
     "output_type": "stream",
     "text": [
      "+---+------+------+------+-----+-----+-----------+----+-----+----+------+------+\n",
      "|age|gender|height|weight|ap_hi|ap_lo|cholesterol|gluc|smoke|alco|active|cardio|\n",
      "+---+------+------+------+-----+-----+-----------+----+-----+----+------+------+\n",
      "| 58|     1|   146|  52.0|  120|   80|          1|   1|    0|   0|     1|     0|\n",
      "| 58|     1|   146|  52.0|  120|   80|          1|   1|    0|   0|     1|     1|\n",
      "| 58|     1|   146|  52.0|  120|   80|          1|   1|    0|   0|     1|     0|\n",
      "| 56|     1|   146|  54.0|  110|   70|          1|   1|    0|   0|     1|     0|\n",
      "| 56|     1|   146|  54.0|  120|   80|          1|   1|    0|   0|     1|     0|\n",
      "+---+------+------+------+-----+-----+-----------+----+-----+----+------+------+\n",
      "only showing top 5 rows\n",
      "\n"
     ]
    }
   ],
   "source": [
    "from pyspark.sql import Window\n",
    "# Find duplicate rows\n",
    "\n",
    "window_spec = Window.partitionBy('gender', 'height', 'weight', 'age').orderBy('gender', 'height', 'weight', 'age')\n",
    "duplicated = df.withColumn('count', F.count('*').over(window_spec)).filter('count > 1').drop('count')\n",
    "duplicated.show(5)\n"
   ]
  },
  {
   "cell_type": "code",
   "execution_count": 36,
   "id": "8f93bfce",
   "metadata": {},
   "outputs": [],
   "source": [
    "df =df.toPandas().drop_duplicates(keep='first')\n",
    "\n",
    "df = spark.createDataFrame(df)"
   ]
  },
  {
   "cell_type": "code",
   "execution_count": 37,
   "id": "0678944f",
   "metadata": {},
   "outputs": [
    {
     "data": {
      "text/plain": [
       "63331"
      ]
     },
     "execution_count": 37,
     "metadata": {},
     "output_type": "execute_result"
    }
   ],
   "source": [
    "df.count()"
   ]
  },
  {
   "cell_type": "code",
   "execution_count": 38,
   "id": "fbe2e168",
   "metadata": {},
   "outputs": [
    {
     "name": "stdout",
     "output_type": "stream",
     "text": [
      "+---+------+------+------+-----+-----+-----------+----+-----+----+------+------+\n",
      "|age|gender|height|weight|ap_hi|ap_lo|cholesterol|gluc|smoke|alco|active|cardio|\n",
      "+---+------+------+------+-----+-----+-----------+----+-----+----+------+------+\n",
      "| 50|     2|   168|  62.0|  110|   80|          1|   1|    0|   0|     1|     0|\n",
      "| 55|     1|   156|  85.0|  140|   90|          3|   1|    0|   0|     1|     1|\n",
      "| 52|     1|   165|  64.0|  130|   70|          3|   1|    0|   0|     0|     1|\n",
      "| 48|     2|   169|  82.0|  150|  100|          1|   1|    0|   0|     1|     1|\n",
      "| 48|     1|   156|  56.0|  100|   60|          1|   1|    0|   0|     0|     0|\n",
      "| 60|     1|   151|  67.0|  120|   80|          2|   2|    0|   0|     0|     0|\n",
      "| 61|     1|   157|  93.0|  130|   80|          3|   1|    0|   0|     1|     0|\n",
      "| 62|     2|   178|  95.0|  130|   90|          3|   3|    0|   0|     1|     1|\n",
      "| 48|     1|   158|  71.0|  110|   70|          1|   1|    0|   0|     1|     0|\n",
      "| 54|     1|   164|  68.0|  110|   60|          1|   1|    0|   0|     0|     0|\n",
      "| 62|     1|   169|  80.0|  120|   80|          1|   1|    0|   0|     1|     0|\n",
      "| 52|     2|   173|  60.0|  120|   80|          1|   1|    0|   0|     1|     0|\n",
      "| 41|     2|   165|  60.0|  120|   80|          1|   1|    0|   0|     0|     0|\n",
      "| 54|     1|   158|  78.0|  110|   70|          1|   1|    0|   0|     1|     0|\n",
      "| 40|     2|   181|  95.0|  130|   90|          1|   1|    1|   1|     1|     0|\n",
      "| 46|     2|   172| 112.0|  120|   80|          1|   1|    0|   0|     0|     1|\n",
      "| 58|     1|   170|  75.0|  130|   70|          1|   1|    0|   0|     0|     0|\n",
      "| 46|     1|   158|  52.0|  110|   70|          1|   3|    0|   0|     1|     0|\n",
      "| 48|     1|   154|  68.0|  100|   70|          1|   1|    0|   0|     0|     0|\n",
      "| 60|     2|   162|  56.0|  120|   70|          1|   1|    1|   0|     1|     0|\n",
      "+---+------+------+------+-----+-----+-----------+----+-----+----+------+------+\n",
      "only showing top 20 rows\n",
      "\n"
     ]
    }
   ],
   "source": [
    "df.show()"
   ]
  },
  {
   "cell_type": "code",
   "execution_count": 39,
   "id": "2268c3b3",
   "metadata": {},
   "outputs": [
    {
     "name": "stdout",
     "output_type": "stream",
     "text": [
      "+---+------+------+------+-----+-----+-----------+----+-----+----+------+------+-----+\n",
      "|age|gender|height|weight|ap_hi|ap_lo|cholesterol|gluc|smoke|alco|active|cardio|  BMI|\n",
      "+---+------+------+------+-----+-----+-----------+----+-----+----+------+------+-----+\n",
      "| 50|     2|   168|  62.0|  110|   80|          1|   1|    0|   0|     1|     0|21.97|\n",
      "| 55|     1|   156|  85.0|  140|   90|          3|   1|    0|   0|     1|     1|34.93|\n",
      "| 52|     1|   165|  64.0|  130|   70|          3|   1|    0|   0|     0|     1|23.51|\n",
      "| 48|     2|   169|  82.0|  150|  100|          1|   1|    0|   0|     1|     1|28.71|\n",
      "| 48|     1|   156|  56.0|  100|   60|          1|   1|    0|   0|     0|     0|23.01|\n",
      "+---+------+------+------+-----+-----+-----------+----+-----+----+------+------+-----+\n",
      "only showing top 5 rows\n",
      "\n"
     ]
    }
   ],
   "source": [
    "from pyspark.sql.functions import col\n",
    "from pyspark.sql.functions import round\n",
    "\n",
    "df = df.withColumn('BMI', \n",
    "    col('weight') / ((col('height') / 100) ** 2)\n",
    ")\n",
    "df = df.withColumn('BMI', \n",
    "    round(col('BMI'), 2)\n",
    ")\n",
    "df.show(5)\n"
   ]
  },
  {
   "cell_type": "code",
   "execution_count": 40,
   "id": "502ecb97",
   "metadata": {},
   "outputs": [
    {
     "data": {
      "image/png": "[encoded data removed]",
      "text/plain": [
       "<Figure size 1000x600 with 1 Axes>"
      ]
     },
     "metadata": {},
     "output_type": "display_data"
    }
   ],
   "source": [
    "\n",
    "bmi_series = df.select(\"BMI\").toPandas()[\"BMI\"]\n",
    "\n",
    "plt.figure(figsize=(10, 6))\n",
    "sns.histplot(bmi_series, kde=True, bins=30)\n",
    "plt.title('Distribution of BMI')\n",
    "plt.xlabel('BMI')\n",
    "plt.ylabel('Frequency')\n",
    "plt.show()\n"
   ]
  },
  {
   "cell_type": "code",
   "execution_count": 41,
   "id": "364a8460",
   "metadata": {},
   "outputs": [
    {
     "name": "stdout",
     "output_type": "stream",
     "text": [
      "+---+------+------+------+-----+-----+-----------+----+-----+----+------+------+-----+------------+\n",
      "|age|gender|height|weight|ap_hi|ap_lo|cholesterol|gluc|smoke|alco|active|cardio|  BMI|BMI_Category|\n",
      "+---+------+------+------+-----+-----+-----------+----+-----+----+------+------+-----+------------+\n",
      "| 50|     2|   168|  62.0|  110|   80|          1|   1|    0|   0|     1|     0|21.97|      Normal|\n",
      "| 55|     1|   156|  85.0|  140|   90|          3|   1|    0|   0|     1|     1|34.93|       Obese|\n",
      "| 52|     1|   165|  64.0|  130|   70|          3|   1|    0|   0|     0|     1|23.51|      Normal|\n",
      "| 48|     2|   169|  82.0|  150|  100|          1|   1|    0|   0|     1|     1|28.71|  Overweight|\n",
      "| 48|     1|   156|  56.0|  100|   60|          1|   1|    0|   0|     0|     0|23.01|      Normal|\n",
      "| 60|     1|   151|  67.0|  120|   80|          2|   2|    0|   0|     0|     0|29.38|  Overweight|\n",
      "| 61|     1|   157|  93.0|  130|   80|          3|   1|    0|   0|     1|     0|37.73|       Obese|\n",
      "| 62|     2|   178|  95.0|  130|   90|          3|   3|    0|   0|     1|     1|29.98|       Obese|\n",
      "| 48|     1|   158|  71.0|  110|   70|          1|   1|    0|   0|     1|     0|28.44|  Overweight|\n",
      "| 54|     1|   164|  68.0|  110|   60|          1|   1|    0|   0|     0|     0|25.28|  Overweight|\n",
      "| 62|     1|   169|  80.0|  120|   80|          1|   1|    0|   0|     1|     0|28.01|  Overweight|\n",
      "| 52|     2|   173|  60.0|  120|   80|          1|   1|    0|   0|     1|     0|20.05|      Normal|\n",
      "| 41|     2|   165|  60.0|  120|   80|          1|   1|    0|   0|     0|     0|22.04|      Normal|\n",
      "| 54|     1|   158|  78.0|  110|   70|          1|   1|    0|   0|     1|     0|31.24|       Obese|\n",
      "| 40|     2|   181|  95.0|  130|   90|          1|   1|    1|   1|     1|     0| 29.0|  Overweight|\n",
      "| 46|     2|   172| 112.0|  120|   80|          1|   1|    0|   0|     0|     1|37.86|       Obese|\n",
      "| 58|     1|   170|  75.0|  130|   70|          1|   1|    0|   0|     0|     0|25.95|  Overweight|\n",
      "| 46|     1|   158|  52.0|  110|   70|          1|   3|    0|   0|     1|     0|20.83|      Normal|\n",
      "| 48|     1|   154|  68.0|  100|   70|          1|   1|    0|   0|     0|     0|28.67|  Overweight|\n",
      "| 60|     2|   162|  56.0|  120|   70|          1|   1|    1|   0|     1|     0|21.34|      Normal|\n",
      "+---+------+------+------+-----+-----+-----------+----+-----+----+------+------+-----+------------+\n",
      "only showing top 20 rows\n",
      "\n"
     ]
    }
   ],
   "source": [
    "from pyspark.sql.functions import udf\n",
    "from pyspark.sql.types import StringType\n",
    "\n",
    "def categorize_bmi(bmi):\n",
    "    if bmi < 18.5:\n",
    "        return 'Underweight'\n",
    "    elif 18.5 <= bmi < 24.9:\n",
    "        return 'Normal'\n",
    "    elif 25 <= bmi < 29.9:\n",
    "        return 'Overweight'\n",
    "    else:\n",
    "        return 'Obese'\n",
    "\n",
    "\n",
    "categorize_bmi_udf = udf(categorize_bmi, StringType())\n",
    "df = df.withColumn(\"BMI_Category\", categorize_bmi_udf(df[\"BMI\"]))\n",
    "df.show()\n"
   ]
  },
  {
   "cell_type": "code",
   "execution_count": 42,
   "id": "9b044e8a",
   "metadata": {},
   "outputs": [
    {
     "ename": "PySparkTypeError",
     "evalue": "[NOT_COLUMN_OR_STR] Argument `col` should be a Column or str, got float64.",
     "output_type": "error",
     "traceback": [
      "\u001b[0;31m---------------------------------------------------------------------------\u001b[0m",
      "\u001b[0;31mPySparkTypeError\u001b[0m                          Traceback (most recent call last)",
      "Cell \u001b[0;32mIn[42], line 22\u001b[0m\n\u001b[1;32m     20\u001b[0m \u001b[38;5;66;03m# Annotating with percentage values\u001b[39;00m\n\u001b[1;32m     21\u001b[0m \u001b[38;5;28;01mfor\u001b[39;00m idx, (category, row) \u001b[38;5;129;01min\u001b[39;00m \u001b[38;5;28menumerate\u001b[39m(count_pdf\u001b[38;5;241m.\u001b[39miterrows()):\n\u001b[0;32m---> 22\u001b[0m     ax\u001b[38;5;241m.\u001b[39mtext(idx, row[\u001b[38;5;124m\"\u001b[39m\u001b[38;5;124mpercentage\u001b[39m\u001b[38;5;124m\"\u001b[39m], \u001b[38;5;124mf\u001b[39m\u001b[38;5;124m\"\u001b[39m\u001b[38;5;132;01m{\u001b[39;00m\u001b[38;5;28mstr\u001b[39m(\u001b[38;5;28mround\u001b[39m(row[\u001b[38;5;124m'\u001b[39m\u001b[38;5;124mpercentage\u001b[39m\u001b[38;5;124m'\u001b[39m],\u001b[38;5;250m \u001b[39m\u001b[38;5;241m2\u001b[39m))\u001b[38;5;132;01m}\u001b[39;00m\u001b[38;5;124m% (\u001b[39m\u001b[38;5;132;01m{\u001b[39;00mrow[\u001b[38;5;124m'\u001b[39m\u001b[38;5;124mcount\u001b[39m\u001b[38;5;124m'\u001b[39m]\u001b[38;5;132;01m}\u001b[39;00m\u001b[38;5;124m)\u001b[39m\u001b[38;5;124m\"\u001b[39m)\n\u001b[1;32m     24\u001b[0m plt\u001b[38;5;241m.\u001b[39mshow()\n",
      "File \u001b[0;32m~/anaconda3/lib/python3.11/site-packages/pyspark/sql/utils.py:174\u001b[0m, in \u001b[0;36mtry_remote_functions.<locals>.wrapped\u001b[0;34m(*args, **kwargs)\u001b[0m\n\u001b[1;32m    172\u001b[0m     \u001b[38;5;28;01mreturn\u001b[39;00m \u001b[38;5;28mgetattr\u001b[39m(functions, f\u001b[38;5;241m.\u001b[39m\u001b[38;5;18m__name__\u001b[39m)(\u001b[38;5;241m*\u001b[39margs, \u001b[38;5;241m*\u001b[39m\u001b[38;5;241m*\u001b[39mkwargs)\n\u001b[1;32m    173\u001b[0m \u001b[38;5;28;01melse\u001b[39;00m:\n\u001b[0;32m--> 174\u001b[0m     \u001b[38;5;28;01mreturn\u001b[39;00m f(\u001b[38;5;241m*\u001b[39margs, \u001b[38;5;241m*\u001b[39m\u001b[38;5;241m*\u001b[39mkwargs)\n",
      "File \u001b[0;32m~/anaconda3/lib/python3.11/site-packages/pyspark/sql/functions.py:4827\u001b[0m, in \u001b[0;36mround\u001b[0;34m(col, scale)\u001b[0m\n\u001b[1;32m   4799\u001b[0m \u001b[38;5;129m@try_remote_functions\u001b[39m\n\u001b[1;32m   4800\u001b[0m \u001b[38;5;28;01mdef\u001b[39;00m \u001b[38;5;21mround\u001b[39m(col: \u001b[38;5;124m\"\u001b[39m\u001b[38;5;124mColumnOrName\u001b[39m\u001b[38;5;124m\"\u001b[39m, scale: \u001b[38;5;28mint\u001b[39m \u001b[38;5;241m=\u001b[39m \u001b[38;5;241m0\u001b[39m) \u001b[38;5;241m-\u001b[39m\u001b[38;5;241m>\u001b[39m Column:\n\u001b[1;32m   4801\u001b[0m \u001b[38;5;250m    \u001b[39m\u001b[38;5;124;03m\"\"\"\u001b[39;00m\n\u001b[1;32m   4802\u001b[0m \u001b[38;5;124;03m    Round the given value to `scale` decimal places using HALF_UP rounding mode if `scale` >= 0\u001b[39;00m\n\u001b[1;32m   4803\u001b[0m \u001b[38;5;124;03m    or at integral part when `scale` < 0.\u001b[39;00m\n\u001b[0;32m   (...)\u001b[0m\n\u001b[1;32m   4825\u001b[0m \u001b[38;5;124;03m    [Row(r=3.0)]\u001b[39;00m\n\u001b[1;32m   4826\u001b[0m \u001b[38;5;124;03m    \"\"\"\u001b[39;00m\n\u001b[0;32m-> 4827\u001b[0m     \u001b[38;5;28;01mreturn\u001b[39;00m _invoke_function(\u001b[38;5;124m\"\u001b[39m\u001b[38;5;124mround\u001b[39m\u001b[38;5;124m\"\u001b[39m, _to_java_column(col), scale)\n",
      "File \u001b[0;32m~/anaconda3/lib/python3.11/site-packages/pyspark/sql/column.py:65\u001b[0m, in \u001b[0;36m_to_java_column\u001b[0;34m(col)\u001b[0m\n\u001b[1;32m     63\u001b[0m     jcol \u001b[38;5;241m=\u001b[39m _create_column_from_name(col)\n\u001b[1;32m     64\u001b[0m \u001b[38;5;28;01melse\u001b[39;00m:\n\u001b[0;32m---> 65\u001b[0m     \u001b[38;5;28;01mraise\u001b[39;00m PySparkTypeError(\n\u001b[1;32m     66\u001b[0m         error_class\u001b[38;5;241m=\u001b[39m\u001b[38;5;124m\"\u001b[39m\u001b[38;5;124mNOT_COLUMN_OR_STR\u001b[39m\u001b[38;5;124m\"\u001b[39m,\n\u001b[1;32m     67\u001b[0m         message_parameters\u001b[38;5;241m=\u001b[39m{\u001b[38;5;124m\"\u001b[39m\u001b[38;5;124marg_name\u001b[39m\u001b[38;5;124m\"\u001b[39m: \u001b[38;5;124m\"\u001b[39m\u001b[38;5;124mcol\u001b[39m\u001b[38;5;124m\"\u001b[39m, \u001b[38;5;124m\"\u001b[39m\u001b[38;5;124marg_type\u001b[39m\u001b[38;5;124m\"\u001b[39m: \u001b[38;5;28mtype\u001b[39m(col)\u001b[38;5;241m.\u001b[39m\u001b[38;5;18m__name__\u001b[39m},\n\u001b[1;32m     68\u001b[0m     )\n\u001b[1;32m     69\u001b[0m \u001b[38;5;28;01mreturn\u001b[39;00m jcol\n",
      "\u001b[0;31mPySparkTypeError\u001b[0m: [NOT_COLUMN_OR_STR] Argument `col` should be a Column or str, got float64."
     ]
    },
    {
     "data": {
      "image/png": "[encoded data removed]",
      "text/plain": [
       "<Figure size 640x480 with 1 Axes>"
      ]
     },
     "metadata": {},
     "output_type": "display_data"
    }
   ],
   "source": [
    "from pyspark.sql.functions import count, lit\n",
    "\n",
    "# 1. Get frequency counts of each category\n",
    "count_df = df.groupBy(\"BMI_Category\").agg(count(\"*\").alias(\"count\")).orderBy(\"BMI_Category\")\n",
    "\n",
    "# Convert to Pandas DataFrame for further processing\n",
    "count_pdf = count_df.toPandas()\n",
    "count_pdf.set_index(\"BMI_Category\", inplace=True)\n",
    "\n",
    "# 2. Convert to percentages\n",
    "total = df.count()\n",
    "count_pdf[\"percentage\"] = (count_pdf[\"count\"] / total) * 100\n",
    "\n",
    "# 3. Plotting\n",
    "ax = count_pdf[\"percentage\"].plot(kind='bar')\n",
    "plt.title('Distribution of BMI Categories')\n",
    "plt.xlabel('BMI Category')\n",
    "plt.ylabel('Percentage (%)')\n",
    "\n",
    "# Annotating with percentage values\n",
    "for idx, (category, row) in enumerate(count_pdf.iterrows()):\n",
    "    ax.text(idx, row[\"percentage\"], f\"{str(round(row['percentage'], 2))}% ({row['count']})\")\n",
    "\n",
    "plt.show()\n"
   ]
  },
  {
   "cell_type": "code",
   "execution_count": 43,
   "id": "212471cb",
   "metadata": {},
   "outputs": [
    {
     "name": "stdout",
     "output_type": "stream",
     "text": [
      "+---+------+------+------+-----+-----+-----------+----+-----+----+------+------+-----+------------+---------+\n",
      "|age|gender|height|weight|ap_hi|ap_lo|cholesterol|gluc|smoke|alco|active|cardio|  BMI|BMI_Category|age_group|\n",
      "+---+------+------+------+-----+-----+-----------+----+-----+----+------+------+-----+------------+---------+\n",
      "| 50|     2|   168|  62.0|  110|   80|          1|   1|    0|   0|     1|     0|21.97|      Normal|    50-60|\n",
      "| 55|     1|   156|  85.0|  140|   90|          3|   1|    0|   0|     1|     1|34.93|       Obese|    50-60|\n",
      "| 52|     1|   165|  64.0|  130|   70|          3|   1|    0|   0|     0|     1|23.51|      Normal|    50-60|\n",
      "| 48|     2|   169|  82.0|  150|  100|          1|   1|    0|   0|     1|     1|28.71|  Overweight|    40-50|\n",
      "| 48|     1|   156|  56.0|  100|   60|          1|   1|    0|   0|     0|     0|23.01|      Normal|    40-50|\n",
      "| 60|     1|   151|  67.0|  120|   80|          2|   2|    0|   0|     0|     0|29.38|  Overweight| Above 60|\n",
      "| 61|     1|   157|  93.0|  130|   80|          3|   1|    0|   0|     1|     0|37.73|       Obese| Above 60|\n",
      "| 62|     2|   178|  95.0|  130|   90|          3|   3|    0|   0|     1|     1|29.98|       Obese| Above 60|\n",
      "| 48|     1|   158|  71.0|  110|   70|          1|   1|    0|   0|     1|     0|28.44|  Overweight|    40-50|\n",
      "| 54|     1|   164|  68.0|  110|   60|          1|   1|    0|   0|     0|     0|25.28|  Overweight|    50-60|\n",
      "| 62|     1|   169|  80.0|  120|   80|          1|   1|    0|   0|     1|     0|28.01|  Overweight| Above 60|\n",
      "| 52|     2|   173|  60.0|  120|   80|          1|   1|    0|   0|     1|     0|20.05|      Normal|    50-60|\n",
      "| 41|     2|   165|  60.0|  120|   80|          1|   1|    0|   0|     0|     0|22.04|      Normal|    40-50|\n",
      "| 54|     1|   158|  78.0|  110|   70|          1|   1|    0|   0|     1|     0|31.24|       Obese|    50-60|\n",
      "| 40|     2|   181|  95.0|  130|   90|          1|   1|    1|   1|     1|     0| 29.0|  Overweight|    40-50|\n",
      "| 46|     2|   172| 112.0|  120|   80|          1|   1|    0|   0|     0|     1|37.86|       Obese|    40-50|\n",
      "| 58|     1|   170|  75.0|  130|   70|          1|   1|    0|   0|     0|     0|25.95|  Overweight|    50-60|\n",
      "| 46|     1|   158|  52.0|  110|   70|          1|   3|    0|   0|     1|     0|20.83|      Normal|    40-50|\n",
      "| 48|     1|   154|  68.0|  100|   70|          1|   1|    0|   0|     0|     0|28.67|  Overweight|    40-50|\n",
      "| 60|     2|   162|  56.0|  120|   70|          1|   1|    1|   0|     1|     0|21.34|      Normal| Above 60|\n",
      "+---+------+------+------+-----+-----+-----------+----+-----+----+------+------+-----+------------+---------+\n",
      "only showing top 20 rows\n",
      "\n"
     ]
    }
   ],
   "source": [
    "from pyspark.sql.functions import udf\n",
    "from pyspark.sql.types import StringType\n",
    "\n",
    "# Define the age grouping function\n",
    "def age_grouping(age):\n",
    "    if age < 40:\n",
    "        return \"Below 40\"\n",
    "    elif 40 <= age < 50:\n",
    "        return \"40-50\"\n",
    "    elif 50 <= age < 60:\n",
    "        return \"50-60\"\n",
    "    else:\n",
    "        return \"Above 60\"\n",
    "\n",
    "# Convert the Python function to a UDF\n",
    "age_grouping_udf = udf(age_grouping, StringType())\n",
    "\n",
    "# Apply the UDF to the DataFrame\n",
    "df = df.withColumn(\"age_group\", age_grouping_udf(df[\"age\"]))\n",
    "\n",
    "# Show the DataFrame\n",
    "df.show()\n",
    "\n"
   ]
  },
  {
   "cell_type": "code",
   "execution_count": 44,
   "id": "afbde169",
   "metadata": {},
   "outputs": [
    {
     "ename": "PySparkTypeError",
     "evalue": "[NOT_COLUMN_OR_STR] Argument `col` should be a Column or str, got float64.",
     "output_type": "error",
     "traceback": [
      "\u001b[0;31m---------------------------------------------------------------------------\u001b[0m",
      "\u001b[0;31mPySparkTypeError\u001b[0m                          Traceback (most recent call last)",
      "Cell \u001b[0;32mIn[44], line 12\u001b[0m\n\u001b[1;32m     10\u001b[0m plt\u001b[38;5;241m.\u001b[39mylabel(\u001b[38;5;124m'\u001b[39m\u001b[38;5;124mPercentage (\u001b[39m\u001b[38;5;124m%\u001b[39m\u001b[38;5;124m)\u001b[39m\u001b[38;5;124m'\u001b[39m)\n\u001b[1;32m     11\u001b[0m \u001b[38;5;28;01mfor\u001b[39;00m idx, (category, row) \u001b[38;5;129;01min\u001b[39;00m \u001b[38;5;28menumerate\u001b[39m(count_pdf\u001b[38;5;241m.\u001b[39miterrows()):\n\u001b[0;32m---> 12\u001b[0m     ax\u001b[38;5;241m.\u001b[39mtext(idx, row[\u001b[38;5;124m\"\u001b[39m\u001b[38;5;124mpercentage\u001b[39m\u001b[38;5;124m\"\u001b[39m], \u001b[38;5;124mf\u001b[39m\u001b[38;5;124m\"\u001b[39m\u001b[38;5;132;01m{\u001b[39;00m\u001b[38;5;28mstr\u001b[39m(\u001b[38;5;28mround\u001b[39m(row[\u001b[38;5;124m'\u001b[39m\u001b[38;5;124mpercentage\u001b[39m\u001b[38;5;124m'\u001b[39m],\u001b[38;5;250m \u001b[39m\u001b[38;5;241m2\u001b[39m))\u001b[38;5;132;01m}\u001b[39;00m\u001b[38;5;124m% (\u001b[39m\u001b[38;5;132;01m{\u001b[39;00mrow[\u001b[38;5;124m'\u001b[39m\u001b[38;5;124mcount\u001b[39m\u001b[38;5;124m'\u001b[39m]\u001b[38;5;132;01m}\u001b[39;00m\u001b[38;5;124m)\u001b[39m\u001b[38;5;124m\"\u001b[39m)\n\u001b[1;32m     14\u001b[0m plt\u001b[38;5;241m.\u001b[39mshow()\n",
      "File \u001b[0;32m~/anaconda3/lib/python3.11/site-packages/pyspark/sql/utils.py:174\u001b[0m, in \u001b[0;36mtry_remote_functions.<locals>.wrapped\u001b[0;34m(*args, **kwargs)\u001b[0m\n\u001b[1;32m    172\u001b[0m     \u001b[38;5;28;01mreturn\u001b[39;00m \u001b[38;5;28mgetattr\u001b[39m(functions, f\u001b[38;5;241m.\u001b[39m\u001b[38;5;18m__name__\u001b[39m)(\u001b[38;5;241m*\u001b[39margs, \u001b[38;5;241m*\u001b[39m\u001b[38;5;241m*\u001b[39mkwargs)\n\u001b[1;32m    173\u001b[0m \u001b[38;5;28;01melse\u001b[39;00m:\n\u001b[0;32m--> 174\u001b[0m     \u001b[38;5;28;01mreturn\u001b[39;00m f(\u001b[38;5;241m*\u001b[39margs, \u001b[38;5;241m*\u001b[39m\u001b[38;5;241m*\u001b[39mkwargs)\n",
      "File \u001b[0;32m~/anaconda3/lib/python3.11/site-packages/pyspark/sql/functions.py:4827\u001b[0m, in \u001b[0;36mround\u001b[0;34m(col, scale)\u001b[0m\n\u001b[1;32m   4799\u001b[0m \u001b[38;5;129m@try_remote_functions\u001b[39m\n\u001b[1;32m   4800\u001b[0m \u001b[38;5;28;01mdef\u001b[39;00m \u001b[38;5;21mround\u001b[39m(col: \u001b[38;5;124m\"\u001b[39m\u001b[38;5;124mColumnOrName\u001b[39m\u001b[38;5;124m\"\u001b[39m, scale: \u001b[38;5;28mint\u001b[39m \u001b[38;5;241m=\u001b[39m \u001b[38;5;241m0\u001b[39m) \u001b[38;5;241m-\u001b[39m\u001b[38;5;241m>\u001b[39m Column:\n\u001b[1;32m   4801\u001b[0m \u001b[38;5;250m    \u001b[39m\u001b[38;5;124;03m\"\"\"\u001b[39;00m\n\u001b[1;32m   4802\u001b[0m \u001b[38;5;124;03m    Round the given value to `scale` decimal places using HALF_UP rounding mode if `scale` >= 0\u001b[39;00m\n\u001b[1;32m   4803\u001b[0m \u001b[38;5;124;03m    or at integral part when `scale` < 0.\u001b[39;00m\n\u001b[0;32m   (...)\u001b[0m\n\u001b[1;32m   4825\u001b[0m \u001b[38;5;124;03m    [Row(r=3.0)]\u001b[39;00m\n\u001b[1;32m   4826\u001b[0m \u001b[38;5;124;03m    \"\"\"\u001b[39;00m\n\u001b[0;32m-> 4827\u001b[0m     \u001b[38;5;28;01mreturn\u001b[39;00m _invoke_function(\u001b[38;5;124m\"\u001b[39m\u001b[38;5;124mround\u001b[39m\u001b[38;5;124m\"\u001b[39m, _to_java_column(col), scale)\n",
      "File \u001b[0;32m~/anaconda3/lib/python3.11/site-packages/pyspark/sql/column.py:65\u001b[0m, in \u001b[0;36m_to_java_column\u001b[0;34m(col)\u001b[0m\n\u001b[1;32m     63\u001b[0m     jcol \u001b[38;5;241m=\u001b[39m _create_column_from_name(col)\n\u001b[1;32m     64\u001b[0m \u001b[38;5;28;01melse\u001b[39;00m:\n\u001b[0;32m---> 65\u001b[0m     \u001b[38;5;28;01mraise\u001b[39;00m PySparkTypeError(\n\u001b[1;32m     66\u001b[0m         error_class\u001b[38;5;241m=\u001b[39m\u001b[38;5;124m\"\u001b[39m\u001b[38;5;124mNOT_COLUMN_OR_STR\u001b[39m\u001b[38;5;124m\"\u001b[39m,\n\u001b[1;32m     67\u001b[0m         message_parameters\u001b[38;5;241m=\u001b[39m{\u001b[38;5;124m\"\u001b[39m\u001b[38;5;124marg_name\u001b[39m\u001b[38;5;124m\"\u001b[39m: \u001b[38;5;124m\"\u001b[39m\u001b[38;5;124mcol\u001b[39m\u001b[38;5;124m\"\u001b[39m, \u001b[38;5;124m\"\u001b[39m\u001b[38;5;124marg_type\u001b[39m\u001b[38;5;124m\"\u001b[39m: \u001b[38;5;28mtype\u001b[39m(col)\u001b[38;5;241m.\u001b[39m\u001b[38;5;18m__name__\u001b[39m},\n\u001b[1;32m     68\u001b[0m     )\n\u001b[1;32m     69\u001b[0m \u001b[38;5;28;01mreturn\u001b[39;00m jcol\n",
      "\u001b[0;31mPySparkTypeError\u001b[0m: [NOT_COLUMN_OR_STR] Argument `col` should be a Column or str, got float64."
     ]
    },
    {
     "data": {
      "image/png": "[encoded data removed]",
      "text/plain": [
       "<Figure size 640x480 with 1 Axes>"
      ]
     },
     "metadata": {},
     "output_type": "display_data"
    }
   ],
   "source": [
    "from pyspark.sql.functions import count\n",
    "count_df = df.groupBy(\"age_group\").agg(count(\"*\").alias(\"count\")).orderBy(\"age_group\")\n",
    "count_pdf = count_df.toPandas()\n",
    "count_pdf.set_index(\"age_group\", inplace=True)\n",
    "total = df.count()\n",
    "count_pdf[\"percentage\"] = (count_pdf[\"count\"] / total) * 100\n",
    "ax = count_pdf[\"percentage\"].plot(kind='bar')\n",
    "plt.title('Distribution of Age Categories')\n",
    "plt.xlabel('Age Category')\n",
    "plt.ylabel('Percentage (%)')\n",
    "for idx, (category, row) in enumerate(count_pdf.iterrows()):\n",
    "    ax.text(idx, row[\"percentage\"], f\"{str(round(row['percentage'], 2))}% ({row['count']})\")\n",
    "\n",
    "plt.show()\n"
   ]
  },
  {
   "cell_type": "code",
   "execution_count": 45,
   "id": "ae8d72aa",
   "metadata": {},
   "outputs": [
    {
     "name": "stdout",
     "output_type": "stream",
     "text": [
      "root\n",
      " |-- gender: integer (nullable = true)\n",
      " |-- age: integer (nullable = true)\n",
      " |-- education: double (nullable = true)\n",
      " |-- currentSmoker: integer (nullable = true)\n",
      " |-- cigsPerDay: double (nullable = true)\n",
      " |-- BPMeds: double (nullable = true)\n",
      " |-- prevalentStroke: integer (nullable = true)\n",
      " |-- prevalentHyp: integer (nullable = true)\n",
      " |-- diabetes: integer (nullable = true)\n",
      " |-- totChol: integer (nullable = true)\n",
      " |-- sysBP: double (nullable = true)\n",
      " |-- diaBP: double (nullable = true)\n",
      " |-- BMI: double (nullable = true)\n",
      " |-- heartRate: double (nullable = true)\n",
      " |-- glucose: double (nullable = true)\n",
      " |-- TenYearCHD: integer (nullable = true)\n",
      " |-- alco: integer (nullable = true)\n",
      " |-- active: integer (nullable = true)\n",
      "\n"
     ]
    },
    {
     "data": {
      "text/plain": [
       "4240"
      ]
     },
     "execution_count": 45,
     "metadata": {},
     "output_type": "execute_result"
    }
   ],
   "source": [
    "df_2 = spark.read.csv('framingham_.csv', header=True, inferSchema=True)\n",
    "\n",
    "df_2.printSchema()\n",
    "df_2.count()"
   ]
  },
  {
   "cell_type": "code",
   "execution_count": 46,
   "id": "79e521ec",
   "metadata": {},
   "outputs": [
    {
     "name": "stdout",
     "output_type": "stream",
     "text": [
      "The column 'gender' has 0 null values.\n",
      "The column 'age' has 0 null values.\n",
      "The column 'education' has 105 null values.\n",
      "The column 'currentSmoker' has 0 null values.\n",
      "The column 'cigsPerDay' has 29 null values.\n",
      "The column 'BPMeds' has 53 null values.\n",
      "The column 'prevalentStroke' has 0 null values.\n",
      "The column 'prevalentHyp' has 0 null values.\n",
      "The column 'diabetes' has 0 null values.\n",
      "The column 'totChol' has 50 null values.\n",
      "The column 'sysBP' has 0 null values.\n",
      "The column 'diaBP' has 0 null values.\n",
      "The column 'BMI' has 19 null values.\n",
      "The column 'heartRate' has 1 null values.\n",
      "The column 'glucose' has 388 null values.\n",
      "The column 'TenYearCHD' has 0 null values.\n",
      "The column 'alco' has 0 null values.\n",
      "The column 'active' has 0 null values.\n"
     ]
    }
   ],
   "source": [
    "from pyspark.sql.functions import col, sum\n",
    "\n",
    "for column in df_2.columns:\n",
    "    null_count = df_2.filter(col(column).isNull()).count()\n",
    "    print(f\"The column '{column}' has {null_count} null values.\")\n"
   ]
  },
  {
   "cell_type": "code",
   "execution_count": 47,
   "id": "64d25534",
   "metadata": {},
   "outputs": [
    {
     "name": "stdout",
     "output_type": "stream",
     "text": [
      "There are 582 rows with at least one null value.\n"
     ]
    }
   ],
   "source": [
    "condition = None\n",
    "for column in df_2.columns:\n",
    "    current_condition = col(column).isNull()\n",
    "    if condition is None:\n",
    "        condition = current_condition\n",
    "    else:\n",
    "        condition = condition | current_condition\n",
    "\n",
    "# Use the condition to filter the DataFrame and count the rows\n",
    "null_rows_count = df_2.filter(condition).count()\n",
    "\n",
    "print(f\"There are {null_rows_count} rows with at least one null value.\")"
   ]
  },
  {
   "cell_type": "code",
   "execution_count": 48,
   "id": "9a18abc0",
   "metadata": {},
   "outputs": [
    {
     "name": "stdout",
     "output_type": "stream",
     "text": [
      "3658\n"
     ]
    }
   ],
   "source": [
    "df_2 = df_2.dropna()\n",
    "\n",
    "print(df_2.count())\n"
   ]
  },
  {
   "cell_type": "code",
   "execution_count": 49,
   "id": "7d2d6e0a",
   "metadata": {},
   "outputs": [
    {
     "data": {
      "text/plain": [
       "<bound method DataFrame.show of DataFrame[gender: int, age: int, smoke: int, cholesterol: int, ap_hi: double, ap_lo: double, BMI: double, gluc: double, cardio: int, alco: int, active: int, age_group: string, BMI_Category: string]>"
      ]
     },
     "execution_count": 49,
     "metadata": {},
     "output_type": "execute_result"
    }
   ],
   "source": [
    "new_df = df_2.withColumnRenamed('sysBP', 'ap_hi')\\\n",
    "             .withColumnRenamed('diaBP', 'ap_lo')\\\n",
    "             .withColumnRenamed('currentSmoker', 'smoke')\\\n",
    "             .withColumnRenamed('totChol', 'cholesterol')\\\n",
    "             .withColumnRenamed('glucose', 'gluc')\\\n",
    "             .withColumnRenamed('TenYearCHD', 'cardio')\n",
    "\n",
    "columns_to_drop = ['education', 'BPMeds', 'prevalentStroke',\\\n",
    "                   'prevalentHyp', 'diabetes', 'heartRate', 'cigsPerDay']\n",
    "new_df = new_df.drop(*columns_to_drop)\n",
    "\n",
    "new_df = new_df.withColumn(\"age_group\", age_grouping_udf(new_df[\"age\"]))\n",
    "\n",
    "categorize_bmi_udf = udf(categorize_bmi, StringType())\n",
    "new_df = new_df.withColumn(\"BMI_Category\", categorize_bmi_udf(new_df[\"BMI\"]))\n",
    "\n",
    "new_df.show\n"
   ]
  },
  {
   "cell_type": "code",
   "execution_count": 50,
   "id": "8759afd2",
   "metadata": {},
   "outputs": [
    {
     "data": {
      "text/plain": [
       "63331"
      ]
     },
     "execution_count": 50,
     "metadata": {},
     "output_type": "execute_result"
    }
   ],
   "source": [
    "new_df.count()\n",
    "df.count()"
   ]
  },
  {
   "cell_type": "code",
   "execution_count": 51,
   "id": "21dc27ee",
   "metadata": {},
   "outputs": [
    {
     "name": "stdout",
     "output_type": "stream",
     "text": [
      "+---+------+------+------+-----+-----+-----------+----+-----+----+------+------+-----+------------+---------+\n",
      "|age|gender|height|weight|ap_hi|ap_lo|cholesterol|gluc|smoke|alco|active|cardio|  BMI|BMI_Category|age_group|\n",
      "+---+------+------+------+-----+-----+-----------+----+-----+----+------+------+-----+------------+---------+\n",
      "| 50|     2|   168|  62.0|  110|   80|          1|   1|    0|   0|     1|     0|21.97|      Normal|    50-60|\n",
      "| 55|     1|   156|  85.0|  140|   90|          3|   1|    0|   0|     1|     1|34.93|       Obese|    50-60|\n",
      "| 52|     1|   165|  64.0|  130|   70|          3|   1|    0|   0|     0|     1|23.51|      Normal|    50-60|\n",
      "| 48|     2|   169|  82.0|  150|  100|          1|   1|    0|   0|     1|     1|28.71|  Overweight|    40-50|\n",
      "| 48|     1|   156|  56.0|  100|   60|          1|   1|    0|   0|     0|     0|23.01|      Normal|    40-50|\n",
      "| 60|     1|   151|  67.0|  120|   80|          2|   2|    0|   0|     0|     0|29.38|  Overweight| Above 60|\n",
      "| 61|     1|   157|  93.0|  130|   80|          3|   1|    0|   0|     1|     0|37.73|       Obese| Above 60|\n",
      "| 62|     2|   178|  95.0|  130|   90|          3|   3|    0|   0|     1|     1|29.98|       Obese| Above 60|\n",
      "| 48|     1|   158|  71.0|  110|   70|          1|   1|    0|   0|     1|     0|28.44|  Overweight|    40-50|\n",
      "| 54|     1|   164|  68.0|  110|   60|          1|   1|    0|   0|     0|     0|25.28|  Overweight|    50-60|\n",
      "| 62|     1|   169|  80.0|  120|   80|          1|   1|    0|   0|     1|     0|28.01|  Overweight| Above 60|\n",
      "| 52|     2|   173|  60.0|  120|   80|          1|   1|    0|   0|     1|     0|20.05|      Normal|    50-60|\n",
      "| 41|     2|   165|  60.0|  120|   80|          1|   1|    0|   0|     0|     0|22.04|      Normal|    40-50|\n",
      "| 54|     1|   158|  78.0|  110|   70|          1|   1|    0|   0|     1|     0|31.24|       Obese|    50-60|\n",
      "| 40|     2|   181|  95.0|  130|   90|          1|   1|    1|   1|     1|     0| 29.0|  Overweight|    40-50|\n",
      "| 46|     2|   172| 112.0|  120|   80|          1|   1|    0|   0|     0|     1|37.86|       Obese|    40-50|\n",
      "| 58|     1|   170|  75.0|  130|   70|          1|   1|    0|   0|     0|     0|25.95|  Overweight|    50-60|\n",
      "| 46|     1|   158|  52.0|  110|   70|          1|   3|    0|   0|     1|     0|20.83|      Normal|    40-50|\n",
      "| 48|     1|   154|  68.0|  100|   70|          1|   1|    0|   0|     0|     0|28.67|  Overweight|    40-50|\n",
      "| 60|     2|   162|  56.0|  120|   70|          1|   1|    1|   0|     1|     0|21.34|      Normal| Above 60|\n",
      "+---+------+------+------+-----+-----+-----------+----+-----+----+------+------+-----+------------+---------+\n",
      "only showing top 20 rows\n",
      "\n"
     ]
    }
   ],
   "source": [
    "df.show()"
   ]
  },
  {
   "cell_type": "code",
   "execution_count": 52,
   "id": "e8f69082",
   "metadata": {},
   "outputs": [],
   "source": [
    "df = df.drop('height', 'weight')"
   ]
  },
  {
   "cell_type": "code",
   "execution_count": 53,
   "id": "e24ecee2",
   "metadata": {},
   "outputs": [
    {
     "name": "stdout",
     "output_type": "stream",
     "text": [
      "\n",
      "Info for combined_df:\n",
      "root\n",
      " |-- age: long (nullable = true)\n",
      " |-- gender: long (nullable = true)\n",
      " |-- ap_hi: double (nullable = true)\n",
      " |-- ap_lo: double (nullable = true)\n",
      " |-- cholesterol: long (nullable = true)\n",
      " |-- gluc: double (nullable = true)\n",
      " |-- smoke: long (nullable = true)\n",
      " |-- alco: long (nullable = true)\n",
      " |-- active: long (nullable = true)\n",
      " |-- cardio: long (nullable = true)\n",
      " |-- BMI: double (nullable = true)\n",
      " |-- BMI_Category: string (nullable = true)\n",
      " |-- age_group: string (nullable = true)\n",
      "\n"
     ]
    },
    {
     "data": {
      "text/plain": [
       "66989"
      ]
     },
     "execution_count": 53,
     "metadata": {},
     "output_type": "execute_result"
    }
   ],
   "source": [
    "\n",
    "column_order = df.columns\n",
    "new_df = new_df.select(*column_order)\n",
    "\n",
    "combined_df = df.union(new_df)\n",
    "\n",
    "print(\"\\nInfo for combined_df:\")\n",
    "combined_df.printSchema()\n",
    "combined_df.count()\n"
   ]
  },
  {
   "cell_type": "code",
   "execution_count": 54,
   "id": "95095ae3",
   "metadata": {},
   "outputs": [
    {
     "name": "stdout",
     "output_type": "stream",
     "text": [
      "root\n",
      " |-- 1: age:bigint\n",
      " |-- 2: gender:bigint\n",
      " |-- 3: ap_hi:double\n",
      " |-- 4: ap_lo:double\n",
      " |-- 5: cholesterol:bigint\n",
      " |-- 6: gluc:double\n",
      " |-- 7: smoke:bigint\n",
      " |-- 8: alco:bigint\n",
      " |-- 9: active:bigint\n",
      " |-- 10: cardio:bigint\n",
      " |-- 11: BMI:double\n",
      " |-- 12: BMI_Category:string\n",
      " |-- 13: age_group:string\n"
     ]
    }
   ],
   "source": [
    "def custom_print_schema(df):\n",
    "    schema_strs = df.schema.simpleString().replace(\"struct<\", \"\").replace(\">\", \"\").split(\",\")\n",
    "    print(\"root\")\n",
    "    for idx, column_info in enumerate(schema_strs, start=1):\n",
    "        print(f\" |-- {idx}: {column_info.strip()}\")\n",
    "        \n",
    "custom_print_schema(combined_df)\n"
   ]
  },
  {
   "cell_type": "code",
   "execution_count": 55,
   "id": "fe02033c",
   "metadata": {},
   "outputs": [
    {
     "name": "stdout",
     "output_type": "stream",
     "text": [
      "\n",
      "Schema after renaming categories:\n",
      "root\n",
      " |-- age: long (nullable = true)\n",
      " |-- gender: long (nullable = true)\n",
      " |-- ap_hi: double (nullable = true)\n",
      " |-- ap_lo: double (nullable = true)\n",
      " |-- cholesterol: long (nullable = true)\n",
      " |-- gluc: double (nullable = true)\n",
      " |-- smoke: long (nullable = true)\n",
      " |-- alco: long (nullable = true)\n",
      " |-- active: long (nullable = true)\n",
      " |-- cardio: long (nullable = true)\n",
      " |-- BMI: double (nullable = true)\n",
      " |-- BMI_Category: string (nullable = true)\n",
      " |-- age_group: string (nullable = true)\n",
      "\n",
      "+---+------+-----+-----+-----------+----+-----+----+------+------+-----+------------+---------+\n",
      "|age|gender|ap_hi|ap_lo|cholesterol|gluc|smoke|alco|active|cardio|  BMI|BMI_Category|age_group|\n",
      "+---+------+-----+-----+-----------+----+-----+----+------+------+-----+------------+---------+\n",
      "| 50|     2|110.0| 80.0|          1| 1.0|    0|   0|     1|     0|21.97|      Normal|    50-60|\n",
      "| 55|     1|140.0| 90.0|          3| 1.0|    0|   0|     1|     1|34.93|       Obese|    50-60|\n",
      "| 52|     1|130.0| 70.0|          3| 1.0|    0|   0|     0|     1|23.51|      Normal|    50-60|\n",
      "| 48|     2|150.0|100.0|          1| 1.0|    0|   0|     1|     1|28.71|  Overweight|    40-50|\n",
      "| 48|     1|100.0| 60.0|          1| 1.0|    0|   0|     0|     0|23.01|      Normal|    40-50|\n",
      "| 60|     1|120.0| 80.0|          2| 2.0|    0|   0|     0|     0|29.38|  Overweight|      60+|\n",
      "| 61|     1|130.0| 80.0|          3| 1.0|    0|   0|     1|     0|37.73|       Obese|      60+|\n",
      "| 62|     2|130.0| 90.0|          3| 3.0|    0|   0|     1|     1|29.98|       Obese|      60+|\n",
      "| 48|     1|110.0| 70.0|          1| 1.0|    0|   0|     1|     0|28.44|  Overweight|    40-50|\n",
      "| 54|     1|110.0| 60.0|          1| 1.0|    0|   0|     0|     0|25.28|  Overweight|    50-60|\n",
      "| 62|     1|120.0| 80.0|          1| 1.0|    0|   0|     1|     0|28.01|  Overweight|      60+|\n",
      "| 52|     2|120.0| 80.0|          1| 1.0|    0|   0|     1|     0|20.05|      Normal|    50-60|\n",
      "| 41|     2|120.0| 80.0|          1| 1.0|    0|   0|     0|     0|22.04|      Normal|    40-50|\n",
      "| 54|     1|110.0| 70.0|          1| 1.0|    0|   0|     1|     0|31.24|       Obese|    50-60|\n",
      "| 40|     2|130.0| 90.0|          1| 1.0|    1|   1|     1|     0| 29.0|  Overweight|    40-50|\n",
      "| 46|     2|120.0| 80.0|          1| 1.0|    0|   0|     0|     1|37.86|       Obese|    40-50|\n",
      "| 58|     1|130.0| 70.0|          1| 1.0|    0|   0|     0|     0|25.95|  Overweight|    50-60|\n",
      "| 46|     1|110.0| 70.0|          1| 3.0|    0|   0|     1|     0|20.83|      Normal|    40-50|\n",
      "| 48|     1|100.0| 70.0|          1| 1.0|    0|   0|     0|     0|28.67|  Overweight|    40-50|\n",
      "| 60|     2|120.0| 70.0|          1| 1.0|    1|   0|     1|     0|21.34|      Normal|      60+|\n",
      "+---+------+-----+-----+-----------+----+-----+----+------+------+-----+------------+---------+\n",
      "only showing top 20 rows\n",
      "\n"
     ]
    }
   ],
   "source": [
    "from pyspark.sql.functions import when\n",
    "combined_df = combined_df.withColumn(\"BMI\", round(col(\"BMI\"), 2))\n",
    "\n",
    "combined_df = combined_df.withColumn(\n",
    "    \"age_group\",\n",
    "    when(col(\"age_group\") == \"Below 40\", \"<40\")\n",
    "    .when(col(\"age_group\") == \"Above 60\", \"60+\")\n",
    "    .otherwise(col(\"age_group\"))\n",
    ")\n",
    "\n",
    "print(\"\\nSchema after renaming categories:\")\n",
    "combined_df.printSchema()\n",
    "\n",
    "combined_df.show()\n"
   ]
  },
  {
   "cell_type": "code",
   "execution_count": 56,
   "id": "583add10",
   "metadata": {},
   "outputs": [
    {
     "name": "stdout",
     "output_type": "stream",
     "text": [
      "+---+------+-----+-----+-----------+----+-----+----+------+------+-----+------------+---------+\n",
      "|age|gender|ap_hi|ap_lo|cholesterol|gluc|smoke|alco|active|cardio|  BMI|BMI_Category|age_group|\n",
      "+---+------+-----+-----+-----------+----+-----+----+------+------+-----+------------+---------+\n",
      "| 50|     2|110.0| 80.0|          1| 1.0|    0|   0|     1|     0|21.97|      Normal|    50-60|\n",
      "| 55|     1|140.0| 90.0|          3| 1.0|    0|   0|     1|     1|34.93|       Obese|    50-60|\n",
      "| 52|     1|130.0| 70.0|          3| 1.0|    0|   0|     0|     1|23.51|      Normal|    50-60|\n",
      "| 48|     2|150.0|100.0|          1| 1.0|    0|   0|     1|     1|28.71|  Overweight|    40-50|\n",
      "| 48|     1|100.0| 60.0|          1| 1.0|    0|   0|     0|     0|23.01|      Normal|    40-50|\n",
      "| 60|     1|120.0| 80.0|          2| 2.0|    0|   0|     0|     0|29.38|  Overweight|      60+|\n",
      "| 61|     1|130.0| 80.0|          3| 1.0|    0|   0|     1|     0|37.73|       Obese|      60+|\n",
      "| 62|     2|130.0| 90.0|          3| 3.0|    0|   0|     1|     1|29.98|       Obese|      60+|\n",
      "| 48|     1|110.0| 70.0|          1| 1.0|    0|   0|     1|     0|28.44|  Overweight|    40-50|\n",
      "| 54|     1|110.0| 60.0|          1| 1.0|    0|   0|     0|     0|25.28|  Overweight|    50-60|\n",
      "| 62|     1|120.0| 80.0|          1| 1.0|    0|   0|     1|     0|28.01|  Overweight|      60+|\n",
      "| 52|     2|120.0| 80.0|          1| 1.0|    0|   0|     1|     0|20.05|      Normal|    50-60|\n",
      "| 41|     2|120.0| 80.0|          1| 1.0|    0|   0|     0|     0|22.04|      Normal|    40-50|\n",
      "| 54|     1|110.0| 70.0|          1| 1.0|    0|   0|     1|     0|31.24|       Obese|    50-60|\n",
      "| 40|     2|130.0| 90.0|          1| 1.0|    1|   1|     1|     0| 29.0|  Overweight|    40-50|\n",
      "| 46|     2|120.0| 80.0|          1| 1.0|    0|   0|     0|     1|37.86|       Obese|    40-50|\n",
      "| 58|     1|130.0| 70.0|          1| 1.0|    0|   0|     0|     0|25.95|  Overweight|    50-60|\n",
      "| 46|     1|110.0| 70.0|          1| 3.0|    0|   0|     1|     0|20.83|      Normal|    40-50|\n",
      "| 48|     1|100.0| 70.0|          1| 1.0|    0|   0|     0|     0|28.67|  Overweight|    40-50|\n",
      "| 60|     2|120.0| 70.0|          1| 1.0|    1|   0|     1|     0|21.34|      Normal|      60+|\n",
      "+---+------+-----+-----+-----------+----+-----+----+------+------+-----+------------+---------+\n",
      "only showing top 20 rows\n",
      "\n"
     ]
    }
   ],
   "source": [
    "combined_df.show()"
   ]
  },
  {
   "cell_type": "code",
   "execution_count": 57,
   "id": "83adf55e",
   "metadata": {},
   "outputs": [
    {
     "name": "stdout",
     "output_type": "stream",
     "text": [
      "+------------+-----+\n",
      "|BMI_Category|count|\n",
      "+------------+-----+\n",
      "|      Normal|23320|\n",
      "|       Obese|18576|\n",
      "|  Overweight|24683|\n",
      "| Underweight|  410|\n",
      "+------------+-----+\n",
      "\n"
     ]
    }
   ],
   "source": [
    "# Count rows for each category in the 'BMI_Category' column\n",
    "combined_df.groupBy(\"BMI_Category\").count().orderBy(\"BMI_Category\").show()\n"
   ]
  },
  {
   "cell_type": "code",
   "execution_count": 58,
   "id": "5518dd68",
   "metadata": {},
   "outputs": [
    {
     "name": "stdout",
     "output_type": "stream",
     "text": [
      "root\n",
      " |-- age: long (nullable = true)\n",
      " |-- gender: long (nullable = true)\n",
      " |-- ap_hi: double (nullable = true)\n",
      " |-- ap_lo: double (nullable = true)\n",
      " |-- cholesterol: long (nullable = true)\n",
      " |-- gluc: double (nullable = true)\n",
      " |-- smoke: long (nullable = true)\n",
      " |-- alco: long (nullable = true)\n",
      " |-- active: long (nullable = true)\n",
      " |-- cardio: long (nullable = true)\n",
      " |-- BMI: double (nullable = true)\n",
      " |-- BMI_Category: string (nullable = true)\n",
      " |-- age_group: string (nullable = true)\n",
      "\n"
     ]
    }
   ],
   "source": [
    "combined_df.printSchema()\n"
   ]
  },
  {
   "cell_type": "code",
   "execution_count": 65,
   "id": "46dc2d47",
   "metadata": {},
   "outputs": [],
   "source": [
    "from pyspark.ml.feature import StringIndexer\n",
    "\n",
    "bmi_indexer = StringIndexer(inputCol=\"BMI_Category\", outputCol=\"BMI_Category_indexed\")\n",
    "age_group_indexer = StringIndexer(inputCol=\"age_group\", outputCol=\"age_group_indexed\")\n",
    "\n",
    "bmi_model = bmi_indexer.fit(combined_df)\n",
    "age_group_model = age_group_indexer.fit(combined_df)\n",
    "\n",
    "combined_df_indexed = bmi_model.transform(combined_df)\n",
    "combined_df_indexed = age_group_model.transform(combined_df_indexed)"
   ]
  },
  {
   "cell_type": "code",
   "execution_count": 66,
   "id": "940da048",
   "metadata": {},
   "outputs": [
    {
     "name": "stdout",
     "output_type": "stream",
     "text": [
      "root\n",
      " |-- age: long (nullable = true)\n",
      " |-- gender: long (nullable = true)\n",
      " |-- ap_hi: double (nullable = true)\n",
      " |-- ap_lo: double (nullable = true)\n",
      " |-- cholesterol: long (nullable = true)\n",
      " |-- gluc: double (nullable = true)\n",
      " |-- smoke: long (nullable = true)\n",
      " |-- alco: long (nullable = true)\n",
      " |-- active: long (nullable = true)\n",
      " |-- cardio: long (nullable = true)\n",
      " |-- BMI: double (nullable = true)\n",
      " |-- BMI_Category: string (nullable = true)\n",
      " |-- age_group: string (nullable = true)\n",
      " |-- BMI_Category_indexed: double (nullable = false)\n",
      " |-- age_group_indexed: double (nullable = false)\n",
      "\n"
     ]
    }
   ],
   "source": [
    "combined_df_indexed.printSchema()"
   ]
  },
  {
   "cell_type": "code",
   "execution_count": 67,
   "id": "4341af16",
   "metadata": {},
   "outputs": [
    {
     "name": "stdout",
     "output_type": "stream",
     "text": [
      "+---+------+-----+-----+-----------+----+-----+----+------+------+-----+------------+---------+--------------------+-----------------+\n",
      "|age|gender|ap_hi|ap_lo|cholesterol|gluc|smoke|alco|active|cardio|  BMI|BMI_Category|age_group|BMI_Category_indexed|age_group_indexed|\n",
      "+---+------+-----+-----+-----------+----+-----+----+------+------+-----+------------+---------+--------------------+-----------------+\n",
      "| 50|     2|110.0| 80.0|          1| 1.0|    0|   0|     1|     0|21.97|      Normal|    50-60|                 1.0|              0.0|\n",
      "| 55|     1|140.0| 90.0|          3| 1.0|    0|   0|     1|     1|34.93|       Obese|    50-60|                 2.0|              0.0|\n",
      "| 52|     1|130.0| 70.0|          3| 1.0|    0|   0|     0|     1|23.51|      Normal|    50-60|                 1.0|              0.0|\n",
      "| 48|     2|150.0|100.0|          1| 1.0|    0|   0|     1|     1|28.71|  Overweight|    40-50|                 0.0|              1.0|\n",
      "| 48|     1|100.0| 60.0|          1| 1.0|    0|   0|     0|     0|23.01|      Normal|    40-50|                 1.0|              1.0|\n",
      "| 60|     1|120.0| 80.0|          2| 2.0|    0|   0|     0|     0|29.38|  Overweight|      60+|                 0.0|              2.0|\n",
      "| 61|     1|130.0| 80.0|          3| 1.0|    0|   0|     1|     0|37.73|       Obese|      60+|                 2.0|              2.0|\n",
      "| 62|     2|130.0| 90.0|          3| 3.0|    0|   0|     1|     1|29.98|       Obese|      60+|                 2.0|              2.0|\n",
      "| 48|     1|110.0| 70.0|          1| 1.0|    0|   0|     1|     0|28.44|  Overweight|    40-50|                 0.0|              1.0|\n",
      "| 54|     1|110.0| 60.0|          1| 1.0|    0|   0|     0|     0|25.28|  Overweight|    50-60|                 0.0|              0.0|\n",
      "| 62|     1|120.0| 80.0|          1| 1.0|    0|   0|     1|     0|28.01|  Overweight|      60+|                 0.0|              2.0|\n",
      "| 52|     2|120.0| 80.0|          1| 1.0|    0|   0|     1|     0|20.05|      Normal|    50-60|                 1.0|              0.0|\n",
      "| 41|     2|120.0| 80.0|          1| 1.0|    0|   0|     0|     0|22.04|      Normal|    40-50|                 1.0|              1.0|\n",
      "| 54|     1|110.0| 70.0|          1| 1.0|    0|   0|     1|     0|31.24|       Obese|    50-60|                 2.0|              0.0|\n",
      "| 40|     2|130.0| 90.0|          1| 1.0|    1|   1|     1|     0| 29.0|  Overweight|    40-50|                 0.0|              1.0|\n",
      "| 46|     2|120.0| 80.0|          1| 1.0|    0|   0|     0|     1|37.86|       Obese|    40-50|                 2.0|              1.0|\n",
      "| 58|     1|130.0| 70.0|          1| 1.0|    0|   0|     0|     0|25.95|  Overweight|    50-60|                 0.0|              0.0|\n",
      "| 46|     1|110.0| 70.0|          1| 3.0|    0|   0|     1|     0|20.83|      Normal|    40-50|                 1.0|              1.0|\n",
      "| 48|     1|100.0| 70.0|          1| 1.0|    0|   0|     0|     0|28.67|  Overweight|    40-50|                 0.0|              1.0|\n",
      "| 60|     2|120.0| 70.0|          1| 1.0|    1|   0|     1|     0|21.34|      Normal|      60+|                 1.0|              2.0|\n",
      "+---+------+-----+-----+-----------+----+-----+----+------+------+-----+------------+---------+--------------------+-----------------+\n",
      "only showing top 20 rows\n",
      "\n"
     ]
    }
   ],
   "source": [
    "combined_df_indexed.show()"
   ]
  },
  {
   "cell_type": "code",
   "execution_count": 68,
   "id": "7da7486f",
   "metadata": {},
   "outputs": [
    {
     "name": "stdout",
     "output_type": "stream",
     "text": [
      "Overweight -> 0\n",
      "Normal -> 1\n",
      "Obese -> 2\n",
      "Underweight -> 3\n",
      "\n",
      "\n",
      "50-60 -> 0\n",
      "40-50 -> 1\n",
      "60+ -> 2\n",
      "<40 -> 3\n"
     ]
    }
   ],
   "source": [
    "# For BMI_Category\n",
    "bmi_labels = bmi_model.labels\n",
    "for i, label in enumerate(bmi_labels):\n",
    "    print(f\"{label} -> {i}\")\n",
    "\n",
    "print(\"\\n\")\n",
    "\n",
    "# For age_group\n",
    "age_group_labels = age_group_model.labels\n",
    "for i, label in enumerate(age_group_labels):\n",
    "    print(f\"{label} -> {i}\")\n"
   ]
  },
  {
   "cell_type": "code",
   "execution_count": 69,
   "id": "6dd715b2",
   "metadata": {},
   "outputs": [
    {
     "name": "stdout",
     "output_type": "stream",
     "text": [
      "ap_hi: 0.39294852274538766\n",
      "ap_lo: 0.31153400933311326\n",
      "age: 0.24987807399892312\n",
      "BMI: 0.18859091209366277\n",
      "cholesterol: 0.16661768661975454\n",
      "gender: 0.0671945157709164\n",
      "BMI_Category_indexed: 0.06716867777522958\n",
      "age_group_indexed: 0.048315110684570416\n",
      "active: -0.0019623512799934115\n",
      "smoke: -0.06677000280984675\n",
      "alco: -0.07460478826925399\n",
      "gluc: -0.1465766833719329\n"
     ]
    }
   ],
   "source": [
    "correlations = [(column, combined_df_indexed.stat.corr(column, \"cardio\")) \n",
    "                for column in combined_df_indexed.columns \n",
    "                if column not in [\"cardio\", \"BMI_Category\", \"age_group\"]]\n",
    "\n",
    "sorted_correlations = sorted(correlations, key=lambda x: x[1], reverse=True)\n",
    "\n",
    "for column, correlation_value in sorted_correlations:\n",
    "    print(f\"{column}: {correlation_value}\")"
   ]
  },
  {
   "cell_type": "code",
   "execution_count": 70,
   "id": "489b36af",
   "metadata": {},
   "outputs": [
    {
     "name": "stdout",
     "output_type": "stream",
     "text": [
      "root\n",
      " |-- age: long (nullable = true)\n",
      " |-- gender: long (nullable = true)\n",
      " |-- ap_hi: double (nullable = true)\n",
      " |-- ap_lo: double (nullable = true)\n",
      " |-- cholesterol: long (nullable = true)\n",
      " |-- gluc: double (nullable = true)\n",
      " |-- smoke: long (nullable = true)\n",
      " |-- alco: long (nullable = true)\n",
      " |-- active: long (nullable = true)\n",
      " |-- cardio: long (nullable = true)\n",
      " |-- BMI: double (nullable = true)\n",
      " |-- BMI_Category: string (nullable = true)\n",
      " |-- age_group: string (nullable = true)\n",
      " |-- BMI_Category_indexed: double (nullable = false)\n",
      " |-- age_group_indexed: double (nullable = false)\n",
      " |-- log_BMI: double (nullable = true)\n",
      "\n"
     ]
    },
    {
     "data": {
      "image/png": "[encoded data removed]",
      "text/plain": [
       "<Figure size 640x480 with 1 Axes>"
      ]
     },
     "metadata": {},
     "output_type": "display_data"
    }
   ],
   "source": [
    "from pyspark.sql.functions import log1p\n",
    "\n",
    "combined_df_indexed = combined_df_indexed.withColumn(\"log_BMI\", log1p(combined_df[\"BMI\"]))\n",
    "combined_df_indexed.printSchema()\n",
    "\n",
    "log_BMI_data = combined_df_indexed.select('log_BMI').rdd.flatMap(lambda x: x).collect()\n",
    "\n",
    "plt.hist(log_BMI_data, bins=40, edgecolor='black')\n",
    "plt.xlabel('log_BMI')\n",
    "plt.ylabel('Frequency')\n",
    "plt.title('Distribution of log_BMI')\n",
    "plt.show()\n"
   ]
  },
  {
   "cell_type": "code",
   "execution_count": 71,
   "id": "44e8a3ef",
   "metadata": {},
   "outputs": [],
   "source": [
    "assembler = VectorAssembler(\n",
    "    inputCols=[\"age\", \"gender\",\"ap_hi\",\"ap_lo\",\n",
    "               \"cholesterol\",\"BMI_Category_indexed\",\"age_group_indexed\",\"log_BMI\",\"BMI\"],\n",
    "    outputCol=\"features\")"
   ]
  },
  {
   "cell_type": "code",
   "execution_count": 72,
   "id": "a39a3f7b",
   "metadata": {},
   "outputs": [],
   "source": [
    "output = assembler.transform(combined_df_indexed)"
   ]
  },
  {
   "cell_type": "code",
   "execution_count": 73,
   "id": "29ce0412",
   "metadata": {},
   "outputs": [
    {
     "name": "stdout",
     "output_type": "stream",
     "text": [
      "root\n",
      " |-- age: long (nullable = true)\n",
      " |-- gender: long (nullable = true)\n",
      " |-- ap_hi: double (nullable = true)\n",
      " |-- ap_lo: double (nullable = true)\n",
      " |-- cholesterol: long (nullable = true)\n",
      " |-- gluc: double (nullable = true)\n",
      " |-- smoke: long (nullable = true)\n",
      " |-- alco: long (nullable = true)\n",
      " |-- active: long (nullable = true)\n",
      " |-- cardio: long (nullable = true)\n",
      " |-- BMI: double (nullable = true)\n",
      " |-- BMI_Category: string (nullable = true)\n",
      " |-- age_group: string (nullable = true)\n",
      " |-- BMI_Category_indexed: double (nullable = false)\n",
      " |-- age_group_indexed: double (nullable = false)\n",
      " |-- log_BMI: double (nullable = true)\n",
      " |-- features: vector (nullable = true)\n",
      "\n"
     ]
    },
    {
     "data": {
      "text/plain": [
       "[Row(age=50, gender=2, ap_hi=110.0, ap_lo=80.0, cholesterol=1, gluc=1.0, smoke=0, alco=0, active=1, cardio=0, BMI=21.97, BMI_Category='Normal', age_group='50-60', BMI_Category_indexed=1.0, age_group_indexed=0.0, log_BMI=3.134189016701007, features=DenseVector([50.0, 2.0, 110.0, 80.0, 1.0, 1.0, 0.0, 3.1342, 21.97]))]"
      ]
     },
     "execution_count": 73,
     "metadata": {},
     "output_type": "execute_result"
    }
   ],
   "source": [
    "output.printSchema()\n",
    "output.head(1)"
   ]
  },
  {
   "cell_type": "code",
   "execution_count": 74,
   "id": "7fdb2986",
   "metadata": {},
   "outputs": [
    {
     "name": "stdout",
     "output_type": "stream",
     "text": [
      "+--------------------+------+\n",
      "|            features|cardio|\n",
      "+--------------------+------+\n",
      "|[50.0,2.0,110.0,8...|     0|\n",
      "|[55.0,1.0,140.0,9...|     1|\n",
      "|[52.0,1.0,130.0,7...|     1|\n",
      "|[48.0,2.0,150.0,1...|     1|\n",
      "|[48.0,1.0,100.0,6...|     0|\n",
      "|[60.0,1.0,120.0,8...|     0|\n",
      "|[61.0,1.0,130.0,8...|     0|\n",
      "|[62.0,2.0,130.0,9...|     1|\n",
      "|[48.0,1.0,110.0,7...|     0|\n",
      "|[54.0,1.0,110.0,6...|     0|\n",
      "|[62.0,1.0,120.0,8...|     0|\n",
      "|[52.0,2.0,120.0,8...|     0|\n",
      "|[41.0,2.0,120.0,8...|     0|\n",
      "|[54.0,1.0,110.0,7...|     0|\n",
      "|[40.0,2.0,130.0,9...|     0|\n",
      "|[46.0,2.0,120.0,8...|     1|\n",
      "|[58.0,1.0,130.0,7...|     0|\n",
      "|[46.0,1.0,110.0,7...|     0|\n",
      "|[48.0,1.0,100.0,7...|     0|\n",
      "|[60.0,2.0,120.0,7...|     0|\n",
      "+--------------------+------+\n",
      "only showing top 20 rows\n",
      "\n"
     ]
    }
   ],
   "source": [
    "final_data = output.select(\"features\",'cardio')\n",
    "final_data.show()"
   ]
  },
  {
   "cell_type": "code",
   "execution_count": 70,
   "id": "01447fb0",
   "metadata": {},
   "outputs": [
    {
     "name": "stdout",
     "output_type": "stream",
     "text": [
      "+--------------------+------------------+\n",
      "|          Classifier|          Accuracy|\n",
      "+--------------------+------------------+\n",
      "| Logistic Regression|0.7080565465972025|\n",
      "|Support Vector Cl...|0.7117586469420353|\n",
      "|       Decision Tree|0.7245219364373255|\n",
      "|       Random Forest|0.7265073370254818|\n",
      "|Gradient-Boosted ...|0.7341503828986848|\n",
      "|Multilayer Percep...|0.5109197032348595|\n",
      "+--------------------+------------------+\n",
      "\n"
     ]
    }
   ],
   "source": [
    "from pyspark.ml.classification import (LogisticRegression, DecisionTreeClassifier, \n",
    "                                       RandomForestClassifier, GBTClassifier, LinearSVC, MultilayerPerceptronClassifier)\n",
    "from pyspark.ml.evaluation import MulticlassClassificationEvaluator\n",
    "\n",
    "classifiers = {\n",
    "    \"Logistic Regression\": LogisticRegression(labelCol='cardio'),\n",
    "    \"Support Vector Classifier\": LinearSVC(labelCol='cardio'),\n",
    "    \"Decision Tree\": DecisionTreeClassifier(labelCol='cardio'),\n",
    "    \"Random Forest\": RandomForestClassifier(labelCol='cardio'),\n",
    "    \"Gradient-Boosted Trees\": GBTClassifier(labelCol='cardio')\n",
    "}\n",
    "\n",
    "layers = [len(final_data.select(\"features\").first()[0]), 5, 4, 2]\n",
    "classifiers[\"Multilayer Perceptron\"] = MultilayerPerceptronClassifier(labelCol='cardio', layers=layers, blockSize=128, maxIter=100)\n",
    "\n",
    "accuracies = {}\n",
    "\n",
    "evaluator = MulticlassClassificationEvaluator(labelCol=\"cardio\", metricName=\"accuracy\")\n",
    "\n",
    "for name, clf in classifiers.items():\n",
    "    model = clf.fit(final_data)\n",
    "    predictions = model.transform(final_data)\n",
    "    accuracy = evaluator.evaluate(predictions)\n",
    "    accuracies[name] = accuracy\n",
    "\n",
    "from pyspark.sql import Row\n",
    "rows = [Row(Classifier=name, Accuracy=accuracy) for name, accuracy in accuracies.items()]\n",
    "df_accuracies = spark.createDataFrame(rows)\n",
    "\n",
    "df_accuracies.show()\n"
   ]
  },
  {
   "cell_type": "code",
   "execution_count": 71,
   "id": "11ba38e9",
   "metadata": {},
   "outputs": [
    {
     "name": "stderr",
     "output_type": "stream",
     "text": [
      "23/10/07 12:39:43 WARN Instrumentation: [8a893d3b] regParam is zero, which might cause numerical instability and overfitting.\n",
      "23/10/07 12:39:43 WARN InstanceBuilder: Failed to load implementation from:dev.ludovic.netlib.lapack.JNILAPACK\n"
     ]
    },
    {
     "name": "stdout",
     "output_type": "stream",
     "text": [
      "R^2 value for the Linear Regression model: 0.200743867755093\n"
     ]
    }
   ],
   "source": [
    "from pyspark.ml.regression import LinearRegression\n",
    "from pyspark.ml.evaluation import RegressionEvaluator\n",
    "\n",
    "# Train a linear regression model\n",
    "lr = LinearRegression(featuresCol='features', labelCol='cardio')\n",
    "lr_model = lr.fit(final_data)\n",
    "\n",
    "# Make predictions\n",
    "predictions = lr_model.transform(final_data)\n",
    "\n",
    "# Evaluate the model using R^2 metric\n",
    "evaluator = RegressionEvaluator(predictionCol=\"prediction\", labelCol=\"cardio\", metricName=\"r2\")\n",
    "r2 = evaluator.evaluate(predictions)\n",
    "\n",
    "print(f\"R^2 value for the Linear Regression model: {r2}\")\n"
   ]
  },
  {
   "cell_type": "code",
   "execution_count": 72,
   "id": "345b5d98",
   "metadata": {},
   "outputs": [],
   "source": [
    "# Initialize the SVM classifier\n",
    "svc = LinearSVC(labelCol='cardio')\n",
    "\n",
    "# Train the model\n",
    "svc_model = svc.fit(final_data)\n",
    "\n",
    "# Make predictions\n",
    "predictions_svc = svc_model.transform(final_data)"
   ]
  },
  {
   "cell_type": "code",
   "execution_count": 73,
   "id": "3e5e4ff1",
   "metadata": {},
   "outputs": [
    {
     "name": "stdout",
     "output_type": "stream",
     "text": [
      "Confusion Matrix:\n",
      "\t\tActual Positive\tActual Negative\n",
      "Predicted Positive\t0\t\t0\n",
      "Predicted Negative\t0\t\t0\n",
      "----------------------------------------\n",
      "Area Under ROC (AUC): 0.7726122437113406\n",
      "Area Under PR Curve: 0.7361512293764404\n",
      "Accuracy: 0.7117586469420353\n",
      "Weighted Precision: 0.7144960987788367\n",
      "Weighted Recall: 0.7117586469420353\n",
      "F1 Score: 0.7101588990168914\n"
     ]
    }
   ],
   "source": [
    "from pyspark.ml.evaluation import BinaryClassificationEvaluator, MulticlassClassificationEvaluator\n",
    "\n",
    "# Area Under ROC\n",
    "binary_evaluator = BinaryClassificationEvaluator(labelCol=\"cardio\")\n",
    "auc = binary_evaluator.evaluate(predictions_svc, {binary_evaluator.metricName: \"areaUnderROC\"})\n",
    "\n",
    "# Area Under PR Curve\n",
    "pr = binary_evaluator.evaluate(predictions_svc, {binary_evaluator.metricName: \"areaUnderPR\"})\n",
    "\n",
    "# Accuracy\n",
    "multi_evaluator = MulticlassClassificationEvaluator(labelCol=\"cardio\", metricName=\"accuracy\")\n",
    "accuracy = multi_evaluator.evaluate(predictions_svc)\n",
    "\n",
    "# Weighted Precision\n",
    "weighted_precision = multi_evaluator.evaluate(predictions_svc, {multi_evaluator.metricName: \"weightedPrecision\"})\n",
    "\n",
    "# Weighted Recall\n",
    "weighted_recall = multi_evaluator.evaluate(predictions_svc, {multi_evaluator.metricName: \"weightedRecall\"})\n",
    "\n",
    "# F1 Score\n",
    "f1 = multi_evaluator.evaluate(predictions_svc, {multi_evaluator.metricName: \"f1\"})\n",
    "\n",
    "# Create a confusion matrix\n",
    "true_positives = predictions.filter((col(\"cardio\") == 1) & (col(\"prediction\") == 1)).count()\n",
    "true_negatives = predictions.filter((col(\"cardio\") == 0) & (col(\"prediction\") == 0)).count()\n",
    "false_positives = predictions.filter((col(\"cardio\") == 0) & (col(\"prediction\") == 1)).count()\n",
    "false_negatives = predictions.filter((col(\"cardio\") == 1) & (col(\"prediction\") == 0)).count()\n",
    "\n",
    "print(\"Confusion Matrix:\")\n",
    "print(\"\\t\\tActual Positive\\tActual Negative\")\n",
    "print(\"Predicted Positive\\t{}\\t\\t{}\".format(true_positives, false_positives))\n",
    "print(\"Predicted Negative\\t{}\\t\\t{}\".format(false_negatives, true_negatives))\n",
    "print('-'*40)\n",
    "\n",
    "print(f\"Area Under ROC (AUC): {auc}\")\n",
    "print(f\"Area Under PR Curve: {pr}\")\n",
    "print(f\"Accuracy: {accuracy}\")\n",
    "print(f\"Weighted Precision: {weighted_precision}\")\n",
    "print(f\"Weighted Recall: {weighted_recall}\")\n",
    "print(f\"F1 Score: {f1}\")\n"
   ]
  },
  {
   "cell_type": "code",
   "execution_count": 74,
   "id": "a61f0018",
   "metadata": {},
   "outputs": [
    {
     "name": "stdout",
     "output_type": "stream",
     "text": [
      "Coefficients: [0.04462680826239622,0.24300854309284273,0.04970785948097534,0.008465455949409489,0.33635577357778523,0.04121464329231587,0.10291043942123893,1.046140275138727,-0.0004969266625572437]\n",
      "Intercept: -13.84494813097488\n"
     ]
    }
   ],
   "source": [
    "coefficients = svc_model.coefficients\n",
    "intercept = svc_model.intercept\n",
    "\n",
    "print(\"Coefficients:\", coefficients)\n",
    "print(\"Intercept:\", intercept)"
   ]
  },
  {
   "cell_type": "code",
   "execution_count": 75,
   "id": "a9def971",
   "metadata": {},
   "outputs": [],
   "source": [
    "# Initialize the SVM classifier\n",
    "lg = LogisticRegression(labelCol='cardio')\n",
    "\n",
    "# Train the model\n",
    "lg_model = lg.fit(final_data)\n",
    "\n",
    "# Make predictions\n",
    "predictions_lg = lg_model.transform(final_data)"
   ]
  },
  {
   "cell_type": "code",
   "execution_count": 76,
   "id": "b305ef13",
   "metadata": {},
   "outputs": [
    {
     "name": "stdout",
     "output_type": "stream",
     "text": [
      "Logistic Regression\n",
      "Confusion Matrix:\n",
      "\t\tActual Positive\tActual Negative\n",
      "Predicted Positive\t21759\t\t8552\n",
      "Predicted Negative\t11005\t\t25673\n",
      "----------------------------------------\n",
      "Area Under ROC (AUC): 0.7726085218512471\n",
      "Area Under PR Curve: 0.7361516997789419\n",
      "Accuracy: 0.7080565465972025\n",
      "Weighted Precision: 0.7087120748123081\n",
      "Weighted Recall: 0.7080565465972025\n",
      "F1 Score: 0.707429795301902\n"
     ]
    }
   ],
   "source": [
    "binary_evaluator = BinaryClassificationEvaluator(labelCol=\"cardio\")\n",
    "auc = binary_evaluator.evaluate(predictions_svc, {binary_evaluator.metricName: \"areaUnderROC\"})\n",
    "\n",
    "# Area Under PR Curve\n",
    "pr = binary_evaluator.evaluate(predictions_svc, {binary_evaluator.metricName: \"areaUnderPR\"})\n",
    "\n",
    "# Accuracy\n",
    "multi_evaluator = MulticlassClassificationEvaluator(labelCol=\"cardio\", metricName=\"accuracy\")\n",
    "accuracy = multi_evaluator.evaluate(predictions_lg)\n",
    "\n",
    "# Weighted Precision\n",
    "weighted_precision = multi_evaluator.evaluate(predictions_lg, {multi_evaluator.metricName: \"weightedPrecision\"})\n",
    "\n",
    "# Weighted Recall\n",
    "weighted_recall = multi_evaluator.evaluate(predictions_lg, {multi_evaluator.metricName: \"weightedRecall\"})\n",
    "\n",
    "# F1 Score\n",
    "f1 = multi_evaluator.evaluate(predictions_lg, {multi_evaluator.metricName: \"f1\"})\n",
    "\n",
    "# Create a confusion matrix\n",
    "true_positives = predictions_lg.filter((col(\"cardio\") == 1) & (col(\"prediction\") == 1)).count()\n",
    "true_negatives = predictions_lg.filter((col(\"cardio\") == 0) & (col(\"prediction\") == 0)).count()\n",
    "false_positives = predictions_lg.filter((col(\"cardio\") == 0) & (col(\"prediction\") == 1)).count()\n",
    "false_negatives = predictions_lg.filter((col(\"cardio\") == 1) & (col(\"prediction\") == 0)).count()\n",
    "print('Logistic Regression')\n",
    "print(\"Confusion Matrix:\")\n",
    "print(\"\\t\\tActual Positive\\tActual Negative\")\n",
    "print(\"Predicted Positive\\t{}\\t\\t{}\".format(true_positives, false_positives))\n",
    "print(\"Predicted Negative\\t{}\\t\\t{}\".format(false_negatives, true_negatives))\n",
    "print('-'*40)\n",
    "\n",
    "print(f\"Area Under ROC (AUC): {auc}\")\n",
    "print(f\"Area Under PR Curve: {pr}\")\n",
    "print(f\"Accuracy: {accuracy}\")\n",
    "print(f\"Weighted Precision: {weighted_precision}\")\n",
    "print(f\"Weighted Recall: {weighted_recall}\")\n",
    "print(f\"F1 Score: {f1}\")"
   ]
  },
  {
   "cell_type": "code",
   "execution_count": 77,
   "id": "e241c7e4",
   "metadata": {},
   "outputs": [],
   "source": [
    "# Initialize the ramdom forest classifier\n",
    "rdf = RandomForestClassifier(labelCol='cardio')\n",
    "\n",
    "# Train the model\n",
    "rdf_model = rdf.fit(final_data)\n",
    "\n",
    "# Make predictions\n",
    "predictions_rdf = rdf_model.transform(final_data)"
   ]
  },
  {
   "cell_type": "code",
   "execution_count": 78,
   "id": "2854164f",
   "metadata": {},
   "outputs": [
    {
     "name": "stdout",
     "output_type": "stream",
     "text": [
      "Logistic Regression\n",
      "Confusion Matrix:\n",
      "\t\tActual Positive\tActual Negative\n",
      "Predicted Positive\t21151\t\t6708\n",
      "Predicted Negative\t11613\t\t27517\n",
      "----------------------------------------\n",
      "Area Under ROC (AUC): 0.7887629142570295\n",
      "Area Under PR Curve: 0.7647187335038681\n",
      "Accuracy: 0.7265073370254818\n",
      "Weighted Precision: 0.7306074200370054\n",
      "Weighted Recall: 0.7265073370254818\n",
      "F1 Score: 0.7245869702641076\n"
     ]
    }
   ],
   "source": [
    "binary_evaluator = BinaryClassificationEvaluator(labelCol=\"cardio\")\n",
    "auc = binary_evaluator.evaluate(predictions_rdf, {binary_evaluator.metricName: \"areaUnderROC\"})\n",
    "\n",
    "# Area Under PR Curve\n",
    "pr = binary_evaluator.evaluate(predictions_rdf, {binary_evaluator.metricName: \"areaUnderPR\"})\n",
    "\n",
    "# Accuracy\n",
    "multi_evaluator = MulticlassClassificationEvaluator(labelCol=\"cardio\", metricName=\"accuracy\")\n",
    "accuracy = multi_evaluator.evaluate(predictions_rdf)\n",
    "\n",
    "# Weighted Precision\n",
    "weighted_precision = multi_evaluator.evaluate(predictions_rdf, {multi_evaluator.metricName: \"weightedPrecision\"})\n",
    "\n",
    "# Weighted Recall\n",
    "weighted_recall = multi_evaluator.evaluate(predictions_rdf, {multi_evaluator.metricName: \"weightedRecall\"})\n",
    "\n",
    "# F1 Score\n",
    "f1 = multi_evaluator.evaluate(predictions_rdf, {multi_evaluator.metricName: \"f1\"})\n",
    "\n",
    "# Create a confusion matrix\n",
    "true_positives = predictions_rdf.filter((col(\"cardio\") == 1) & (col(\"prediction\") == 1)).count()\n",
    "true_negatives = predictions_rdf.filter((col(\"cardio\") == 0) & (col(\"prediction\") == 0)).count()\n",
    "false_positives = predictions_rdf.filter((col(\"cardio\") == 0) & (col(\"prediction\") == 1)).count()\n",
    "false_negatives = predictions_rdf.filter((col(\"cardio\") == 1) & (col(\"prediction\") == 0)).count()\n",
    "print('Logistic Regression')\n",
    "print(\"Confusion Matrix:\")\n",
    "print(\"\\t\\tActual Positive\\tActual Negative\")\n",
    "print(\"Predicted Positive\\t{}\\t\\t{}\".format(true_positives, false_positives))\n",
    "print(\"Predicted Negative\\t{}\\t\\t{}\".format(false_negatives, true_negatives))\n",
    "print('-'*40)\n",
    "\n",
    "print(f\"Area Under ROC (AUC): {auc}\")\n",
    "print(f\"Area Under PR Curve: {pr}\")\n",
    "print(f\"Accuracy: {accuracy}\")\n",
    "print(f\"Weighted Precision: {weighted_precision}\")\n",
    "print(f\"Weighted Recall: {weighted_recall}\")\n",
    "print(f\"F1 Score: {f1}\")"
   ]
  },
  {
   "cell_type": "code",
   "execution_count": 75,
   "id": "3982293b",
   "metadata": {},
   "outputs": [
    {
     "name": "stdout",
     "output_type": "stream",
     "text": [
      "root\n",
      " |-- features: vector (nullable = true)\n",
      " |-- cardio: long (nullable = true)\n",
      "\n"
     ]
    }
   ],
   "source": [
    "final_data.printSchema()"
   ]
  },
  {
   "cell_type": "code",
   "execution_count": 80,
   "id": "5906cb98",
   "metadata": {},
   "outputs": [
    {
     "ename": "NameError",
     "evalue": "name 'sorted_features' is not defined",
     "output_type": "error",
     "traceback": [
      "\u001b[0;31m---------------------------------------------------------------------------\u001b[0m",
      "\u001b[0;31mNameError\u001b[0m                                 Traceback (most recent call last)",
      "Cell \u001b[0;32mIn[80], line 4\u001b[0m\n\u001b[1;32m      2\u001b[0m importance_values \u001b[38;5;241m=\u001b[39m rdf_model\u001b[38;5;241m.\u001b[39mfeatureImportances\u001b[38;5;241m.\u001b[39mtoArray()\u001b[38;5;241m.\u001b[39mtolist()\n\u001b[1;32m      3\u001b[0m features_and_importance \u001b[38;5;241m=\u001b[39m \u001b[38;5;28mlist\u001b[39m(\u001b[38;5;28mzip\u001b[39m(feature_names, importance_values))\n\u001b[0;32m----> 4\u001b[0m sorted_feature_names, sorted_importance_values \u001b[38;5;241m=\u001b[39m \u001b[38;5;28mzip\u001b[39m(\u001b[38;5;241m*\u001b[39msorted_features)\n\u001b[1;32m      6\u001b[0m \u001b[38;5;66;03m# Create a bar chart\u001b[39;00m\n\u001b[1;32m      7\u001b[0m plt\u001b[38;5;241m.\u001b[39mfigure(figsize\u001b[38;5;241m=\u001b[39m(\u001b[38;5;241m12\u001b[39m, \u001b[38;5;241m8\u001b[39m))\n",
      "\u001b[0;31mNameError\u001b[0m: name 'sorted_features' is not defined"
     ]
    }
   ],
   "source": [
    "feature_names = assembler.getInputCols()\n",
    "importance_values = rdf_model.featureImportances.toArray().tolist()\n",
    "features_and_importance = list(zip(feature_names, importance_values))\n",
    "sorted_feature_names, sorted_importance_values = zip(*sorted_features)\n",
    "\n",
    "# Create a bar chart\n",
    "plt.figure(figsize=(12, 8))\n",
    "plt.barh(sorted_feature_names, sorted_importance_values, align='center')\n",
    "plt.xlabel('Importance')\n",
    "plt.title('Feature Importances from Random Forest')\n",
    "plt.gca().invert_yaxis()  # Display the most important feature at the top\n",
    "plt.show()\n"
   ]
  },
  {
   "cell_type": "code",
   "execution_count": null,
   "id": "1fc4aeaa",
   "metadata": {},
   "outputs": [],
   "source": [
    "# Initialize the decision tree\n",
    "dtc = DecisionTreeClassifier(labelCol='cardio')\n",
    "\n",
    "# Train the model\n",
    "dtc_model = dtc.fit(final_data)\n",
    "\n",
    "# Make predictions\n",
    "predictions_dtc = dtc_model.transform(final_data)"
   ]
  },
  {
   "cell_type": "code",
   "execution_count": null,
   "id": "181f2665",
   "metadata": {},
   "outputs": [],
   "source": [
    "binary_evaluator = BinaryClassificationEvaluator(labelCol=\"cardio\")\n",
    "auc = binary_evaluator.evaluate(predictions_dtc, {binary_evaluator.metricName: \"areaUnderROC\"})\n",
    "\n",
    "# Area Under PR Curve\n",
    "pr = binary_evaluator.evaluate(predictions_dtc, {binary_evaluator.metricName: \"areaUnderPR\"})\n",
    "\n",
    "# Accuracy\n",
    "multi_evaluator = MulticlassClassificationEvaluator(labelCol=\"cardio\", metricName=\"accuracy\")\n",
    "accuracy = multi_evaluator.evaluate(predictions_dtc)\n",
    "\n",
    "# Weighted Precision\n",
    "weighted_precision = multi_evaluator.evaluate(predictions_dtc, {multi_evaluator.metricName: \"weightedPrecision\"})\n",
    "\n",
    "# Weighted Recall\n",
    "weighted_recall = multi_evaluator.evaluate(predictions_dtc, {multi_evaluator.metricName: \"weightedRecall\"})\n",
    "\n",
    "# F1 Score\n",
    "f1 = multi_evaluator.evaluate(predictions_dtc, {multi_evaluator.metricName: \"f1\"})\n",
    "\n",
    "# Create a confusion matrix\n",
    "true_positives = predictions_dtc.filter((col(\"cardio\") == 1) & (col(\"prediction\") == 1)).count()\n",
    "true_negatives = predictions_dtc.filter((col(\"cardio\") == 0) & (col(\"prediction\") == 0)).count()\n",
    "false_positives = predictions_dtc.filter((col(\"cardio\") == 0) & (col(\"prediction\") == 1)).count()\n",
    "false_negatives = predictions_dtc.filter((col(\"cardio\") == 1) & (col(\"prediction\") == 0)).count()\n",
    "print('Decision Tree')\n",
    "print(\"Confusion Matrix:\")\n",
    "print(\"\\t\\tActual Positive\\tActual Negative\")\n",
    "print(\"Predicted Positive\\t{}\\t\\t{}\".format(true_positives, false_positives))\n",
    "print(\"Predicted Negative\\t{}\\t\\t{}\".format(false_negatives, true_negatives))\n",
    "print('-'*40)\n",
    "\n",
    "print(f\"Area Under ROC (AUC): {auc}\")\n",
    "print(f\"Area Under PR Curve: {pr}\")\n",
    "print(f\"Accuracy: {accuracy}\")\n",
    "print(f\"Weighted Precision: {weighted_precision}\")\n",
    "print(f\"Weighted Recall: {weighted_recall}\")\n",
    "print(f\"F1 Score: {f1}\")"
   ]
  },
  {
   "cell_type": "code",
   "execution_count": 81,
   "id": "8f40c169",
   "metadata": {},
   "outputs": [
    {
     "ename": "NameError",
     "evalue": "name 'dtc_model' is not defined",
     "output_type": "error",
     "traceback": [
      "\u001b[0;31m---------------------------------------------------------------------------\u001b[0m",
      "\u001b[0;31mNameError\u001b[0m                                 Traceback (most recent call last)",
      "Cell \u001b[0;32mIn[81], line 3\u001b[0m\n\u001b[1;32m      1\u001b[0m feature_names \u001b[38;5;241m=\u001b[39m assembler\u001b[38;5;241m.\u001b[39mgetInputCols()\n\u001b[0;32m----> 3\u001b[0m tree_string \u001b[38;5;241m=\u001b[39m dtc_model\u001b[38;5;241m.\u001b[39mtoDebugString\n\u001b[1;32m      5\u001b[0m \u001b[38;5;28;01mfor\u001b[39;00m i, feature_name \u001b[38;5;129;01min\u001b[39;00m \u001b[38;5;28menumerate\u001b[39m(feature_names):\n\u001b[1;32m      6\u001b[0m     tree_string \u001b[38;5;241m=\u001b[39m tree_string\u001b[38;5;241m.\u001b[39mreplace(\u001b[38;5;124mf\u001b[39m\u001b[38;5;124m'\u001b[39m\u001b[38;5;124mfeature \u001b[39m\u001b[38;5;132;01m{\u001b[39;00mi\u001b[38;5;132;01m}\u001b[39;00m\u001b[38;5;124m'\u001b[39m, feature_name)\n",
      "\u001b[0;31mNameError\u001b[0m: name 'dtc_model' is not defined"
     ]
    }
   ],
   "source": [
    "feature_names = assembler.getInputCols()\n",
    "\n",
    "tree_string = dtc_model.toDebugString\n",
    "\n",
    "for i, feature_name in enumerate(feature_names):\n",
    "    tree_string = tree_string.replace(f'feature {i}', feature_name)\n",
    "\n",
    "print(tree_string)\n",
    "\n"
   ]
  },
  {
   "cell_type": "code",
   "execution_count": 82,
   "id": "26d45e3e",
   "metadata": {},
   "outputs": [
    {
     "ename": "NameError",
     "evalue": "name 'dtc_model' is not defined",
     "output_type": "error",
     "traceback": [
      "\u001b[0;31m---------------------------------------------------------------------------\u001b[0m",
      "\u001b[0;31mNameError\u001b[0m                                 Traceback (most recent call last)",
      "Cell \u001b[0;32mIn[82], line 1\u001b[0m\n\u001b[0;32m----> 1\u001b[0m importances \u001b[38;5;241m=\u001b[39m dtc_model\u001b[38;5;241m.\u001b[39mfeatureImportances\u001b[38;5;241m.\u001b[39mtoArray()\n\u001b[1;32m      3\u001b[0m feature_names \u001b[38;5;241m=\u001b[39m assembler\u001b[38;5;241m.\u001b[39mgetInputCols()\n\u001b[1;32m      5\u001b[0m df_importance \u001b[38;5;241m=\u001b[39m pd\u001b[38;5;241m.\u001b[39mDataFrame({\n\u001b[1;32m      6\u001b[0m     \u001b[38;5;124m'\u001b[39m\u001b[38;5;124mfeature\u001b[39m\u001b[38;5;124m'\u001b[39m: feature_names,\n\u001b[1;32m      7\u001b[0m     \u001b[38;5;124m'\u001b[39m\u001b[38;5;124mimportance\u001b[39m\u001b[38;5;124m'\u001b[39m: importances\n\u001b[1;32m      8\u001b[0m })\n",
      "\u001b[0;31mNameError\u001b[0m: name 'dtc_model' is not defined"
     ]
    }
   ],
   "source": [
    "importances = dtc_model.featureImportances.toArray()\n",
    "\n",
    "feature_names = assembler.getInputCols()\n",
    "\n",
    "df_importance = pd.DataFrame({\n",
    "    'feature': feature_names,\n",
    "    'importance': importances\n",
    "})\n",
    "\n",
    "df_importance = df_importance.sort_values(by='importance', ascending=False)\n",
    "\n",
    "plt.figure(figsize=(12, 8))\n",
    "df_importance.set_index('feature').plot(kind='barh', legend=False)\n",
    "plt.gca().invert_yaxis()  # Highest importance at the top\n",
    "plt.title('Feature Importance')\n",
    "plt.xlabel('Importance')\n",
    "plt.ylabel('Feature')\n",
    "plt.show()\n"
   ]
  },
  {
   "cell_type": "code",
   "execution_count": 84,
   "id": "2840af90",
   "metadata": {},
   "outputs": [
    {
     "name": "stderr",
     "output_type": "stream",
     "text": [
      "23/10/07 12:42:49 WARN DAGScheduler: Broadcasting large task binary with size 1053.9 KiB\n",
      "23/10/07 12:42:50 WARN DAGScheduler: Broadcasting large task binary with size 1121.0 KiB\n",
      "23/10/07 12:42:51 WARN DAGScheduler: Broadcasting large task binary with size 1053.9 KiB\n",
      "23/10/07 12:42:51 WARN DAGScheduler: Broadcasting large task binary with size 1573.2 KiB\n",
      "23/10/07 12:42:52 WARN DAGScheduler: Broadcasting large task binary with size 2.2 MiB\n",
      "23/10/07 12:42:52 WARN DAGScheduler: Broadcasting large task binary with size 3.2 MiB\n",
      "23/10/07 12:42:52 WARN DAGScheduler: Broadcasting large task binary with size 4.3 MiB\n",
      "23/10/07 12:42:53 WARN DAGScheduler: Broadcasting large task binary with size 5.7 MiB\n",
      "23/10/07 12:42:53 WARN DAGScheduler: Broadcasting large task binary with size 7.3 MiB\n",
      "23/10/07 12:42:54 WARN DAGScheduler: Broadcasting large task binary with size 8.9 MiB\n",
      "23/10/07 12:42:55 WARN DAGScheduler: Broadcasting large task binary with size 10.7 MiB\n",
      "23/10/07 12:42:56 WARN DAGScheduler: Broadcasting large task binary with size 12.4 MiB\n",
      "                                                                                \r"
     ]
    },
    {
     "ename": "KeyboardInterrupt",
     "evalue": "",
     "output_type": "error",
     "traceback": [
      "\u001b[0;31m---------------------------------------------------------------------------\u001b[0m",
      "\u001b[0;31mIndexError\u001b[0m                                Traceback (most recent call last)",
      "File \u001b[0;32m~/anaconda3/lib/python3.11/multiprocessing/pool.py:856\u001b[0m, in \u001b[0;36mIMapIterator.next\u001b[0;34m(self, timeout)\u001b[0m\n\u001b[1;32m    855\u001b[0m \u001b[38;5;28;01mtry\u001b[39;00m:\n\u001b[0;32m--> 856\u001b[0m     item \u001b[38;5;241m=\u001b[39m \u001b[38;5;28mself\u001b[39m\u001b[38;5;241m.\u001b[39m_items\u001b[38;5;241m.\u001b[39mpopleft()\n\u001b[1;32m    857\u001b[0m \u001b[38;5;28;01mexcept\u001b[39;00m \u001b[38;5;167;01mIndexError\u001b[39;00m:\n",
      "\u001b[0;31mIndexError\u001b[0m: pop from an empty deque",
      "\nDuring handling of the above exception, another exception occurred:\n",
      "\u001b[0;31mKeyboardInterrupt\u001b[0m                         Traceback (most recent call last)",
      "Cell \u001b[0;32mIn[84], line 17\u001b[0m\n\u001b[1;32m      9\u001b[0m evaluator \u001b[38;5;241m=\u001b[39m BinaryClassificationEvaluator(labelCol\u001b[38;5;241m=\u001b[39m\u001b[38;5;124m'\u001b[39m\u001b[38;5;124mcardio\u001b[39m\u001b[38;5;124m'\u001b[39m, metricName\u001b[38;5;241m=\u001b[39m\u001b[38;5;124m\"\u001b[39m\u001b[38;5;124mareaUnderROC\u001b[39m\u001b[38;5;124m\"\u001b[39m)\n\u001b[1;32m     11\u001b[0m crossval \u001b[38;5;241m=\u001b[39m CrossValidator(estimator\u001b[38;5;241m=\u001b[39mrf,\n\u001b[1;32m     12\u001b[0m                           estimatorParamMaps\u001b[38;5;241m=\u001b[39mparamGrid,\n\u001b[1;32m     13\u001b[0m                           evaluator\u001b[38;5;241m=\u001b[39mevaluator,\n\u001b[1;32m     14\u001b[0m                           numFolds\u001b[38;5;241m=\u001b[39m\u001b[38;5;241m10\u001b[39m)\n\u001b[0;32m---> 17\u001b[0m cvModel \u001b[38;5;241m=\u001b[39m crossval\u001b[38;5;241m.\u001b[39mfit(final_data)\n\u001b[1;32m     19\u001b[0m best_rf_model \u001b[38;5;241m=\u001b[39m cvModel\u001b[38;5;241m.\u001b[39mbestModel\n\u001b[1;32m     20\u001b[0m \u001b[38;5;28mprint\u001b[39m(\u001b[38;5;124m\"\u001b[39m\u001b[38;5;124mBest number of trees:\u001b[39m\u001b[38;5;124m\"\u001b[39m, best_rf_model\u001b[38;5;241m.\u001b[39mgetNumTrees)\n",
      "File \u001b[0;32m~/anaconda3/lib/python3.11/site-packages/pyspark/ml/base.py:205\u001b[0m, in \u001b[0;36mEstimator.fit\u001b[0;34m(self, dataset, params)\u001b[0m\n\u001b[1;32m    203\u001b[0m         \u001b[38;5;28;01mreturn\u001b[39;00m \u001b[38;5;28mself\u001b[39m\u001b[38;5;241m.\u001b[39mcopy(params)\u001b[38;5;241m.\u001b[39m_fit(dataset)\n\u001b[1;32m    204\u001b[0m     \u001b[38;5;28;01melse\u001b[39;00m:\n\u001b[0;32m--> 205\u001b[0m         \u001b[38;5;28;01mreturn\u001b[39;00m \u001b[38;5;28mself\u001b[39m\u001b[38;5;241m.\u001b[39m_fit(dataset)\n\u001b[1;32m    206\u001b[0m \u001b[38;5;28;01melse\u001b[39;00m:\n\u001b[1;32m    207\u001b[0m     \u001b[38;5;28;01mraise\u001b[39;00m \u001b[38;5;167;01mTypeError\u001b[39;00m(\n\u001b[1;32m    208\u001b[0m         \u001b[38;5;124m\"\u001b[39m\u001b[38;5;124mParams must be either a param map or a list/tuple of param maps, \u001b[39m\u001b[38;5;124m\"\u001b[39m\n\u001b[1;32m    209\u001b[0m         \u001b[38;5;124m\"\u001b[39m\u001b[38;5;124mbut got \u001b[39m\u001b[38;5;132;01m%s\u001b[39;00m\u001b[38;5;124m.\u001b[39m\u001b[38;5;124m\"\u001b[39m \u001b[38;5;241m%\u001b[39m \u001b[38;5;28mtype\u001b[39m(params)\n\u001b[1;32m    210\u001b[0m     )\n",
      "File \u001b[0;32m~/anaconda3/lib/python3.11/site-packages/pyspark/ml/tuning.py:847\u001b[0m, in \u001b[0;36mCrossValidator._fit\u001b[0;34m(self, dataset)\u001b[0m\n\u001b[1;32m    841\u001b[0m train \u001b[38;5;241m=\u001b[39m datasets[i][\u001b[38;5;241m0\u001b[39m]\u001b[38;5;241m.\u001b[39mcache()\n\u001b[1;32m    843\u001b[0m tasks \u001b[38;5;241m=\u001b[39m \u001b[38;5;28mmap\u001b[39m(\n\u001b[1;32m    844\u001b[0m     inheritable_thread_target,\n\u001b[1;32m    845\u001b[0m     _parallelFitTasks(est, train, eva, validation, epm, collectSubModelsParam),\n\u001b[1;32m    846\u001b[0m )\n\u001b[0;32m--> 847\u001b[0m \u001b[38;5;28;01mfor\u001b[39;00m j, metric, subModel \u001b[38;5;129;01min\u001b[39;00m pool\u001b[38;5;241m.\u001b[39mimap_unordered(\u001b[38;5;28;01mlambda\u001b[39;00m f: f(), tasks):\n\u001b[1;32m    848\u001b[0m     metrics_all[i][j] \u001b[38;5;241m=\u001b[39m metric\n\u001b[1;32m    849\u001b[0m     \u001b[38;5;28;01mif\u001b[39;00m collectSubModelsParam:\n",
      "File \u001b[0;32m~/anaconda3/lib/python3.11/multiprocessing/pool.py:861\u001b[0m, in \u001b[0;36mIMapIterator.next\u001b[0;34m(self, timeout)\u001b[0m\n\u001b[1;32m    859\u001b[0m     \u001b[38;5;28mself\u001b[39m\u001b[38;5;241m.\u001b[39m_pool \u001b[38;5;241m=\u001b[39m \u001b[38;5;28;01mNone\u001b[39;00m\n\u001b[1;32m    860\u001b[0m     \u001b[38;5;28;01mraise\u001b[39;00m \u001b[38;5;167;01mStopIteration\u001b[39;00m \u001b[38;5;28;01mfrom\u001b[39;00m \u001b[38;5;28;01mNone\u001b[39;00m\n\u001b[0;32m--> 861\u001b[0m \u001b[38;5;28mself\u001b[39m\u001b[38;5;241m.\u001b[39m_cond\u001b[38;5;241m.\u001b[39mwait(timeout)\n\u001b[1;32m    862\u001b[0m \u001b[38;5;28;01mtry\u001b[39;00m:\n\u001b[1;32m    863\u001b[0m     item \u001b[38;5;241m=\u001b[39m \u001b[38;5;28mself\u001b[39m\u001b[38;5;241m.\u001b[39m_items\u001b[38;5;241m.\u001b[39mpopleft()\n",
      "File \u001b[0;32m~/anaconda3/lib/python3.11/threading.py:320\u001b[0m, in \u001b[0;36mCondition.wait\u001b[0;34m(self, timeout)\u001b[0m\n\u001b[1;32m    318\u001b[0m \u001b[38;5;28;01mtry\u001b[39;00m:    \u001b[38;5;66;03m# restore state no matter what (e.g., KeyboardInterrupt)\u001b[39;00m\n\u001b[1;32m    319\u001b[0m     \u001b[38;5;28;01mif\u001b[39;00m timeout \u001b[38;5;129;01mis\u001b[39;00m \u001b[38;5;28;01mNone\u001b[39;00m:\n\u001b[0;32m--> 320\u001b[0m         waiter\u001b[38;5;241m.\u001b[39macquire()\n\u001b[1;32m    321\u001b[0m         gotit \u001b[38;5;241m=\u001b[39m \u001b[38;5;28;01mTrue\u001b[39;00m\n\u001b[1;32m    322\u001b[0m     \u001b[38;5;28;01melse\u001b[39;00m:\n",
      "\u001b[0;31mKeyboardInterrupt\u001b[0m: "
     ]
    }
   ],
   "source": [
    "\n",
    "\n",
    "\n",
    "rf = RandomForestClassifier(labelCol='cardio')\n",
    "\n",
    "paramGrid = (ParamGridBuilder()\n",
    "             .addGrid(rf.numTrees, [10, 50, 100, 150, 200, 300, 400, 500])\n",
    "             .addGrid(rf.maxDepth, [10, 20, 30, 40, 50])\n",
    "             .addGrid(rf.impurity, [\"entropy\", \"gini\"])\n",
    "             .build())\n",
    "\n",
    "evaluator = BinaryClassificationEvaluator(labelCol='cardio', metricName=\"areaUnderROC\")\n",
    "\n",
    "crossval = CrossValidator(estimator=rf,\n",
    "                          estimatorParamMaps=paramGrid,\n",
    "                          evaluator=evaluator,\n",
    "                          numFolds=10)\n",
    "\n",
    "\n",
    "cvModel = crossval.fit(final_data)\n",
    "\n",
    "best_rf_model = cvModel.bestModel\n",
    "print(\"Best number of trees:\", best_rf_model.getNumTrees)\n",
    "print(\"Best max depth:\", best_rf_model.getOrDefault(\"maxDepth\"))\n",
    "print(\"Best impurity criterion:\", best_rf_model.getOrDefault(\"impurity\"))\n"
   ]
  },
  {
   "cell_type": "code",
   "execution_count": 142,
   "id": "170fef02",
   "metadata": {},
   "outputs": [
    {
     "name": "stderr",
     "output_type": "stream",
     "text": [
      "23/10/06 00:06:07 WARN CacheManager: Asked to cache already cached data.\n",
      "23/10/06 00:06:07 WARN CacheManager: Asked to cache already cached data.\n"
     ]
    }
   ],
   "source": [
    "dt = DecisionTreeClassifier(labelCol='cardio')\n",
    "\n",
    "# 2. Define the parameter grid\n",
    "paramGrid = (ParamGridBuilder()\n",
    "             .addGrid(dt.impurity, ['gini', 'entropy'])\n",
    "             .addGrid(dt.maxDepth, [10, 20, 30])\n",
    "             .addGrid(dt.minInstancesPerNode, [2, 5, 10])\n",
    "             .addGrid(dt.minInfoGain, [1, 2, 4])\n",
    "             .build())\n",
    "\n",
    "# 3. Specify the evaluator\n",
    "evaluator = BinaryClassificationEvaluator(labelCol='cardio', metricName=\"areaUnderROC\")\n",
    "\n",
    "# 4. Run cross-validation\n",
    "crossval = CrossValidator(estimator=dt,\n",
    "                          estimatorParamMaps=paramGrid,\n",
    "                          evaluator=evaluator,\n",
    "                          numFolds=10)\n",
    "\n",
    "cvModel = crossval.fit(final_data)"
   ]
  },
  {
   "cell_type": "code",
   "execution_count": null,
   "id": "6b8a162d",
   "metadata": {},
   "outputs": [],
   "source": [
    "# 5. Extract the best parameters\n",
    "best_model = cvModel.bestModel\n",
    "print(f\"Best Parameters: impurity={best_model.getImpurity()}, maxDepth={best_model.getMaxDepth()}, minInstancesPerNode={best_model.getMinInstancesPerNode()}, minInfoGain={best_model.getMinInfoGain()}\")\n",
    "\n",
    "# 6. Visualize the results\n",
    "avg_metrics = cvModel.avgMetrics\n",
    "\n",
    "# Extract max_depth values for x-axis\n",
    "max_depths = [x[maxDepth] for x in paramGrid if x[maxDepth] is not None]\n",
    "\n",
    "plt.figure(figsize=(8, 4))\n",
    "plt.title(\"Cross-validation results for max_depth parameter\", fontsize=16)\n",
    "plt.xlabel(\"max_depth\")\n",
    "plt.ylabel(\"Mean Test Score\")\n",
    "plt.grid(True)\n",
    "plt.plot(max_depths, avg_metrics, 'o-', color=\"r\")\n",
    "plt.show()"
   ]
  },
  {
   "cell_type": "code",
   "execution_count": 141,
   "id": "3d164572",
   "metadata": {},
   "outputs": [
    {
     "ename": "NameError",
     "evalue": "name 'cvModel' is not defined",
     "output_type": "error",
     "traceback": [
      "\u001b[0;31m---------------------------------------------------------------------------\u001b[0m",
      "\u001b[0;31mNameError\u001b[0m                                 Traceback (most recent call last)",
      "Cell \u001b[0;32mIn[141], line 2\u001b[0m\n\u001b[1;32m      1\u001b[0m \u001b[38;5;66;03m# 1. Extract the tuning results from the CrossValidatorModel\u001b[39;00m\n\u001b[0;32m----> 2\u001b[0m param_maps \u001b[38;5;241m=\u001b[39m cvModel\u001b[38;5;241m.\u001b[39mgetEstimatorParamMaps()\n\u001b[1;32m      3\u001b[0m avg_metrics \u001b[38;5;241m=\u001b[39m cvModel\u001b[38;5;241m.\u001b[39mavgMetrics\n\u001b[1;32m      5\u001b[0m \u001b[38;5;66;03m# 2. Extract the max_depth values and their corresponding average metric scores\u001b[39;00m\n",
      "\u001b[0;31mNameError\u001b[0m: name 'cvModel' is not defined"
     ]
    }
   ],
   "source": [
    "# 1. Extract the tuning results from the CrossValidatorModel\n",
    "param_maps = cvModel.getEstimatorParamMaps()\n",
    "avg_metrics = cvModel.avgMetrics\n",
    "\n",
    "# 2. Extract the max_depth values and their corresponding average metric scores\n",
    "max_depths = 10\n",
    "avg_scores = avg_metrics\n",
    "\n",
    "# Sort results based on max_depths for a cleaner plot\n",
    "sorted_indices = sorted(range(len(max_depths)), key=lambda k: max_depths[k])\n",
    "max_depths = [max_depths[i] for i in sorted_indices]\n",
    "avg_scores = [avg_scores[i] for i in sorted_indices]\n",
    "\n",
    "# 3. Plot the results using matplotlib\n",
    "import matplotlib.pyplot as plt\n",
    "\n",
    "plt.figure(figsize=(8, 4))\n",
    "plt.title(\"GridSearchCV for max_depth parameter\", fontsize=16)\n",
    "plt.xlabel(\"max_depth\")\n",
    "plt.ylabel(\"Mean Test Score\")\n",
    "plt.grid(True)\n",
    "plt.plot(max_depths, avg_scores, 'o-', color=\"r\")\n",
    "plt.show()\n"
   ]
  },
  {
   "cell_type": "code",
   "execution_count": 76,
   "id": "e0e545fc",
   "metadata": {},
   "outputs": [],
   "source": [
    "# Split the training and testing set.\n",
    "train_data,test_data = final_data.randomSplit([0.7,0.3])"
   ]
  },
  {
   "cell_type": "code",
   "execution_count": 77,
   "id": "693d3626",
   "metadata": {},
   "outputs": [
    {
     "data": {
      "image/png": "[encoded data removed]",
      "text/plain": [
       "<Figure size 1000x600 with 1 Axes>"
      ]
     },
     "metadata": {},
     "output_type": "display_data"
    }
   ],
   "source": [
    "# Count the number of rows in each set\n",
    "train_count = train_data.count()\n",
    "test_count = test_data.count()\n",
    "\n",
    "# Counts and labels for plotting\n",
    "counts = [train_count, test_count]\n",
    "labels = ['Train Data', 'Test Data']\n",
    "\n",
    "# Plotting\n",
    "plt.figure(figsize=(10, 6))\n",
    "plt.bar(labels, counts, color=['blue', 'red'], alpha=0.7)\n",
    "plt.ylabel('Counts')\n",
    "plt.title('Number of Rows in Train and Test Data')\n",
    "plt.show()"
   ]
  },
  {
   "cell_type": "code",
   "execution_count": 81,
   "id": "fe298cdb",
   "metadata": {},
   "outputs": [],
   "source": [
    "rfc = RandomForestClassifier(featuresCol=\"features\", labelCol=\"cardio\", \n",
    "                             numTrees=100, maxDepth=10, seed=42, impurity=\"entropy\")"
   ]
  },
  {
   "cell_type": "code",
   "execution_count": 82,
   "id": "c639abff",
   "metadata": {},
   "outputs": [
    {
     "name": "stderr",
     "output_type": "stream",
     "text": [
      "23/10/07 12:51:10 WARN DAGScheduler: Broadcasting large task binary with size 1009.9 KiB\n",
      "23/10/07 12:51:10 WARN DAGScheduler: Broadcasting large task binary with size 1801.8 KiB\n",
      "23/10/07 12:51:11 WARN DAGScheduler: Broadcasting large task binary with size 3.1 MiB\n",
      "23/10/07 12:51:11 WARN DAGScheduler: Broadcasting large task binary with size 5.3 MiB\n",
      "23/10/07 12:51:12 WARN DAGScheduler: Broadcasting large task binary with size 1224.5 KiB\n",
      "23/10/07 12:51:12 WARN DAGScheduler: Broadcasting large task binary with size 8.7 MiB\n",
      "23/10/07 12:51:13 WARN DAGScheduler: Broadcasting large task binary with size 1823.7 KiB\n",
      "                                                                                \r"
     ]
    }
   ],
   "source": [
    "rfc_model = rfc.fit(train_data)"
   ]
  },
  {
   "cell_type": "code",
   "execution_count": 83,
   "id": "06d9f36c",
   "metadata": {},
   "outputs": [],
   "source": [
    "rfc_predictions = rfc_model.transform(test_data)"
   ]
  },
  {
   "cell_type": "code",
   "execution_count": 84,
   "id": "c4c291fa",
   "metadata": {},
   "outputs": [
    {
     "data": {
      "text/plain": [
       "<Figure size 1200x800 with 0 Axes>"
      ]
     },
     "metadata": {},
     "output_type": "display_data"
    },
    {
     "data": {
      "image/png": "[encoded data removed]",
      "text/plain": [
       "<Figure size 640x480 with 1 Axes>"
      ]
     },
     "metadata": {},
     "output_type": "display_data"
    }
   ],
   "source": [
    "importances = rfc_model.featureImportances.toArray()\n",
    "\n",
    "feature_names = assembler.getInputCols()\n",
    "\n",
    "df_importance = pd.DataFrame({\n",
    "    'feature': feature_names,\n",
    "    'importance': importances\n",
    "})\n",
    "\n",
    "df_importance = df_importance.sort_values(by='importance', ascending=False)\n",
    "\n",
    "plt.figure(figsize=(12, 8))\n",
    "df_importance.set_index('feature').plot(kind='barh', legend=False)\n",
    "plt.gca().invert_yaxis()  # Highest importance at the top\n",
    "plt.title('Feature Importance')\n",
    "plt.xlabel('Importance')\n",
    "plt.ylabel('Feature')\n",
    "plt.show()"
   ]
  },
  {
   "cell_type": "code",
   "execution_count": 88,
   "id": "a1b0de6e",
   "metadata": {},
   "outputs": [],
   "source": [
    "my_binary_eval = BinaryClassificationEvaluator(labelCol = 'cardio')"
   ]
  },
  {
   "cell_type": "code",
   "execution_count": 89,
   "id": "da6b39c8",
   "metadata": {},
   "outputs": [
    {
     "name": "stdout",
     "output_type": "stream",
     "text": [
      "Random Forest\n"
     ]
    },
    {
     "name": "stderr",
     "output_type": "stream",
     "text": [
      "23/10/07 12:52:22 WARN DAGScheduler: Broadcasting large task binary with size 5.0 MiB\n",
      "                                                                                \r"
     ]
    },
    {
     "name": "stdout",
     "output_type": "stream",
     "text": [
      "0.7899577545667357\n"
     ]
    }
   ],
   "source": [
    "# This is the area under the curve. This indicates that the data is highly seperable.\n",
    "print(\"Random Forest\")\n",
    "print(my_binary_eval.evaluate(rfc_predictions))"
   ]
  },
  {
   "cell_type": "code",
   "execution_count": 90,
   "id": "0c363c9d",
   "metadata": {},
   "outputs": [],
   "source": [
    "# Select (prediction, true label) and compute test error. \n",
    "acc_evaluator = MulticlassClassificationEvaluator(labelCol=\"cardio\", predictionCol=\"prediction\", metricName=\"accuracy\")"
   ]
  },
  {
   "cell_type": "code",
   "execution_count": 91,
   "id": "9534a640",
   "metadata": {},
   "outputs": [
    {
     "name": "stderr",
     "output_type": "stream",
     "text": [
      "23/10/07 12:52:31 WARN DAGScheduler: Broadcasting large task binary with size 5.1 MiB\n"
     ]
    },
    {
     "name": "stdout",
     "output_type": "stream",
     "text": [
      "A random forest ensemble has an accuracy of: 72.02%\n"
     ]
    },
    {
     "name": "stderr",
     "output_type": "stream",
     "text": [
      "                                                                                \r"
     ]
    }
   ],
   "source": [
    "rfc_acc = acc_evaluator.evaluate(rfc_predictions)\n",
    "print('A random forest ensemble has an accuracy of: {0:2.2f}%'.format(rfc_acc*100))"
   ]
  },
  {
   "cell_type": "code",
   "execution_count": 92,
   "id": "544928d3",
   "metadata": {},
   "outputs": [
    {
     "name": "stderr",
     "output_type": "stream",
     "text": [
      "23/10/07 12:52:36 WARN DAGScheduler: Broadcasting large task binary with size 5.0 MiB\n",
      "23/10/07 12:52:37 WARN DAGScheduler: Broadcasting large task binary with size 5.0 MiB\n",
      "23/10/07 12:52:38 WARN DAGScheduler: Broadcasting large task binary with size 5.1 MiB\n",
      "23/10/07 12:52:38 WARN DAGScheduler: Broadcasting large task binary with size 5.1 MiB\n",
      "23/10/07 12:52:39 WARN DAGScheduler: Broadcasting large task binary with size 5.1 MiB\n",
      "23/10/07 12:52:39 WARN DAGScheduler: Broadcasting large task binary with size 5.1 MiB\n",
      "23/10/07 12:52:40 WARN DAGScheduler: Broadcasting large task binary with size 5.1 MiB\n",
      "23/10/07 12:52:41 WARN DAGScheduler: Broadcasting large task binary with size 5.1 MiB\n",
      "23/10/07 12:52:41 WARN DAGScheduler: Broadcasting large task binary with size 5.1 MiB\n"
     ]
    },
    {
     "name": "stdout",
     "output_type": "stream",
     "text": [
      "Random Forest Algorithm\n",
      "Confusion Matrix:\n",
      "\t\tActual Positive\tActual Negative\n",
      "Predicted Positive\t6465\t\t2208\n",
      "Predicted Negative\t3379\t\t7913\n",
      "----------------------------------------\n",
      "Area Under ROC (AUC): 0.7899553155698616\n",
      "Area Under PR Curve: 0.7669528313890972\n",
      "Accuracy: 0.720160280490859\n",
      "Weighted Precision: 0.7227794265219225\n",
      "Weighted Recall: 0.720160280490859\n",
      "F1 Score: 0.7189635766905575\n"
     ]
    }
   ],
   "source": [
    "\n",
    "rfc_auc = my_binary_eval.evaluate(rfc_predictions, {my_binary_eval.metricName: \"areaUnderROC\"})\n",
    "\n",
    "# Area Under PR Curve\n",
    "rfc_pr =my_binary_eval.evaluate(rfc_predictions, {my_binary_eval.metricName: \"areaUnderPR\"})\n",
    "\n",
    "# Weighted Precision\n",
    "rfc_weighted_precision = acc_evaluator.evaluate(rfc_predictions, {acc_evaluator.metricName: \"weightedPrecision\"})\n",
    "\n",
    "# Weighted Recall\n",
    "rfc_weighted_recall = acc_evaluator.evaluate(rfc_predictions, {acc_evaluator.metricName: \"weightedRecall\"})\n",
    "\n",
    "# F1 Score\n",
    "rfc_f1 = acc_evaluator.evaluate(rfc_predictions, {acc_evaluator.metricName: \"f1\"})\n",
    "\n",
    "\n",
    "# Create a confusion matrix\n",
    "rfc_true_positives = rfc_predictions.filter((col(\"cardio\") == 1) & (col(\"prediction\") == 1)).count()\n",
    "rfc_true_negatives = rfc_predictions.filter((col(\"cardio\") == 0) & (col(\"prediction\") == 0)).count()\n",
    "rfc_false_positives = rfc_predictions.filter((col(\"cardio\") == 0) & (col(\"prediction\") == 1)).count()\n",
    "rfc_false_negatives = rfc_predictions.filter((col(\"cardio\") == 1) & (col(\"prediction\") == 0)).count()\n",
    "\n",
    "print('Random Forest Algorithm')\n",
    "print(\"Confusion Matrix:\")\n",
    "print(\"\\t\\tActual Positive\\tActual Negative\")\n",
    "print(\"Predicted Positive\\t{}\\t\\t{}\".format(rfc_true_positives, rfc_false_positives))\n",
    "print(\"Predicted Negative\\t{}\\t\\t{}\".format(rfc_false_negatives, rfc_true_negatives))\n",
    "print('-'*40)\n",
    "\n",
    "print(f\"Area Under ROC (AUC): {rfc_auc}\")\n",
    "print(f\"Area Under PR Curve: {rfc_pr}\")\n",
    "print(f\"Accuracy: {rfc_acc}\")\n",
    "print(f\"Weighted Precision: {rfc_weighted_precision}\")\n",
    "print(f\"Weighted Recall: {rfc_weighted_recall}\")\n",
    "print(f\"F1 Score: {rfc_f1}\")"
   ]
  },
  {
   "cell_type": "code",
   "execution_count": 93,
   "id": "63a7770d",
   "metadata": {},
   "outputs": [
    {
     "name": "stdout",
     "output_type": "stream",
     "text": [
      "Decision Tree Algorithm\n",
      "0.6521127022515575\n"
     ]
    }
   ],
   "source": [
    "dtc = DecisionTreeClassifier(\n",
    "    labelCol='cardio',\n",
    "    featuresCol='features',\n",
    "    maxDepth=10,\n",
    "    minInstancesPerNode=2,\n",
    "    minInfoGain=0.0\n",
    ")\n",
    "dtc_model = dtc.fit(train_data)\n",
    "dtc_predictions = dtc_model.transform(test_data)\n",
    "print(\"Decision Tree Algorithm\")\n",
    "print(my_binary_eval.evaluate(dtc_predictions))"
   ]
  },
  {
   "cell_type": "code",
   "execution_count": 94,
   "id": "615d8716",
   "metadata": {},
   "outputs": [
    {
     "name": "stdout",
     "output_type": "stream",
     "text": [
      "Decision Tree Algorithm\n",
      "Confusion Matrix:\n",
      "\t\tActual Positive\tActual Negative\n",
      "Predicted Positive\t6469\t\t2300\n",
      "Predicted Negative\t3375\t\t7821\n",
      "----------------------------------------\n",
      "Area Under ROC (AUC): 0.6521127022515575\n",
      "Area Under PR Curve: 0.6809649288692623\n",
      "Accuracy: 0.7157525669922364\n",
      "Weighted Precision: 0.7178610714687556\n",
      "Weighted Recall: 0.7157525669922364\n",
      "F1 Score: 0.7147113548006196\n"
     ]
    }
   ],
   "source": [
    "dtc_auc = my_binary_eval.evaluate(dtc_predictions, {my_binary_eval.metricName: \"areaUnderROC\"})\n",
    "\n",
    "# Area Under PR Curve\n",
    "dtc_pr =my_binary_eval.evaluate(dtc_predictions, {my_binary_eval.metricName: \"areaUnderPR\"})\n",
    "\n",
    "# Weighted Precision\n",
    "dtc_weighted_precision = acc_evaluator.evaluate(dtc_predictions, {acc_evaluator.metricName: \"weightedPrecision\"})\n",
    "\n",
    "# Weighted Recall\n",
    "dtc_weighted_recall = acc_evaluator.evaluate(dtc_predictions, {acc_evaluator.metricName: \"weightedRecall\"})\n",
    "\n",
    "# F1 Score\n",
    "dtc_f1 = acc_evaluator.evaluate(dtc_predictions, {acc_evaluator.metricName: \"f1\"})\n",
    "\n",
    "#Accuracy\n",
    "dtc_acc = acc_evaluator.evaluate(dtc_predictions)\n",
    "\n",
    "# Create a confusion matrix\n",
    "dtc_true_positives = dtc_predictions.filter((col(\"cardio\") == 1) & (col(\"prediction\") == 1)).count()\n",
    "dtc_true_negatives = dtc_predictions.filter((col(\"cardio\") == 0) & (col(\"prediction\") == 0)).count()\n",
    "dtc_false_positives = dtc_predictions.filter((col(\"cardio\") == 0) & (col(\"prediction\") == 1)).count()\n",
    "dtc_false_negatives = dtc_predictions.filter((col(\"cardio\") == 1) & (col(\"prediction\") == 0)).count()\n",
    "\n",
    "print('Decision Tree Algorithm')\n",
    "print(\"Confusion Matrix:\")\n",
    "print(\"\\t\\tActual Positive\\tActual Negative\")\n",
    "print(\"Predicted Positive\\t{}\\t\\t{}\".format(dtc_true_positives, dtc_false_positives))\n",
    "print(\"Predicted Negative\\t{}\\t\\t{}\".format(dtc_false_negatives, dtc_true_negatives))\n",
    "print('-'*40)\n",
    "\n",
    "print(f\"Area Under ROC (AUC): {dtc_auc}\")\n",
    "print(f\"Area Under PR Curve: {dtc_pr}\")\n",
    "print(f\"Accuracy: {dtc_acc}\")\n",
    "print(f\"Weighted Precision: {dtc_weighted_precision}\")\n",
    "print(f\"Weighted Recall: {dtc_weighted_recall}\")\n",
    "print(f\"F1 Score: {dtc_f1}\")"
   ]
  },
  {
   "cell_type": "code",
   "execution_count": 95,
   "id": "265d585f",
   "metadata": {},
   "outputs": [
    {
     "name": "stdout",
     "output_type": "stream",
     "text": [
      "+------+----------+\n",
      "|cardio|prediction|\n",
      "+------+----------+\n",
      "|     0|       0.0|\n",
      "|     0|       0.0|\n",
      "|     0|       0.0|\n",
      "|     0|       0.0|\n",
      "|     1|       0.0|\n",
      "|     0|       1.0|\n",
      "|     0|       0.0|\n",
      "|     1|       0.0|\n",
      "|     0|       0.0|\n",
      "|     0|       0.0|\n",
      "|     1|       1.0|\n",
      "|     1|       0.0|\n",
      "|     0|       0.0|\n",
      "|     0|       0.0|\n",
      "|     0|       0.0|\n",
      "+------+----------+\n",
      "only showing top 15 rows\n",
      "\n"
     ]
    }
   ],
   "source": [
    "results = dtc_model.transform(test_data)\n",
    "\n",
    "my_eval = BinaryClassificationEvaluator(rawPredictionCol='prediction',\n",
    "                                       labelCol='cardio')\n",
    "\n",
    "results.select('cardio','prediction').show(15)\n"
   ]
  },
  {
   "cell_type": "code",
   "execution_count": 96,
   "id": "b4b165d3",
   "metadata": {},
   "outputs": [
    {
     "name": "stdout",
     "output_type": "stream",
     "text": [
      "Correct: 19965\n",
      "Total Correct: 14290\n"
     ]
    }
   ],
   "source": [
    "totalResults = results.select('cardio','prediction')\n",
    "\n",
    "correctResults = totalResults.filter(totalResults['cardio'] == totalResults['prediction'])\n",
    "\n",
    "countTR = totalResults.count()\n",
    "print(\"Correct: \" + str(countTR))\n",
    "\n",
    "countTC = correctResults.count()\n",
    "print(\"Total Correct: \" + str(countTC)) "
   ]
  },
  {
   "cell_type": "code",
   "execution_count": 97,
   "id": "0a541dcd",
   "metadata": {},
   "outputs": [
    {
     "data": {
      "text/plain": [
       "<Figure size 1200x800 with 0 Axes>"
      ]
     },
     "metadata": {},
     "output_type": "display_data"
    },
    {
     "data": {
      "image/png": "[encoded data removed]",
      "text/plain": [
       "<Figure size 640x480 with 1 Axes>"
      ]
     },
     "metadata": {},
     "output_type": "display_data"
    }
   ],
   "source": [
    "dtc_importances = dtc_model.featureImportances.toArray()\n",
    "\n",
    "dtc_df_importance = pd.DataFrame({\n",
    "    'feature': feature_names,\n",
    "    'importance': dtc_importances\n",
    "})\n",
    "\n",
    "dtc_df_importance = dtc_df_importance.sort_values(by='importance', ascending=False)\n",
    "\n",
    "plt.figure(figsize=(12, 8))\n",
    "df_importance.set_index('feature').plot(kind='barh', legend=False)\n",
    "plt.gca().invert_yaxis()  # Highest importance at the top\n",
    "plt.title('Feature Importance From Decision Tree')\n",
    "plt.xlabel('Importance')\n",
    "plt.ylabel('Feature')\n",
    "plt.show()"
   ]
  },
  {
   "cell_type": "code",
   "execution_count": 98,
   "id": "eb3a5158",
   "metadata": {},
   "outputs": [
    {
     "name": "stdout",
     "output_type": "stream",
     "text": [
      "DecisionTreeClassificationModel: uid=DecisionTreeClassifier_271870f8b969, depth=10, numNodes=703, numClasses=2, numFeatures=9\n",
      "  If (ap_hi <= 129.75)\n",
      "   If (age <= 54.5)\n",
      "    If (age <= 44.5)\n",
      "     If (cholesterol <= 1.5)\n",
      "      If (ap_hi <= 119.5)\n",
      "       If (log_BMI <= 3.2226686032580347)\n",
      "        If (gender <= 0.5)\n",
      "         Predict: 0.0\n",
      "        Else (gender > 0.5)\n",
      "         If (ap_lo <= 85.75)\n",
      "          Predict: 0.0\n",
      "         Else (ap_lo > 85.75)\n",
      "          If (ap_hi <= 109.5)\n",
      "           Predict: 1.0\n",
      "          Else (ap_hi > 109.5)\n",
      "           Predict: 0.0\n",
      "       Else (log_BMI > 3.2226686032580347)\n",
      "        If (age <= 41.5)\n",
      "         If (gender <= 1.5)\n",
      "          Predict: 0.0\n",
      "         Else (gender > 1.5)\n",
      "          If (age <= 40.5)\n",
      "           Predict: 0.0\n",
      "          Else (age > 40.5)\n",
      "           If (log_BMI <= 3.3083507644039836)\n",
      "            Predict: 0.0\n",
      "           Else (log_BMI > 3.3083507644039836)\n",
      "            Predict: 1.0\n",
      "        Else (age > 41.5)\n",
      "         If (log_BMI <= 3.498475218226593)\n",
      "          Predict: 0.0\n",
      "         Else (log_BMI > 3.498475218226593)\n",
      "          If (ap_hi <= 113.75)\n",
      "           Predict: 0.0\n",
      "          Else (ap_hi > 113.75)\n",
      "           If (ap_lo <= 70.25)\n",
      "            Predict: 1.0\n",
      "           Else (ap_lo > 70.25)\n",
      "            Predict: 0.0\n",
      "      Else (ap_hi > 119.5)\n",
      "       If (age <= 43.5)\n",
      "        Predict: 0.0\n",
      "       Else (age > 43.5)\n",
      "        If (ap_lo <= 99.5)\n",
      "         If (ap_lo <= 79.75)\n",
      "          Predict: 0.0\n",
      "         Else (ap_lo > 79.75)\n",
      "          If (log_BMI <= 3.054943689025852)\n",
      "           If (ap_lo <= 84.25)\n",
      "            Predict: 0.0\n",
      "           Else (ap_lo > 84.25)\n",
      "            Predict: 1.0\n",
      "          Else (log_BMI > 3.054943689025852)\n",
      "           Predict: 0.0\n",
      "        Else (ap_lo > 99.5)\n",
      "         Predict: 1.0\n",
      "     Else (cholesterol > 1.5)\n",
      "      If (gender <= 0.5)\n",
      "       Predict: 0.0\n",
      "      Else (gender > 0.5)\n",
      "       If (age <= 41.5)\n",
      "        If (ap_hi <= 120.25)\n",
      "         If (ap_lo <= 85.75)\n",
      "          Predict: 0.0\n",
      "         Else (ap_lo > 85.75)\n",
      "          If (gender <= 1.5)\n",
      "           If (ap_hi <= 111.25)\n",
      "            Predict: 0.0\n",
      "           Else (ap_hi > 111.25)\n",
      "            Predict: 1.0\n",
      "          Else (gender > 1.5)\n",
      "           Predict: 0.0\n",
      "        Else (ap_hi > 120.25)\n",
      "         If (age <= 40.5)\n",
      "          Predict: 0.0\n",
      "         Else (age > 40.5)\n",
      "          If (ap_hi <= 124.75)\n",
      "           Predict: 0.0\n",
      "          Else (ap_hi > 124.75)\n",
      "           If (log_BMI <= 3.3083507644039836)\n",
      "            Predict: 0.0\n",
      "           Else (log_BMI > 3.3083507644039836)\n",
      "            Predict: 1.0\n",
      "       Else (age > 41.5)\n",
      "        If (log_BMI <= 3.38116471345527)\n",
      "         If (cholesterol <= 2.5)\n",
      "          If (ap_hi <= 120.25)\n",
      "           If (ap_lo <= 87.25)\n",
      "            Predict: 0.0\n",
      "           Else (ap_lo > 87.25)\n",
      "            Predict: 1.0\n",
      "          Else (ap_hi > 120.25)\n",
      "           Predict: 0.0\n",
      "         Else (cholesterol > 2.5)\n",
      "          If (ap_lo <= 79.75)\n",
      "           Predict: 0.0\n",
      "          Else (ap_lo > 79.75)\n",
      "           If (log_BMI <= 3.3083507644039836)\n",
      "            Predict: 0.0\n",
      "           Else (log_BMI > 3.3083507644039836)\n",
      "            Predict: 1.0\n",
      "        Else (log_BMI > 3.38116471345527)\n",
      "         If (cholesterol <= 2.5)\n",
      "          If (gender <= 1.5)\n",
      "           Predict: 0.0\n",
      "          Else (gender > 1.5)\n",
      "           If (log_BMI <= 3.473673057969422)\n",
      "            Predict: 1.0\n",
      "           Else (log_BMI > 3.473673057969422)\n",
      "            Predict: 0.0\n",
      "         Else (cholesterol > 2.5)\n",
      "          If (BMI_Category_indexed in {0.0})\n",
      "           Predict: 1.0\n",
      "          Else (BMI_Category_indexed not in {0.0})\n",
      "           If (log_BMI <= 3.473673057969422)\n",
      "            Predict: 0.0\n",
      "           Else (log_BMI > 3.473673057969422)\n",
      "            Predict: 1.0\n",
      "    Else (age > 44.5)\n",
      "     If (cholesterol <= 2.5)\n",
      "      If (ap_hi <= 119.5)\n",
      "       If (BMI <= 21.84)\n",
      "        If (ap_lo <= 79.75)\n",
      "         If (gender <= 1.5)\n",
      "          Predict: 0.0\n",
      "         Else (gender > 1.5)\n",
      "          If (ap_hi <= 110.25)\n",
      "           Predict: 0.0\n",
      "          Else (ap_hi > 110.25)\n",
      "           Predict: 1.0\n",
      "        Else (ap_lo > 79.75)\n",
      "         Predict: 0.0\n",
      "       Else (BMI > 21.84)\n",
      "        If (age <= 50.5)\n",
      "         Predict: 0.0\n",
      "        Else (age > 50.5)\n",
      "         If (log_BMI <= 3.4589944680156406)\n",
      "          Predict: 0.0\n",
      "         Else (log_BMI > 3.4589944680156406)\n",
      "          If (ap_lo <= 80.25)\n",
      "           Predict: 0.0\n",
      "          Else (ap_lo > 80.25)\n",
      "           If (gender <= 1.5)\n",
      "            Predict: 0.0\n",
      "           Else (gender > 1.5)\n",
      "            Predict: 1.0\n",
      "      Else (ap_hi > 119.5)\n",
      "       If (log_BMI <= 3.3679851880849254)\n",
      "        If (age <= 51.5)\n",
      "         If (gender <= 0.5)\n",
      "          If (ap_lo <= 85.25)\n",
      "           Predict: 0.0\n",
      "          Else (ap_lo > 85.25)\n",
      "           If (cholesterol <= 1.5)\n",
      "            Predict: 1.0\n",
      "           Else (cholesterol > 1.5)\n",
      "            Predict: 0.0\n",
      "         Else (gender > 0.5)\n",
      "          If (cholesterol <= 1.5)\n",
      "           Predict: 0.0\n",
      "          Else (cholesterol > 1.5)\n",
      "           If (ap_lo <= 89.75)\n",
      "            Predict: 0.0\n",
      "           Else (ap_lo > 89.75)\n",
      "            Predict: 1.0\n",
      "        Else (age > 51.5)\n",
      "         If (ap_hi <= 120.25)\n",
      "          Predict: 0.0\n",
      "         Else (ap_hi > 120.25)\n",
      "          If (ap_lo <= 89.75)\n",
      "           Predict: 0.0\n",
      "          Else (ap_lo > 89.75)\n",
      "           If (gender <= 1.5)\n",
      "            Predict: 1.0\n",
      "           Else (gender > 1.5)\n",
      "            Predict: 0.0\n",
      "       Else (log_BMI > 3.3679851880849254)\n",
      "        If (log_BMI <= 3.6073981754650353)\n",
      "         If (gender <= 1.5)\n",
      "          Predict: 0.0\n",
      "         Else (gender > 1.5)\n",
      "          If (cholesterol <= 1.5)\n",
      "           Predict: 0.0\n",
      "          Else (cholesterol > 1.5)\n",
      "           If (ap_hi <= 120.25)\n",
      "            Predict: 1.0\n",
      "           Else (ap_hi > 120.25)\n",
      "            Predict: 0.0\n",
      "        Else (log_BMI > 3.6073981754650353)\n",
      "         If (log_BMI <= 3.834601852622192)\n",
      "          If (age <= 46.5)\n",
      "           Predict: 0.0\n",
      "          Else (age > 46.5)\n",
      "           If (ap_lo <= 79.75)\n",
      "            Predict: 1.0\n",
      "           Else (ap_lo > 79.75)\n",
      "            Predict: 0.0\n",
      "         Else (log_BMI > 3.834601852622192)\n",
      "          If (age <= 52.5)\n",
      "           If (ap_lo <= 79.75)\n",
      "            Predict: 0.0\n",
      "           Else (ap_lo > 79.75)\n",
      "            Predict: 1.0\n",
      "          Else (age > 52.5)\n",
      "           Predict: 0.0\n",
      "     Else (cholesterol > 2.5)\n",
      "      If (gender <= 0.5)\n",
      "       If (ap_lo <= 89.75)\n",
      "        If (ap_hi <= 123.75)\n",
      "         If (ap_hi <= 111.25)\n",
      "          Predict: 0.0\n",
      "         Else (ap_hi > 111.25)\n",
      "          If (age <= 51.5)\n",
      "           If (age <= 50.5)\n",
      "            Predict: 0.0\n",
      "           Else (age > 50.5)\n",
      "            Predict: 1.0\n",
      "          Else (age > 51.5)\n",
      "           Predict: 0.0\n",
      "        Else (ap_hi > 123.75)\n",
      "         Predict: 0.0\n",
      "       Else (ap_lo > 89.75)\n",
      "        Predict: 0.0\n",
      "      Else (gender > 0.5)\n",
      "       If (log_BMI <= 3.4146070550507246)\n",
      "        If (ap_hi <= 125.25)\n",
      "         If (ap_lo <= 89.75)\n",
      "          If (log_BMI <= 3.054943689025852)\n",
      "           Predict: 0.0\n",
      "          Else (log_BMI > 3.054943689025852)\n",
      "           If (ap_lo <= 80.25)\n",
      "            Predict: 1.0\n",
      "           Else (ap_lo > 80.25)\n",
      "            Predict: 0.0\n",
      "         Else (ap_lo > 89.75)\n",
      "          If (log_BMI <= 3.1497399941703508)\n",
      "           Predict: 0.0\n",
      "          Else (log_BMI > 3.1497399941703508)\n",
      "           If (age <= 46.5)\n",
      "            Predict: 0.0\n",
      "           Else (age > 46.5)\n",
      "            Predict: 1.0\n",
      "        Else (ap_hi > 125.25)\n",
      "         Predict: 0.0\n",
      "       Else (log_BMI > 3.4146070550507246)\n",
      "        If (age <= 49.5)\n",
      "         If (ap_hi <= 120.25)\n",
      "          If (ap_hi <= 111.25)\n",
      "           If (gender <= 1.5)\n",
      "            Predict: 0.0\n",
      "           Else (gender > 1.5)\n",
      "            Predict: 1.0\n",
      "          Else (ap_hi > 111.25)\n",
      "           If (ap_lo <= 60.5)\n",
      "            Predict: 0.0\n",
      "           Else (ap_lo > 60.5)\n",
      "            Predict: 1.0\n",
      "         Else (ap_hi > 120.25)\n",
      "          Predict: 0.0\n",
      "        Else (age > 49.5)\n",
      "         If (log_BMI <= 3.5614721181175106)\n",
      "          If (BMI_Category_indexed in {0.0})\n",
      "           Predict: 1.0\n",
      "          Else (BMI_Category_indexed not in {0.0})\n",
      "           If (age <= 53.5)\n",
      "            Predict: 1.0\n",
      "           Else (age > 53.5)\n",
      "            Predict: 0.0\n",
      "         Else (log_BMI > 3.5614721181175106)\n",
      "          If (ap_lo <= 70.25)\n",
      "           If (ap_hi <= 119.5)\n",
      "            Predict: 1.0\n",
      "           Else (ap_hi > 119.5)\n",
      "            Predict: 0.0\n",
      "          Else (ap_lo > 70.25)\n",
      "           Predict: 1.0\n",
      "   Else (age > 54.5)\n",
      "    If (cholesterol <= 2.5)\n",
      "     If (age <= 60.5)\n",
      "      If (ap_hi <= 119.5)\n",
      "       If (log_BMI <= 3.4589944680156406)\n",
      "        If (age <= 58.5)\n",
      "         Predict: 0.0\n",
      "        Else (age > 58.5)\n",
      "         If (log_BMI <= 3.1497399941703508)\n",
      "          If (BMI_Category_indexed in {3.0})\n",
      "           If (gender <= 1.5)\n",
      "            Predict: 1.0\n",
      "           Else (gender > 1.5)\n",
      "            Predict: 0.0\n",
      "          Else (BMI_Category_indexed not in {3.0})\n",
      "           Predict: 0.0\n",
      "         Else (log_BMI > 3.1497399941703508)\n",
      "          Predict: 0.0\n",
      "       Else (log_BMI > 3.4589944680156406)\n",
      "        If (gender <= 1.5)\n",
      "         If (log_BMI <= 3.6073981754650353)\n",
      "          If (ap_hi <= 110.25)\n",
      "           Predict: 0.0\n",
      "          Else (ap_hi > 110.25)\n",
      "           If (ap_lo <= 70.25)\n",
      "            Predict: 0.0\n",
      "           Else (ap_lo > 70.25)\n",
      "            Predict: 1.0\n",
      "         Else (log_BMI > 3.6073981754650353)\n",
      "          If (ap_lo <= 60.5)\n",
      "           Predict: 0.0\n",
      "          Else (ap_lo > 60.5)\n",
      "           If (log_BMI <= 3.834601852622192)\n",
      "            Predict: 1.0\n",
      "           Else (log_BMI > 3.834601852622192)\n",
      "            Predict: 0.0\n",
      "        Else (gender > 1.5)\n",
      "         If (ap_lo <= 83.25)\n",
      "          If (log_BMI <= 3.6073981754650353)\n",
      "           Predict: 0.0\n",
      "          Else (log_BMI > 3.6073981754650353)\n",
      "           If (log_BMI <= 3.6688042815503286)\n",
      "            Predict: 1.0\n",
      "           Else (log_BMI > 3.6688042815503286)\n",
      "            Predict: 0.0\n",
      "         Else (ap_lo > 83.25)\n",
      "          If (log_BMI <= 3.473673057969422)\n",
      "           Predict: 0.0\n",
      "          Else (log_BMI > 3.473673057969422)\n",
      "           Predict: 1.0\n",
      "      Else (ap_hi > 119.5)\n",
      "       If (log_BMI <= 3.528563880692177)\n",
      "        If (gender <= 1.5)\n",
      "         If (ap_hi <= 120.75)\n",
      "          If (gender <= 0.5)\n",
      "           Predict: 1.0\n",
      "          Else (gender > 0.5)\n",
      "           Predict: 0.0\n",
      "         Else (ap_hi > 120.75)\n",
      "          If (gender <= 0.5)\n",
      "           Predict: 0.0\n",
      "          Else (gender > 0.5)\n",
      "           If (log_BMI <= 3.1840772978839835)\n",
      "            Predict: 1.0\n",
      "           Else (log_BMI > 3.1840772978839835)\n",
      "            Predict: 0.0\n",
      "        Else (gender > 1.5)\n",
      "         If (log_BMI <= 3.2459071449717767)\n",
      "          Predict: 0.0\n",
      "         Else (log_BMI > 3.2459071449717767)\n",
      "          If (BMI_Category_indexed in {1.0,2.0})\n",
      "           If (ap_lo <= 79.75)\n",
      "            Predict: 1.0\n",
      "           Else (ap_lo > 79.75)\n",
      "            Predict: 0.0\n",
      "          Else (BMI_Category_indexed not in {1.0,2.0})\n",
      "           Predict: 0.0\n",
      "       Else (log_BMI > 3.528563880692177)\n",
      "        If (log_BMI <= 3.6688042815503286)\n",
      "         If (log_BMI <= 3.6073981754650353)\n",
      "          If (ap_lo <= 87.25)\n",
      "           If (age <= 58.5)\n",
      "            Predict: 0.0\n",
      "           Else (age > 58.5)\n",
      "            Predict: 1.0\n",
      "          Else (ap_lo > 87.25)\n",
      "           Predict: 1.0\n",
      "         Else (log_BMI > 3.6073981754650353)\n",
      "          If (age <= 55.5)\n",
      "           Predict: 1.0\n",
      "          Else (age > 55.5)\n",
      "           Predict: 0.0\n",
      "        Else (log_BMI > 3.6688042815503286)\n",
      "         If (ap_lo <= 85.25)\n",
      "          If (gender <= 1.5)\n",
      "           If (cholesterol <= 1.5)\n",
      "            Predict: 1.0\n",
      "           Else (cholesterol > 1.5)\n",
      "            Predict: 0.0\n",
      "          Else (gender > 1.5)\n",
      "           Predict: 0.0\n",
      "         Else (ap_lo > 85.25)\n",
      "          Predict: 0.0\n",
      "     Else (age > 60.5)\n",
      "      If (log_BMI <= 3.054943689025852)\n",
      "       If (ap_lo <= 82.25)\n",
      "        If (gender <= 1.5)\n",
      "         Predict: 0.0\n",
      "        Else (gender > 1.5)\n",
      "         If (age <= 61.5)\n",
      "          If (ap_hi <= 110.25)\n",
      "           Predict: 1.0\n",
      "          Else (ap_hi > 110.25)\n",
      "           Predict: 0.0\n",
      "         Else (age > 61.5)\n",
      "          Predict: 0.0\n",
      "       Else (ap_lo > 82.25)\n",
      "        Predict: 1.0\n",
      "      Else (log_BMI > 3.054943689025852)\n",
      "       If (ap_lo <= 79.75)\n",
      "        If (ap_lo <= 71.25)\n",
      "         If (log_BMI <= 3.5614721181175106)\n",
      "          If (age <= 62.5)\n",
      "           If (log_BMI <= 3.528563880692177)\n",
      "            Predict: 0.0\n",
      "           Else (log_BMI > 3.528563880692177)\n",
      "            Predict: 1.0\n",
      "          Else (age > 62.5)\n",
      "           If (log_BMI <= 3.2122539282926765)\n",
      "            Predict: 0.0\n",
      "           Else (log_BMI > 3.2122539282926765)\n",
      "            Predict: 1.0\n",
      "         Else (log_BMI > 3.5614721181175106)\n",
      "          If (log_BMI <= 3.6073981754650353)\n",
      "           Predict: 1.0\n",
      "          Else (log_BMI > 3.6073981754650353)\n",
      "           If (age <= 62.5)\n",
      "            Predict: 1.0\n",
      "           Else (age > 62.5)\n",
      "            Predict: 0.0\n",
      "        Else (ap_lo > 71.25)\n",
      "         If (age <= 63.5)\n",
      "          Predict: 0.0\n",
      "         Else (age > 63.5)\n",
      "          If (ap_hi <= 119.5)\n",
      "           Predict: 0.0\n",
      "          Else (ap_hi > 119.5)\n",
      "           If (log_BMI <= 3.1682138879332733)\n",
      "            Predict: 1.0\n",
      "           Else (log_BMI > 3.1682138879332733)\n",
      "            Predict: 0.0\n",
      "       Else (ap_lo > 79.75)\n",
      "        If (age <= 63.5)\n",
      "         If (log_BMI <= 3.5614721181175106)\n",
      "          If (log_BMI <= 3.1497399941703508)\n",
      "           Predict: 0.0\n",
      "          Else (log_BMI > 3.1497399941703508)\n",
      "           If (gender <= 1.5)\n",
      "            Predict: 1.0\n",
      "           Else (gender > 1.5)\n",
      "            Predict: 0.0\n",
      "         Else (log_BMI > 3.5614721181175106)\n",
      "          If (age <= 62.5)\n",
      "           Predict: 1.0\n",
      "          Else (age > 62.5)\n",
      "           If (gender <= 1.5)\n",
      "            Predict: 0.0\n",
      "           Else (gender > 1.5)\n",
      "            Predict: 1.0\n",
      "        Else (age > 63.5)\n",
      "         If (ap_lo <= 99.5)\n",
      "          If (ap_hi <= 99.5)\n",
      "           Predict: 0.0\n",
      "          Else (ap_hi > 99.5)\n",
      "           Predict: 1.0\n",
      "         Else (ap_lo > 99.5)\n",
      "          Predict: 0.0\n",
      "    Else (cholesterol > 2.5)\n",
      "     If (gender <= 0.5)\n",
      "      If (ap_lo <= 69.5)\n",
      "       If (age <= 61.5)\n",
      "        If (log_BMI <= 3.0998670129113686)\n",
      "         Predict: 1.0\n",
      "        Else (log_BMI > 3.0998670129113686)\n",
      "         Predict: 0.0\n",
      "       Else (age > 61.5)\n",
      "        Predict: 1.0\n",
      "      Else (ap_lo > 69.5)\n",
      "       If (ap_hi <= 121.25)\n",
      "        Predict: 0.0\n",
      "       Else (ap_hi > 121.25)\n",
      "        If (ap_hi <= 122.75)\n",
      "         Predict: 1.0\n",
      "        Else (ap_hi > 122.75)\n",
      "         If (age <= 63.5)\n",
      "          Predict: 0.0\n",
      "         Else (age > 63.5)\n",
      "          If (BMI_Category_indexed in {1.0})\n",
      "           Predict: 0.0\n",
      "          Else (BMI_Category_indexed not in {1.0})\n",
      "           Predict: 1.0\n",
      "     Else (gender > 0.5)\n",
      "      If (log_BMI <= 3.2822261227490146)\n",
      "       If (age <= 59.5)\n",
      "        If (ap_hi <= 109.5)\n",
      "         Predict: 0.0\n",
      "        Else (ap_hi > 109.5)\n",
      "         If (log_BMI <= 3.1994890279052095)\n",
      "          If (log_BMI <= 3.1682138879332733)\n",
      "           If (log_BMI <= 3.128513288940959)\n",
      "            Predict: 1.0\n",
      "           Else (log_BMI > 3.128513288940959)\n",
      "            Predict: 0.0\n",
      "          Else (log_BMI > 3.1682138879332733)\n",
      "           Predict: 1.0\n",
      "         Else (log_BMI > 3.1994890279052095)\n",
      "          If (log_BMI <= 3.2351427198928997)\n",
      "           Predict: 0.0\n",
      "          Else (log_BMI > 3.2351427198928997)\n",
      "           If (ap_lo <= 70.25)\n",
      "            Predict: 0.0\n",
      "           Else (ap_lo > 70.25)\n",
      "            Predict: 1.0\n",
      "       Else (age > 59.5)\n",
      "        If (log_BMI <= 3.2122539282926765)\n",
      "         If (ap_lo <= 60.5)\n",
      "          Predict: 1.0\n",
      "         Else (ap_lo > 60.5)\n",
      "          If (ap_hi <= 120.25)\n",
      "           If (ap_hi <= 119.5)\n",
      "            Predict: 0.0\n",
      "           Else (ap_hi > 119.5)\n",
      "            Predict: 1.0\n",
      "          Else (ap_hi > 120.25)\n",
      "           Predict: 0.0\n",
      "        Else (log_BMI > 3.2122539282926765)\n",
      "         If (ap_lo <= 69.5)\n",
      "          Predict: 0.0\n",
      "         Else (ap_lo > 69.5)\n",
      "          If (log_BMI <= 3.2459071449717767)\n",
      "           Predict: 1.0\n",
      "          Else (log_BMI > 3.2459071449717767)\n",
      "           If (ap_hi <= 125.25)\n",
      "            Predict: 1.0\n",
      "           Else (ap_hi > 125.25)\n",
      "            Predict: 0.0\n",
      "      Else (log_BMI > 3.2822261227490146)\n",
      "       If (age <= 61.5)\n",
      "        If (log_BMI <= 3.38116471345527)\n",
      "         If (age <= 56.5)\n",
      "          If (gender <= 1.5)\n",
      "           If (ap_lo <= 70.25)\n",
      "            Predict: 0.0\n",
      "           Else (ap_lo > 70.25)\n",
      "            Predict: 1.0\n",
      "          Else (gender > 1.5)\n",
      "           Predict: 0.0\n",
      "         Else (age > 56.5)\n",
      "          Predict: 1.0\n",
      "        Else (log_BMI > 3.38116471345527)\n",
      "         If (ap_hi <= 109.5)\n",
      "          If (ap_lo <= 80.25)\n",
      "           If (age <= 58.5)\n",
      "            Predict: 0.0\n",
      "           Else (age > 58.5)\n",
      "            Predict: 1.0\n",
      "          Else (ap_lo > 80.25)\n",
      "           Predict: 1.0\n",
      "         Else (ap_hi > 109.5)\n",
      "          Predict: 1.0\n",
      "       Else (age > 61.5)\n",
      "        If (age <= 65.5)\n",
      "         If (ap_hi <= 125.25)\n",
      "          Predict: 1.0\n",
      "         Else (ap_hi > 125.25)\n",
      "          Predict: 0.0\n",
      "        Else (age > 65.5)\n",
      "         Predict: 0.0\n",
      "  Else (ap_hi > 129.75)\n",
      "   If (ap_hi <= 139.5)\n",
      "    If (gender <= 0.5)\n",
      "     If (log_BMI <= 3.6073981754650353)\n",
      "      If (ap_hi <= 134.75)\n",
      "       If (log_BMI <= 3.1497399941703508)\n",
      "        If (log_BMI <= 3.128513288940959)\n",
      "         Predict: 0.0\n",
      "        Else (log_BMI > 3.128513288940959)\n",
      "         If (age <= 44.5)\n",
      "          Predict: 0.0\n",
      "         Else (age > 44.5)\n",
      "          Predict: 1.0\n",
      "       Else (log_BMI > 3.1497399941703508)\n",
      "        Predict: 0.0\n",
      "      Else (ap_hi > 134.75)\n",
      "       If (log_BMI <= 3.2941687916995566)\n",
      "        Predict: 0.0\n",
      "       Else (log_BMI > 3.2941687916995566)\n",
      "        If (age <= 44.5)\n",
      "         Predict: 0.0\n",
      "        Else (age > 44.5)\n",
      "         If (log_BMI <= 3.528563880692177)\n",
      "          If (age <= 61.5)\n",
      "           If (age <= 55.5)\n",
      "            Predict: 0.0\n",
      "           Else (age > 55.5)\n",
      "            Predict: 1.0\n",
      "          Else (age > 61.5)\n",
      "           Predict: 0.0\n",
      "         Else (log_BMI > 3.528563880692177)\n",
      "          Predict: 1.0\n",
      "     Else (log_BMI > 3.6073981754650353)\n",
      "      If (age <= 47.5)\n",
      "       Predict: 1.0\n",
      "      Else (age > 47.5)\n",
      "       Predict: 0.0\n",
      "    Else (gender > 0.5)\n",
      "     If (cholesterol <= 2.5)\n",
      "      If (age <= 59.5)\n",
      "       If (ap_lo <= 89.75)\n",
      "        If (age <= 41.5)\n",
      "         Predict: 0.0\n",
      "        Else (age > 41.5)\n",
      "         If (log_BMI <= 3.2941687916995566)\n",
      "          Predict: 0.0\n",
      "         Else (log_BMI > 3.2941687916995566)\n",
      "          If (ap_lo <= 79.75)\n",
      "           If (log_BMI <= 3.498475218226593)\n",
      "            Predict: 0.0\n",
      "           Else (log_BMI > 3.498475218226593)\n",
      "            Predict: 1.0\n",
      "          Else (ap_lo > 79.75)\n",
      "           If (age <= 53.5)\n",
      "            Predict: 0.0\n",
      "           Else (age > 53.5)\n",
      "            Predict: 1.0\n",
      "       Else (ap_lo > 89.75)\n",
      "        If (log_BMI <= 3.128513288940959)\n",
      "         If (age <= 54.5)\n",
      "          Predict: 0.0\n",
      "         Else (age > 54.5)\n",
      "          If (gender <= 1.5)\n",
      "           Predict: 1.0\n",
      "          Else (gender > 1.5)\n",
      "           Predict: 0.0\n",
      "        Else (log_BMI > 3.128513288940959)\n",
      "         If (age_group_indexed in {3.0})\n",
      "          If (log_BMI <= 3.528563880692177)\n",
      "           Predict: 0.0\n",
      "          Else (log_BMI > 3.528563880692177)\n",
      "           If (log_BMI <= 3.6073981754650353)\n",
      "            Predict: 1.0\n",
      "           Else (log_BMI > 3.6073981754650353)\n",
      "            Predict: 0.0\n",
      "         Else (age_group_indexed not in {3.0})\n",
      "          If (ap_hi <= 130.25)\n",
      "           Predict: 1.0\n",
      "          Else (ap_hi > 130.25)\n",
      "           If (ap_lo <= 99.5)\n",
      "            Predict: 0.0\n",
      "           Else (ap_lo > 99.5)\n",
      "            Predict: 1.0\n",
      "      Else (age > 59.5)\n",
      "       If (age <= 62.5)\n",
      "        If (log_BMI <= 3.1840772978839835)\n",
      "         If (log_BMI <= 3.1682138879332733)\n",
      "          If (log_BMI <= 3.1497399941703508)\n",
      "           If (BMI_Category_indexed in {3.0})\n",
      "            Predict: 1.0\n",
      "           Else (BMI_Category_indexed not in {3.0})\n",
      "            Predict: 0.0\n",
      "          Else (log_BMI > 3.1497399941703508)\n",
      "           If (cholesterol <= 1.5)\n",
      "            Predict: 1.0\n",
      "           Else (cholesterol > 1.5)\n",
      "            Predict: 0.0\n",
      "         Else (log_BMI > 3.1682138879332733)\n",
      "          If (age <= 61.5)\n",
      "           Predict: 0.0\n",
      "          Else (age > 61.5)\n",
      "           If (gender <= 1.5)\n",
      "            Predict: 0.0\n",
      "           Else (gender > 1.5)\n",
      "            Predict: 1.0\n",
      "        Else (log_BMI > 3.1840772978839835)\n",
      "         If (log_BMI <= 3.38116471345527)\n",
      "          If (ap_lo <= 89.75)\n",
      "           If (ap_lo <= 84.25)\n",
      "            Predict: 1.0\n",
      "           Else (ap_lo > 84.25)\n",
      "            Predict: 0.0\n",
      "          Else (ap_lo > 89.75)\n",
      "           If (ap_hi <= 130.25)\n",
      "            Predict: 1.0\n",
      "           Else (ap_hi > 130.25)\n",
      "            Predict: 0.0\n",
      "         Else (log_BMI > 3.38116471345527)\n",
      "          If (cholesterol <= 1.5)\n",
      "           If (log_BMI <= 3.4008639371683036)\n",
      "            Predict: 0.0\n",
      "           Else (log_BMI > 3.4008639371683036)\n",
      "            Predict: 1.0\n",
      "          Else (cholesterol > 1.5)\n",
      "           Predict: 1.0\n",
      "       Else (age > 62.5)\n",
      "        If (BMI_Category_indexed in {1.0,2.0,3.0})\n",
      "         If (ap_lo <= 79.75)\n",
      "          If (ap_lo <= 70.25)\n",
      "           If (log_BMI <= 3.5614721181175106)\n",
      "            Predict: 0.0\n",
      "           Else (log_BMI > 3.5614721181175106)\n",
      "            Predict: 1.0\n",
      "          Else (ap_lo > 70.25)\n",
      "           Predict: 0.0\n",
      "         Else (ap_lo > 79.75)\n",
      "          If (age <= 64.5)\n",
      "           Predict: 1.0\n",
      "          Else (age > 64.5)\n",
      "           If (cholesterol <= 1.5)\n",
      "            Predict: 0.0\n",
      "           Else (cholesterol > 1.5)\n",
      "            Predict: 1.0\n",
      "        Else (BMI_Category_indexed not in {1.0,2.0,3.0})\n",
      "         If (log_BMI <= 3.324136319322453)\n",
      "          Predict: 1.0\n",
      "         Else (log_BMI > 3.324136319322453)\n",
      "          If (age <= 63.5)\n",
      "           If (log_BMI <= 3.4008639371683036)\n",
      "            Predict: 0.0\n",
      "           Else (log_BMI > 3.4008639371683036)\n",
      "            Predict: 1.0\n",
      "          Else (age > 63.5)\n",
      "           Predict: 1.0\n",
      "     Else (cholesterol > 2.5)\n",
      "      If (ap_hi <= 130.25)\n",
      "       If (log_BMI <= 3.3387899057982775)\n",
      "        If (ap_lo <= 89.75)\n",
      "         If (log_BMI <= 3.128513288940959)\n",
      "          If (gender <= 1.5)\n",
      "           Predict: 1.0\n",
      "          Else (gender > 1.5)\n",
      "           Predict: 0.0\n",
      "         Else (log_BMI > 3.128513288940959)\n",
      "          If (age <= 46.5)\n",
      "           If (ap_lo <= 70.25)\n",
      "            Predict: 0.0\n",
      "           Else (ap_lo > 70.25)\n",
      "            Predict: 1.0\n",
      "          Else (age > 46.5)\n",
      "           Predict: 1.0\n",
      "        Else (ap_lo > 89.75)\n",
      "         Predict: 1.0\n",
      "       Else (log_BMI > 3.3387899057982775)\n",
      "        If (log_BMI <= 3.3679851880849254)\n",
      "         If (log_BMI <= 3.3534066566981195)\n",
      "          If (age <= 58.5)\n",
      "           Predict: 1.0\n",
      "          Else (age > 58.5)\n",
      "           If (age <= 60.5)\n",
      "            Predict: 0.0\n",
      "           Else (age > 60.5)\n",
      "            Predict: 1.0\n",
      "         Else (log_BMI > 3.3534066566981195)\n",
      "          Predict: 1.0\n",
      "        Else (log_BMI > 3.3679851880849254)\n",
      "         If (ap_lo <= 80.25)\n",
      "          Predict: 1.0\n",
      "         Else (ap_lo > 80.25)\n",
      "          If (ap_lo <= 84.25)\n",
      "           Predict: 0.0\n",
      "          Else (ap_lo > 84.25)\n",
      "           Predict: 1.0\n",
      "      Else (ap_hi > 130.25)\n",
      "       If (age <= 51.5)\n",
      "        If (gender <= 1.5)\n",
      "         If (ap_hi <= 131.25)\n",
      "          If (log_BMI <= 3.324136319322453)\n",
      "           Predict: 0.0\n",
      "          Else (log_BMI > 3.324136319322453)\n",
      "           Predict: 1.0\n",
      "         Else (ap_hi > 131.25)\n",
      "          Predict: 0.0\n",
      "        Else (gender > 1.5)\n",
      "         If (age <= 42.5)\n",
      "          Predict: 0.0\n",
      "         Else (age > 42.5)\n",
      "          Predict: 1.0\n",
      "       Else (age > 51.5)\n",
      "        If (log_BMI <= 3.528563880692177)\n",
      "         If (gender <= 1.5)\n",
      "          If (age <= 53.5)\n",
      "           Predict: 1.0\n",
      "          Else (age > 53.5)\n",
      "           If (ap_lo <= 70.25)\n",
      "            Predict: 1.0\n",
      "           Else (ap_lo > 70.25)\n",
      "            Predict: 0.0\n",
      "         Else (gender > 1.5)\n",
      "          Predict: 1.0\n",
      "        Else (log_BMI > 3.528563880692177)\n",
      "         Predict: 1.0\n",
      "   Else (ap_hi > 139.5)\n",
      "    If (gender <= 0.5)\n",
      "     If (age <= 54.5)\n",
      "      If (ap_lo <= 87.25)\n",
      "       Predict: 0.0\n",
      "      Else (ap_lo > 87.25)\n",
      "       If (ap_hi <= 141.25)\n",
      "        If (ap_lo <= 92.25)\n",
      "         If (cholesterol <= 1.5)\n",
      "          Predict: 1.0\n",
      "         Else (cholesterol > 1.5)\n",
      "          Predict: 0.0\n",
      "        Else (ap_lo > 92.25)\n",
      "         Predict: 0.0\n",
      "       Else (ap_hi > 141.25)\n",
      "        If (ap_hi <= 160.25)\n",
      "         Predict: 0.0\n",
      "        Else (ap_hi > 160.25)\n",
      "         If (log_BMI <= 3.2693787889627544)\n",
      "          If (age <= 51.5)\n",
      "           Predict: 0.0\n",
      "          Else (age > 51.5)\n",
      "           If (log_BMI <= 3.2351427198928997)\n",
      "            Predict: 1.0\n",
      "           Else (log_BMI > 3.2351427198928997)\n",
      "            Predict: 0.0\n",
      "         Else (log_BMI > 3.2693787889627544)\n",
      "          Predict: 0.0\n",
      "     Else (age > 54.5)\n",
      "      If (log_BMI <= 3.054943689025852)\n",
      "       If (age <= 63.5)\n",
      "        Predict: 1.0\n",
      "       Else (age > 63.5)\n",
      "        Predict: 0.0\n",
      "      Else (log_BMI > 3.054943689025852)\n",
      "       If (ap_hi <= 149.75)\n",
      "        If (cholesterol <= 1.5)\n",
      "         If (age <= 58.5)\n",
      "          Predict: 0.0\n",
      "         Else (age > 58.5)\n",
      "          If (age <= 59.5)\n",
      "           Predict: 0.0\n",
      "          Else (age > 59.5)\n",
      "           Predict: 1.0\n",
      "        Else (cholesterol > 1.5)\n",
      "         If (age <= 64.5)\n",
      "          If (ap_lo <= 80.25)\n",
      "           If (log_BMI <= 3.3679851880849254)\n",
      "            Predict: 0.0\n",
      "           Else (log_BMI > 3.3679851880849254)\n",
      "            Predict: 1.0\n",
      "          Else (ap_lo > 80.25)\n",
      "           Predict: 0.0\n",
      "         Else (age > 64.5)\n",
      "          If (log_BMI <= 3.3387899057982775)\n",
      "           Predict: 0.0\n",
      "          Else (log_BMI > 3.3387899057982775)\n",
      "           Predict: 1.0\n",
      "       Else (ap_hi > 149.75)\n",
      "        If (ap_hi <= 150.5)\n",
      "         If (age <= 56.5)\n",
      "          Predict: 0.0\n",
      "         Else (age > 56.5)\n",
      "          Predict: 1.0\n",
      "        Else (ap_hi > 150.5)\n",
      "         If (log_BMI <= 3.1994890279052095)\n",
      "          If (ap_lo <= 89.75)\n",
      "           Predict: 1.0\n",
      "          Else (ap_lo > 89.75)\n",
      "           If (log_BMI <= 3.1497399941703508)\n",
      "            Predict: 0.0\n",
      "           Else (log_BMI > 3.1497399941703508)\n",
      "            Predict: 1.0\n",
      "         Else (log_BMI > 3.1994890279052095)\n",
      "          If (log_BMI <= 3.2459071449717767)\n",
      "           Predict: 0.0\n",
      "          Else (log_BMI > 3.2459071449717767)\n",
      "           If (age <= 64.5)\n",
      "            Predict: 0.0\n",
      "           Else (age > 64.5)\n",
      "            Predict: 1.0\n",
      "    Else (gender > 0.5)\n",
      "     If (ap_hi <= 149.75)\n",
      "      If (ap_hi <= 140.25)\n",
      "       If (age <= 61.5)\n",
      "        If (log_BMI <= 3.0998670129113686)\n",
      "         If (ap_lo <= 79.75)\n",
      "          Predict: 0.0\n",
      "         Else (ap_lo > 79.75)\n",
      "          Predict: 1.0\n",
      "        Else (log_BMI > 3.0998670129113686)\n",
      "         If (age <= 55.5)\n",
      "          If (ap_lo <= 69.5)\n",
      "           If (age <= 46.5)\n",
      "            Predict: 0.0\n",
      "           Else (age > 46.5)\n",
      "            Predict: 1.0\n",
      "          Else (ap_lo > 69.5)\n",
      "           Predict: 1.0\n",
      "         Else (age > 55.5)\n",
      "          If (ap_lo <= 114.5)\n",
      "           Predict: 1.0\n",
      "          Else (ap_lo > 114.5)\n",
      "           Predict: 0.0\n",
      "       Else (age > 61.5)\n",
      "        If (log_BMI <= 3.3387899057982775)\n",
      "         If (gender <= 1.5)\n",
      "          If (age <= 64.5)\n",
      "           Predict: 1.0\n",
      "          Else (age > 64.5)\n",
      "           If (cholesterol <= 1.5)\n",
      "            Predict: 0.0\n",
      "           Else (cholesterol > 1.5)\n",
      "            Predict: 1.0\n",
      "         Else (gender > 1.5)\n",
      "          If (ap_lo <= 60.5)\n",
      "           Predict: 0.0\n",
      "          Else (ap_lo > 60.5)\n",
      "           Predict: 1.0\n",
      "        Else (log_BMI > 3.3387899057982775)\n",
      "         If (cholesterol <= 2.5)\n",
      "          Predict: 1.0\n",
      "         Else (cholesterol > 2.5)\n",
      "          If (gender <= 1.5)\n",
      "           Predict: 1.0\n",
      "          Else (gender > 1.5)\n",
      "           If (log_BMI <= 3.6073981754650353)\n",
      "            Predict: 1.0\n",
      "           Else (log_BMI > 3.6073981754650353)\n",
      "            Predict: 0.0\n",
      "      Else (ap_hi > 140.25)\n",
      "       If (gender <= 1.5)\n",
      "        If (ap_lo <= 90.5)\n",
      "         If (ap_lo <= 89.75)\n",
      "          If (ap_lo <= 80.25)\n",
      "           Predict: 1.0\n",
      "          Else (ap_lo > 80.25)\n",
      "           Predict: 0.0\n",
      "         Else (ap_lo > 89.75)\n",
      "          If (age <= 59.5)\n",
      "           Predict: 1.0\n",
      "          Else (age > 59.5)\n",
      "           If (log_BMI <= 3.257134518458555)\n",
      "            Predict: 0.0\n",
      "           Else (log_BMI > 3.257134518458555)\n",
      "            Predict: 1.0\n",
      "        Else (ap_lo > 90.5)\n",
      "         If (age <= 57.5)\n",
      "          If (log_BMI <= 3.4589944680156406)\n",
      "           Predict: 0.0\n",
      "          Else (log_BMI > 3.4589944680156406)\n",
      "           If (age <= 40.5)\n",
      "            Predict: 0.0\n",
      "           Else (age > 40.5)\n",
      "            Predict: 1.0\n",
      "         Else (age > 57.5)\n",
      "          If (ap_lo <= 92.25)\n",
      "           Predict: 0.0\n",
      "          Else (ap_lo > 92.25)\n",
      "           Predict: 1.0\n",
      "       Else (gender > 1.5)\n",
      "        If (age <= 59.5)\n",
      "         If (log_BMI <= 3.324136319322453)\n",
      "          If (cholesterol <= 1.5)\n",
      "           Predict: 1.0\n",
      "          Else (cholesterol > 1.5)\n",
      "           If (ap_hi <= 141.25)\n",
      "            Predict: 1.0\n",
      "           Else (ap_hi > 141.25)\n",
      "            Predict: 0.0\n",
      "         Else (log_BMI > 3.324136319322453)\n",
      "          If (log_BMI <= 3.38116471345527)\n",
      "           If (age <= 46.5)\n",
      "            Predict: 0.0\n",
      "           Else (age > 46.5)\n",
      "            Predict: 1.0\n",
      "          Else (log_BMI > 3.38116471345527)\n",
      "           Predict: 1.0\n",
      "        Else (age > 59.5)\n",
      "         If (ap_lo <= 70.25)\n",
      "          Predict: 0.0\n",
      "         Else (ap_lo > 70.25)\n",
      "          If (log_BMI <= 3.3387899057982775)\n",
      "           If (ap_lo <= 90.5)\n",
      "            Predict: 1.0\n",
      "           Else (ap_lo > 90.5)\n",
      "            Predict: 0.0\n",
      "          Else (log_BMI > 3.3387899057982775)\n",
      "           Predict: 1.0\n",
      "     Else (ap_hi > 149.75)\n",
      "      If (ap_lo <= 100.25)\n",
      "       If (ap_lo <= 69.5)\n",
      "        If (gender <= 1.5)\n",
      "         If (log_BMI <= 3.2122539282926765)\n",
      "          Predict: 1.0\n",
      "         Else (log_BMI > 3.2122539282926765)\n",
      "          If (log_BMI <= 3.2459071449717767)\n",
      "           Predict: 0.0\n",
      "          Else (log_BMI > 3.2459071449717767)\n",
      "           Predict: 1.0\n",
      "        Else (gender > 1.5)\n",
      "         If (age <= 56.5)\n",
      "          Predict: 0.0\n",
      "         Else (age > 56.5)\n",
      "          If (age <= 62.5)\n",
      "           Predict: 1.0\n",
      "          Else (age > 62.5)\n",
      "           Predict: 0.0\n",
      "       Else (ap_lo > 69.5)\n",
      "        If (log_BMI <= 3.054943689025852)\n",
      "         If (age <= 55.5)\n",
      "          If (ap_lo <= 70.25)\n",
      "           Predict: 1.0\n",
      "          Else (ap_lo > 70.25)\n",
      "           If (ap_lo <= 90.5)\n",
      "            Predict: 0.0\n",
      "           Else (ap_lo > 90.5)\n",
      "            Predict: 1.0\n",
      "         Else (age > 55.5)\n",
      "          If (age <= 63.5)\n",
      "           Predict: 1.0\n",
      "          Else (age > 63.5)\n",
      "           Predict: 0.0\n",
      "        Else (log_BMI > 3.054943689025852)\n",
      "         If (age <= 43.5)\n",
      "          If (log_BMI <= 3.2941687916995566)\n",
      "           If (cholesterol <= 1.5)\n",
      "            Predict: 1.0\n",
      "           Else (cholesterol > 1.5)\n",
      "            Predict: 0.0\n",
      "          Else (log_BMI > 3.2941687916995566)\n",
      "           Predict: 1.0\n",
      "         Else (age > 43.5)\n",
      "          Predict: 1.0\n",
      "      Else (ap_lo > 100.25)\n",
      "       If (gender <= 1.5)\n",
      "        If (log_BMI <= 3.528563880692177)\n",
      "         If (cholesterol <= 1.5)\n",
      "          Predict: 1.0\n",
      "         Else (cholesterol > 1.5)\n",
      "          If (ap_hi <= 159.75)\n",
      "           If (log_BMI <= 3.498475218226593)\n",
      "            Predict: 0.0\n",
      "           Else (log_BMI > 3.498475218226593)\n",
      "            Predict: 1.0\n",
      "          Else (ap_hi > 159.75)\n",
      "           Predict: 1.0\n",
      "        Else (log_BMI > 3.528563880692177)\n",
      "         If (age <= 41.5)\n",
      "          Predict: 0.0\n",
      "         Else (age > 41.5)\n",
      "          Predict: 1.0\n",
      "       Else (gender > 1.5)\n",
      "        If (age <= 55.5)\n",
      "         If (age <= 44.5)\n",
      "          If (log_BMI <= 3.3083507644039836)\n",
      "           Predict: 1.0\n",
      "          Else (log_BMI > 3.3083507644039836)\n",
      "           If (log_BMI <= 3.3534066566981195)\n",
      "            Predict: 0.0\n",
      "           Else (log_BMI > 3.3534066566981195)\n",
      "            Predict: 1.0\n",
      "         Else (age > 44.5)\n",
      "          Predict: 1.0\n",
      "        Else (age > 55.5)\n",
      "         If (age <= 56.5)\n",
      "          If (log_BMI <= 3.473673057969422)\n",
      "           Predict: 1.0\n",
      "          Else (log_BMI > 3.473673057969422)\n",
      "           Predict: 0.0\n",
      "         Else (age > 56.5)\n",
      "          If (log_BMI <= 3.2693787889627544)\n",
      "           If (BMI_Category_indexed in {0.0})\n",
      "            Predict: 0.0\n",
      "           Else (BMI_Category_indexed not in {0.0})\n",
      "            Predict: 1.0\n",
      "          Else (log_BMI > 3.2693787889627544)\n",
      "           Predict: 1.0\n",
      "\n"
     ]
    }
   ],
   "source": [
    "def replace_feature_indices_with_names(tree_string, feature_names):\n",
    "    for i, feature_name in enumerate(feature_names):\n",
    "        tree_string = tree_string.replace(f'feature {i}', feature_name)\n",
    "    return tree_string\n",
    "\n",
    "\n",
    "# Replace feature indices in the tree's string representation\n",
    "tree_with_feature_names = replace_feature_indices_with_names(dtc_model.toDebugString, feature_names)\n",
    "\n",
    "print(tree_with_feature_names)  # This will print the tree with feature names instead of indices\n"
   ]
  },
  {
   "cell_type": "code",
   "execution_count": 99,
   "id": "59c52164",
   "metadata": {},
   "outputs": [],
   "source": [
    "import re\n",
    "from graphviz import Digraph\n",
    "\n",
    "def visualize_tree(tree_string):\n",
    "    graph = Digraph('DecisionTree', node_attr={'shape': 'box'})\n",
    "    lines = tree_string.split(\"\\n\")\n",
    "    \n",
    "    for line in lines:\n",
    "        if \"feature\" in line or \"Predict\" in line:\n",
    "            match = re.search(r\"(DecisionTree_[0-9]+) => (DecisionTree_[0-9]+) \\[label=\\\"(.*? <= .*?)\\\"\\]\", line)\n",
    "            if match:\n",
    "                parent, child, label = match.groups()\n",
    "                graph.edge(parent, child, label=label)\n",
    "                \n",
    "            match = re.search(r\"(DecisionTree_[0-9]+) \\[label=\\\"(Predict: .*?)\\\"\\]\", line)\n",
    "            if match:\n",
    "                node, label = match.groups()\n",
    "                graph.node(node, label=label)\n",
    "\n",
    "    return graph"
   ]
  },
  {
   "cell_type": "code",
   "execution_count": 131,
   "id": "703308a2",
   "metadata": {},
   "outputs": [
    {
     "name": "stdout",
     "output_type": "stream",
     "text": [
      "Requirement already satisfied: graphviz in ./anaconda3/lib/python3.11/site-packages (0.20.1)\n",
      "Note: you may need to restart the kernel to use updated packages.\n"
     ]
    }
   ],
   "source": [
    "pip install graphviz"
   ]
  },
  {
   "cell_type": "code",
   "execution_count": 100,
   "id": "4e1e59ac",
   "metadata": {},
   "outputs": [
    {
     "ename": "ExecutableNotFound",
     "evalue": "failed to execute PosixPath('dot'), make sure the Graphviz executables are on your systems' PATH",
     "output_type": "error",
     "traceback": [
      "\u001b[0;31m---------------------------------------------------------------------------\u001b[0m",
      "\u001b[0;31mFileNotFoundError\u001b[0m                         Traceback (most recent call last)",
      "File \u001b[0;32m~/anaconda3/lib/python3.11/site-packages/graphviz/backend/execute.py:81\u001b[0m, in \u001b[0;36mrun_check\u001b[0;34m(cmd, input_lines, encoding, quiet, **kwargs)\u001b[0m\n\u001b[1;32m     80\u001b[0m     \u001b[38;5;28;01melse\u001b[39;00m:\n\u001b[0;32m---> 81\u001b[0m         proc \u001b[38;5;241m=\u001b[39m subprocess\u001b[38;5;241m.\u001b[39mrun(cmd, \u001b[38;5;241m*\u001b[39m\u001b[38;5;241m*\u001b[39mkwargs)\n\u001b[1;32m     82\u001b[0m \u001b[38;5;28;01mexcept\u001b[39;00m \u001b[38;5;167;01mOSError\u001b[39;00m \u001b[38;5;28;01mas\u001b[39;00m e:\n",
      "File \u001b[0;32m~/anaconda3/lib/python3.11/subprocess.py:548\u001b[0m, in \u001b[0;36mrun\u001b[0;34m(input, capture_output, timeout, check, *popenargs, **kwargs)\u001b[0m\n\u001b[1;32m    546\u001b[0m     kwargs[\u001b[38;5;124m'\u001b[39m\u001b[38;5;124mstderr\u001b[39m\u001b[38;5;124m'\u001b[39m] \u001b[38;5;241m=\u001b[39m PIPE\n\u001b[0;32m--> 548\u001b[0m \u001b[38;5;28;01mwith\u001b[39;00m Popen(\u001b[38;5;241m*\u001b[39mpopenargs, \u001b[38;5;241m*\u001b[39m\u001b[38;5;241m*\u001b[39mkwargs) \u001b[38;5;28;01mas\u001b[39;00m process:\n\u001b[1;32m    549\u001b[0m     \u001b[38;5;28;01mtry\u001b[39;00m:\n",
      "File \u001b[0;32m~/anaconda3/lib/python3.11/subprocess.py:1024\u001b[0m, in \u001b[0;36mPopen.__init__\u001b[0;34m(self, args, bufsize, executable, stdin, stdout, stderr, preexec_fn, close_fds, shell, cwd, env, universal_newlines, startupinfo, creationflags, restore_signals, start_new_session, pass_fds, user, group, extra_groups, encoding, errors, text, umask, pipesize, process_group)\u001b[0m\n\u001b[1;32m   1021\u001b[0m             \u001b[38;5;28mself\u001b[39m\u001b[38;5;241m.\u001b[39mstderr \u001b[38;5;241m=\u001b[39m io\u001b[38;5;241m.\u001b[39mTextIOWrapper(\u001b[38;5;28mself\u001b[39m\u001b[38;5;241m.\u001b[39mstderr,\n\u001b[1;32m   1022\u001b[0m                     encoding\u001b[38;5;241m=\u001b[39mencoding, errors\u001b[38;5;241m=\u001b[39merrors)\n\u001b[0;32m-> 1024\u001b[0m     \u001b[38;5;28mself\u001b[39m\u001b[38;5;241m.\u001b[39m_execute_child(args, executable, preexec_fn, close_fds,\n\u001b[1;32m   1025\u001b[0m                         pass_fds, cwd, env,\n\u001b[1;32m   1026\u001b[0m                         startupinfo, creationflags, shell,\n\u001b[1;32m   1027\u001b[0m                         p2cread, p2cwrite,\n\u001b[1;32m   1028\u001b[0m                         c2pread, c2pwrite,\n\u001b[1;32m   1029\u001b[0m                         errread, errwrite,\n\u001b[1;32m   1030\u001b[0m                         restore_signals,\n\u001b[1;32m   1031\u001b[0m                         gid, gids, uid, umask,\n\u001b[1;32m   1032\u001b[0m                         start_new_session, process_group)\n\u001b[1;32m   1033\u001b[0m \u001b[38;5;28;01mexcept\u001b[39;00m:\n\u001b[1;32m   1034\u001b[0m     \u001b[38;5;66;03m# Cleanup if the child failed starting.\u001b[39;00m\n",
      "File \u001b[0;32m~/anaconda3/lib/python3.11/subprocess.py:1917\u001b[0m, in \u001b[0;36mPopen._execute_child\u001b[0;34m(self, args, executable, preexec_fn, close_fds, pass_fds, cwd, env, startupinfo, creationflags, shell, p2cread, p2cwrite, c2pread, c2pwrite, errread, errwrite, restore_signals, gid, gids, uid, umask, start_new_session, process_group)\u001b[0m\n\u001b[1;32m   1916\u001b[0m         err_msg \u001b[38;5;241m=\u001b[39m os\u001b[38;5;241m.\u001b[39mstrerror(errno_num)\n\u001b[0;32m-> 1917\u001b[0m     \u001b[38;5;28;01mraise\u001b[39;00m child_exception_type(errno_num, err_msg, err_filename)\n\u001b[1;32m   1918\u001b[0m \u001b[38;5;28;01mraise\u001b[39;00m child_exception_type(err_msg)\n",
      "\u001b[0;31mFileNotFoundError\u001b[0m: [Errno 2] No such file or directory: PosixPath('dot')",
      "\nThe above exception was the direct cause of the following exception:\n",
      "\u001b[0;31mExecutableNotFound\u001b[0m                        Traceback (most recent call last)",
      "Cell \u001b[0;32mIn[100], line 2\u001b[0m\n\u001b[1;32m      1\u001b[0m tree_visualization \u001b[38;5;241m=\u001b[39m visualize_tree(tree_with_feature_names)\n\u001b[0;32m----> 2\u001b[0m tree_visualization\u001b[38;5;241m.\u001b[39mview()\n",
      "File \u001b[0;32m~/anaconda3/lib/python3.11/site-packages/graphviz/_tools.py:171\u001b[0m, in \u001b[0;36mdeprecate_positional_args.<locals>.decorator.<locals>.wrapper\u001b[0;34m(*args, **kwargs)\u001b[0m\n\u001b[1;32m    162\u001b[0m     wanted \u001b[38;5;241m=\u001b[39m \u001b[38;5;124m'\u001b[39m\u001b[38;5;124m, \u001b[39m\u001b[38;5;124m'\u001b[39m\u001b[38;5;241m.\u001b[39mjoin(\u001b[38;5;124mf\u001b[39m\u001b[38;5;124m'\u001b[39m\u001b[38;5;132;01m{\u001b[39;00mname\u001b[38;5;132;01m}\u001b[39;00m\u001b[38;5;124m=\u001b[39m\u001b[38;5;132;01m{\u001b[39;00mvalue\u001b[38;5;132;01m!r}\u001b[39;00m\u001b[38;5;124m'\u001b[39m\n\u001b[1;32m    163\u001b[0m                        \u001b[38;5;28;01mfor\u001b[39;00m name, value \u001b[38;5;129;01min\u001b[39;00m deprecated\u001b[38;5;241m.\u001b[39mitems())\n\u001b[1;32m    164\u001b[0m     warnings\u001b[38;5;241m.\u001b[39mwarn(\u001b[38;5;124mf\u001b[39m\u001b[38;5;124m'\u001b[39m\u001b[38;5;124mThe signature of \u001b[39m\u001b[38;5;132;01m{\u001b[39;00mfunc\u001b[38;5;241m.\u001b[39m\u001b[38;5;18m__name__\u001b[39m\u001b[38;5;132;01m}\u001b[39;00m\u001b[38;5;124m will be reduced\u001b[39m\u001b[38;5;124m'\u001b[39m\n\u001b[1;32m    165\u001b[0m                   \u001b[38;5;124mf\u001b[39m\u001b[38;5;124m'\u001b[39m\u001b[38;5;124m to \u001b[39m\u001b[38;5;132;01m{\u001b[39;00msupported_number\u001b[38;5;132;01m}\u001b[39;00m\u001b[38;5;124m positional args\u001b[39m\u001b[38;5;124m'\u001b[39m\n\u001b[1;32m    166\u001b[0m                   \u001b[38;5;124mf\u001b[39m\u001b[38;5;124m'\u001b[39m\u001b[38;5;124m \u001b[39m\u001b[38;5;132;01m{\u001b[39;00m\u001b[38;5;28mlist\u001b[39m(supported)\u001b[38;5;132;01m}\u001b[39;00m\u001b[38;5;124m: pass \u001b[39m\u001b[38;5;132;01m{\u001b[39;00mwanted\u001b[38;5;132;01m}\u001b[39;00m\u001b[38;5;124m'\u001b[39m\n\u001b[1;32m    167\u001b[0m                   \u001b[38;5;124m'\u001b[39m\u001b[38;5;124m as keyword arg(s)\u001b[39m\u001b[38;5;124m'\u001b[39m,\n\u001b[1;32m    168\u001b[0m                   stacklevel\u001b[38;5;241m=\u001b[39mstacklevel,\n\u001b[1;32m    169\u001b[0m                   category\u001b[38;5;241m=\u001b[39mcategory)\n\u001b[0;32m--> 171\u001b[0m \u001b[38;5;28;01mreturn\u001b[39;00m func(\u001b[38;5;241m*\u001b[39margs, \u001b[38;5;241m*\u001b[39m\u001b[38;5;241m*\u001b[39mkwargs)\n",
      "File \u001b[0;32m~/anaconda3/lib/python3.11/site-packages/graphviz/rendering.py:185\u001b[0m, in \u001b[0;36mRender.view\u001b[0;34m(self, filename, directory, cleanup, quiet, quiet_view)\u001b[0m\n\u001b[1;32m    150\u001b[0m \u001b[38;5;129m@_tools\u001b[39m\u001b[38;5;241m.\u001b[39mdeprecate_positional_args(supported_number\u001b[38;5;241m=\u001b[39m\u001b[38;5;241m2\u001b[39m)\n\u001b[1;32m    151\u001b[0m \u001b[38;5;28;01mdef\u001b[39;00m \u001b[38;5;21mview\u001b[39m(\u001b[38;5;28mself\u001b[39m,\n\u001b[1;32m    152\u001b[0m          filename: typing\u001b[38;5;241m.\u001b[39mUnion[os\u001b[38;5;241m.\u001b[39mPathLike, \u001b[38;5;28mstr\u001b[39m, \u001b[38;5;28;01mNone\u001b[39;00m] \u001b[38;5;241m=\u001b[39m \u001b[38;5;28;01mNone\u001b[39;00m,\n\u001b[0;32m   (...)\u001b[0m\n\u001b[1;32m    155\u001b[0m          quiet: \u001b[38;5;28mbool\u001b[39m \u001b[38;5;241m=\u001b[39m \u001b[38;5;28;01mFalse\u001b[39;00m,\n\u001b[1;32m    156\u001b[0m          quiet_view: \u001b[38;5;28mbool\u001b[39m \u001b[38;5;241m=\u001b[39m \u001b[38;5;28;01mFalse\u001b[39;00m) \u001b[38;5;241m-\u001b[39m\u001b[38;5;241m>\u001b[39m \u001b[38;5;28mstr\u001b[39m:\n\u001b[1;32m    157\u001b[0m \u001b[38;5;250m    \u001b[39m\u001b[38;5;124;03m\"\"\"Save the source to file, open the rendered result in a viewer.\u001b[39;00m\n\u001b[1;32m    158\u001b[0m \n\u001b[1;32m    159\u001b[0m \u001b[38;5;124;03m    Convenience short-cut for running ``.render(view=True)``.\u001b[39;00m\n\u001b[0;32m   (...)\u001b[0m\n\u001b[1;32m    183\u001b[0m \u001b[38;5;124;03m        and no way to retrieve the application's exit status.\u001b[39;00m\n\u001b[1;32m    184\u001b[0m \u001b[38;5;124;03m    \"\"\"\u001b[39;00m\n\u001b[0;32m--> 185\u001b[0m     \u001b[38;5;28;01mreturn\u001b[39;00m \u001b[38;5;28mself\u001b[39m\u001b[38;5;241m.\u001b[39mrender(filename\u001b[38;5;241m=\u001b[39mfilename, directory\u001b[38;5;241m=\u001b[39mdirectory, view\u001b[38;5;241m=\u001b[39m\u001b[38;5;28;01mTrue\u001b[39;00m,\n\u001b[1;32m    186\u001b[0m                        cleanup\u001b[38;5;241m=\u001b[39mcleanup, quiet\u001b[38;5;241m=\u001b[39mquiet, quiet_view\u001b[38;5;241m=\u001b[39mquiet_view)\n",
      "File \u001b[0;32m~/anaconda3/lib/python3.11/site-packages/graphviz/_tools.py:171\u001b[0m, in \u001b[0;36mdeprecate_positional_args.<locals>.decorator.<locals>.wrapper\u001b[0;34m(*args, **kwargs)\u001b[0m\n\u001b[1;32m    162\u001b[0m     wanted \u001b[38;5;241m=\u001b[39m \u001b[38;5;124m'\u001b[39m\u001b[38;5;124m, \u001b[39m\u001b[38;5;124m'\u001b[39m\u001b[38;5;241m.\u001b[39mjoin(\u001b[38;5;124mf\u001b[39m\u001b[38;5;124m'\u001b[39m\u001b[38;5;132;01m{\u001b[39;00mname\u001b[38;5;132;01m}\u001b[39;00m\u001b[38;5;124m=\u001b[39m\u001b[38;5;132;01m{\u001b[39;00mvalue\u001b[38;5;132;01m!r}\u001b[39;00m\u001b[38;5;124m'\u001b[39m\n\u001b[1;32m    163\u001b[0m                        \u001b[38;5;28;01mfor\u001b[39;00m name, value \u001b[38;5;129;01min\u001b[39;00m deprecated\u001b[38;5;241m.\u001b[39mitems())\n\u001b[1;32m    164\u001b[0m     warnings\u001b[38;5;241m.\u001b[39mwarn(\u001b[38;5;124mf\u001b[39m\u001b[38;5;124m'\u001b[39m\u001b[38;5;124mThe signature of \u001b[39m\u001b[38;5;132;01m{\u001b[39;00mfunc\u001b[38;5;241m.\u001b[39m\u001b[38;5;18m__name__\u001b[39m\u001b[38;5;132;01m}\u001b[39;00m\u001b[38;5;124m will be reduced\u001b[39m\u001b[38;5;124m'\u001b[39m\n\u001b[1;32m    165\u001b[0m                   \u001b[38;5;124mf\u001b[39m\u001b[38;5;124m'\u001b[39m\u001b[38;5;124m to \u001b[39m\u001b[38;5;132;01m{\u001b[39;00msupported_number\u001b[38;5;132;01m}\u001b[39;00m\u001b[38;5;124m positional args\u001b[39m\u001b[38;5;124m'\u001b[39m\n\u001b[1;32m    166\u001b[0m                   \u001b[38;5;124mf\u001b[39m\u001b[38;5;124m'\u001b[39m\u001b[38;5;124m \u001b[39m\u001b[38;5;132;01m{\u001b[39;00m\u001b[38;5;28mlist\u001b[39m(supported)\u001b[38;5;132;01m}\u001b[39;00m\u001b[38;5;124m: pass \u001b[39m\u001b[38;5;132;01m{\u001b[39;00mwanted\u001b[38;5;132;01m}\u001b[39;00m\u001b[38;5;124m'\u001b[39m\n\u001b[1;32m    167\u001b[0m                   \u001b[38;5;124m'\u001b[39m\u001b[38;5;124m as keyword arg(s)\u001b[39m\u001b[38;5;124m'\u001b[39m,\n\u001b[1;32m    168\u001b[0m                   stacklevel\u001b[38;5;241m=\u001b[39mstacklevel,\n\u001b[1;32m    169\u001b[0m                   category\u001b[38;5;241m=\u001b[39mcategory)\n\u001b[0;32m--> 171\u001b[0m \u001b[38;5;28;01mreturn\u001b[39;00m func(\u001b[38;5;241m*\u001b[39margs, \u001b[38;5;241m*\u001b[39m\u001b[38;5;241m*\u001b[39mkwargs)\n",
      "File \u001b[0;32m~/anaconda3/lib/python3.11/site-packages/graphviz/rendering.py:122\u001b[0m, in \u001b[0;36mRender.render\u001b[0;34m(self, filename, directory, view, cleanup, format, renderer, formatter, neato_no_op, quiet, quiet_view, outfile, engine, raise_if_result_exists, overwrite_source)\u001b[0m\n\u001b[1;32m    118\u001b[0m filepath \u001b[38;5;241m=\u001b[39m \u001b[38;5;28mself\u001b[39m\u001b[38;5;241m.\u001b[39msave(filename, directory\u001b[38;5;241m=\u001b[39mdirectory, skip_existing\u001b[38;5;241m=\u001b[39m\u001b[38;5;28;01mNone\u001b[39;00m)\n\u001b[1;32m    120\u001b[0m args\u001b[38;5;241m.\u001b[39mappend(filepath)\n\u001b[0;32m--> 122\u001b[0m rendered \u001b[38;5;241m=\u001b[39m \u001b[38;5;28mself\u001b[39m\u001b[38;5;241m.\u001b[39m_render(\u001b[38;5;241m*\u001b[39margs, \u001b[38;5;241m*\u001b[39m\u001b[38;5;241m*\u001b[39mkwargs)\n\u001b[1;32m    124\u001b[0m \u001b[38;5;28;01mif\u001b[39;00m cleanup:\n\u001b[1;32m    125\u001b[0m     log\u001b[38;5;241m.\u001b[39mdebug(\u001b[38;5;124m'\u001b[39m\u001b[38;5;124mdelete \u001b[39m\u001b[38;5;132;01m%r\u001b[39;00m\u001b[38;5;124m'\u001b[39m, filepath)\n",
      "File \u001b[0;32m~/anaconda3/lib/python3.11/site-packages/graphviz/_tools.py:171\u001b[0m, in \u001b[0;36mdeprecate_positional_args.<locals>.decorator.<locals>.wrapper\u001b[0;34m(*args, **kwargs)\u001b[0m\n\u001b[1;32m    162\u001b[0m     wanted \u001b[38;5;241m=\u001b[39m \u001b[38;5;124m'\u001b[39m\u001b[38;5;124m, \u001b[39m\u001b[38;5;124m'\u001b[39m\u001b[38;5;241m.\u001b[39mjoin(\u001b[38;5;124mf\u001b[39m\u001b[38;5;124m'\u001b[39m\u001b[38;5;132;01m{\u001b[39;00mname\u001b[38;5;132;01m}\u001b[39;00m\u001b[38;5;124m=\u001b[39m\u001b[38;5;132;01m{\u001b[39;00mvalue\u001b[38;5;132;01m!r}\u001b[39;00m\u001b[38;5;124m'\u001b[39m\n\u001b[1;32m    163\u001b[0m                        \u001b[38;5;28;01mfor\u001b[39;00m name, value \u001b[38;5;129;01min\u001b[39;00m deprecated\u001b[38;5;241m.\u001b[39mitems())\n\u001b[1;32m    164\u001b[0m     warnings\u001b[38;5;241m.\u001b[39mwarn(\u001b[38;5;124mf\u001b[39m\u001b[38;5;124m'\u001b[39m\u001b[38;5;124mThe signature of \u001b[39m\u001b[38;5;132;01m{\u001b[39;00mfunc\u001b[38;5;241m.\u001b[39m\u001b[38;5;18m__name__\u001b[39m\u001b[38;5;132;01m}\u001b[39;00m\u001b[38;5;124m will be reduced\u001b[39m\u001b[38;5;124m'\u001b[39m\n\u001b[1;32m    165\u001b[0m                   \u001b[38;5;124mf\u001b[39m\u001b[38;5;124m'\u001b[39m\u001b[38;5;124m to \u001b[39m\u001b[38;5;132;01m{\u001b[39;00msupported_number\u001b[38;5;132;01m}\u001b[39;00m\u001b[38;5;124m positional args\u001b[39m\u001b[38;5;124m'\u001b[39m\n\u001b[1;32m    166\u001b[0m                   \u001b[38;5;124mf\u001b[39m\u001b[38;5;124m'\u001b[39m\u001b[38;5;124m \u001b[39m\u001b[38;5;132;01m{\u001b[39;00m\u001b[38;5;28mlist\u001b[39m(supported)\u001b[38;5;132;01m}\u001b[39;00m\u001b[38;5;124m: pass \u001b[39m\u001b[38;5;132;01m{\u001b[39;00mwanted\u001b[38;5;132;01m}\u001b[39;00m\u001b[38;5;124m'\u001b[39m\n\u001b[1;32m    167\u001b[0m                   \u001b[38;5;124m'\u001b[39m\u001b[38;5;124m as keyword arg(s)\u001b[39m\u001b[38;5;124m'\u001b[39m,\n\u001b[1;32m    168\u001b[0m                   stacklevel\u001b[38;5;241m=\u001b[39mstacklevel,\n\u001b[1;32m    169\u001b[0m                   category\u001b[38;5;241m=\u001b[39mcategory)\n\u001b[0;32m--> 171\u001b[0m \u001b[38;5;28;01mreturn\u001b[39;00m func(\u001b[38;5;241m*\u001b[39margs, \u001b[38;5;241m*\u001b[39m\u001b[38;5;241m*\u001b[39mkwargs)\n",
      "File \u001b[0;32m~/anaconda3/lib/python3.11/site-packages/graphviz/backend/rendering.py:324\u001b[0m, in \u001b[0;36mrender\u001b[0;34m(engine, format, filepath, renderer, formatter, neato_no_op, quiet, outfile, raise_if_result_exists, overwrite_filepath)\u001b[0m\n\u001b[1;32m    320\u001b[0m     \u001b[38;5;28;01mraise\u001b[39;00m exceptions\u001b[38;5;241m.\u001b[39mFileExistsError(\u001b[38;5;124mf\u001b[39m\u001b[38;5;124m'\u001b[39m\u001b[38;5;124moutput file exists: \u001b[39m\u001b[38;5;132;01m{\u001b[39;00mos\u001b[38;5;241m.\u001b[39mfspath(outfile)\u001b[38;5;132;01m!r}\u001b[39;00m\u001b[38;5;124m'\u001b[39m)\n\u001b[1;32m    322\u001b[0m cmd \u001b[38;5;241m+\u001b[39m\u001b[38;5;241m=\u001b[39m args\n\u001b[0;32m--> 324\u001b[0m execute\u001b[38;5;241m.\u001b[39mrun_check(cmd,\n\u001b[1;32m    325\u001b[0m                   cwd\u001b[38;5;241m=\u001b[39mfilepath\u001b[38;5;241m.\u001b[39mparent \u001b[38;5;28;01mif\u001b[39;00m filepath\u001b[38;5;241m.\u001b[39mparent\u001b[38;5;241m.\u001b[39mparts \u001b[38;5;28;01melse\u001b[39;00m \u001b[38;5;28;01mNone\u001b[39;00m,\n\u001b[1;32m    326\u001b[0m                   quiet\u001b[38;5;241m=\u001b[39mquiet,\n\u001b[1;32m    327\u001b[0m                   capture_output\u001b[38;5;241m=\u001b[39m\u001b[38;5;28;01mTrue\u001b[39;00m)\n\u001b[1;32m    329\u001b[0m \u001b[38;5;28;01mreturn\u001b[39;00m os\u001b[38;5;241m.\u001b[39mfspath(outfile)\n",
      "File \u001b[0;32m~/anaconda3/lib/python3.11/site-packages/graphviz/backend/execute.py:84\u001b[0m, in \u001b[0;36mrun_check\u001b[0;34m(cmd, input_lines, encoding, quiet, **kwargs)\u001b[0m\n\u001b[1;32m     82\u001b[0m \u001b[38;5;28;01mexcept\u001b[39;00m \u001b[38;5;167;01mOSError\u001b[39;00m \u001b[38;5;28;01mas\u001b[39;00m e:\n\u001b[1;32m     83\u001b[0m     \u001b[38;5;28;01mif\u001b[39;00m e\u001b[38;5;241m.\u001b[39merrno \u001b[38;5;241m==\u001b[39m errno\u001b[38;5;241m.\u001b[39mENOENT:\n\u001b[0;32m---> 84\u001b[0m         \u001b[38;5;28;01mraise\u001b[39;00m ExecutableNotFound(cmd) \u001b[38;5;28;01mfrom\u001b[39;00m \u001b[38;5;21;01me\u001b[39;00m\n\u001b[1;32m     85\u001b[0m     \u001b[38;5;28;01mraise\u001b[39;00m\n\u001b[1;32m     87\u001b[0m \u001b[38;5;28;01mif\u001b[39;00m \u001b[38;5;129;01mnot\u001b[39;00m quiet \u001b[38;5;129;01mand\u001b[39;00m proc\u001b[38;5;241m.\u001b[39mstderr:\n",
      "\u001b[0;31mExecutableNotFound\u001b[0m: failed to execute PosixPath('dot'), make sure the Graphviz executables are on your systems' PATH"
     ]
    }
   ],
   "source": [
    "tree_visualization = visualize_tree(tree_with_feature_names)\n",
    "tree_visualization.view()\n"
   ]
  },
  {
   "cell_type": "code",
   "execution_count": 102,
   "id": "3d604873",
   "metadata": {},
   "outputs": [
    {
     "data": {
      "image/png": "[encoded data removed]",
      "text/plain": [
       "<Figure size 800x600 with 2 Axes>"
      ]
     },
     "metadata": {},
     "output_type": "display_data"
    }
   ],
   "source": [
    "import seaborn as sns\n",
    "\n",
    "confusion_matrix = [\n",
    "    [rfc_true_negatives, rfc_false_positives],\n",
    "    [rfc_false_negatives, rfc_true_positives]\n",
    "]\n",
    "\n",
    "plt.figure(figsize=(8,6))\n",
    "sns.heatmap(confusion_matrix, annot=True, fmt='g', cmap='Blues',\n",
    "            xticklabels=['Predicted Negative', 'Predicted Positive'],\n",
    "            yticklabels=['Actual Negative', 'Actual Positive'])\n",
    "plt.ylabel('True label')\n",
    "plt.xlabel('Predicted label')\n",
    "plt.title('Random Forest Model Confusion Matrix Heatmap')\n",
    "plt.show()\n"
   ]
  },
  {
   "cell_type": "code",
   "execution_count": 103,
   "id": "8b7f2bec",
   "metadata": {},
   "outputs": [
    {
     "name": "stderr",
     "output_type": "stream",
     "text": [
      "23/10/07 13:27:40 WARN DAGScheduler: Broadcasting large task binary with size 5.0 MiB\n",
      "                                                                                \r"
     ]
    },
    {
     "data": {
      "image/png": "[encoded data removed]",
      "text/plain": [
       "<Figure size 800x600 with 1 Axes>"
      ]
     },
     "metadata": {},
     "output_type": "display_data"
    }
   ],
   "source": [
    "from pyspark.mllib.evaluation import BinaryClassificationMetrics\n",
    "from sklearn.metrics import roc_curve, auc\n",
    "\n",
    "results = rfc_predictions.select(['probability', 'cardio']).collect()\n",
    "results_list = [(float(i[0][0]), float(i[1])) for i in results]\n",
    "y_score, y_true = zip(*results_list)\n",
    "fpr, tpr, _ = roc_curve(y_true, y_score)\n",
    "\n",
    "plt.figure(figsize=(8,6))\n",
    "plt.plot(fpr, tpr, color='darkorange', lw=2, label='ROC curve (area = %0.2f)' % rfc_auc)\n",
    "plt.plot([0, 1], [0, 1], color='navy', lw=2, linestyle='--')\n",
    "plt.xlabel('False Positive Rate')\n",
    "plt.ylabel('True Positive Rate')\n",
    "plt.title('Receiver Operating Characteristic (ROC) Curve')\n",
    "plt.legend(loc=\"lower right\")\n",
    "plt.show()\n"
   ]
  },
  {
   "cell_type": "code",
   "execution_count": 104,
   "id": "240468a0",
   "metadata": {},
   "outputs": [
    {
     "name": "stderr",
     "output_type": "stream",
     "text": [
      "23/10/07 13:28:17 WARN DAGScheduler: Broadcasting large task binary with size 5.1 MiB\n",
      "                                                                                \r"
     ]
    },
    {
     "data": {
      "image/png": "[encoded data removed]",
      "text/plain": [
       "<Figure size 800x600 with 1 Axes>"
      ]
     },
     "metadata": {},
     "output_type": "display_data"
    }
   ],
   "source": [
    "probabilities = rfc_predictions.select(\"probability\").rdd.map(lambda x: x[0][1]).collect()\n",
    "\n",
    "plt.figure(figsize=(8,6))\n",
    "plt.hist(probabilities, bins=20, color='blue', alpha=0.7)\n",
    "plt.title('Distribution of Predicted Probabilities')\n",
    "plt.xlabel('Probability of Being Positive Class')\n",
    "plt.ylabel('Frequency')\n",
    "plt.show()"
   ]
  },
  {
   "cell_type": "code",
   "execution_count": 107,
   "id": "06202500",
   "metadata": {},
   "outputs": [
    {
     "data": {
      "image/png": "[encoded data removed]",
      "text/plain": [
       "<Figure size 800x600 with 2 Axes>"
      ]
     },
     "metadata": {},
     "output_type": "display_data"
    }
   ],
   "source": [
    "import seaborn as sns\n",
    "\n",
    "confusion_matrix = [\n",
    "    [dtc_true_negatives, dtc_false_positives],\n",
    "    [dtc_false_negatives, dtc_true_positives]\n",
    "]\n",
    "\n",
    "plt.figure(figsize=(8,6))\n",
    "sns.heatmap(confusion_matrix, annot=True, fmt='g', cmap='Blues',\n",
    "            xticklabels=['Predicted Negative', 'Predicted Positive'],\n",
    "            yticklabels=['Actual Negative', 'Actual Positive'])\n",
    "plt.ylabel('True label')\n",
    "plt.xlabel('Predicted label')\n",
    "plt.title('Decision Tree Confusion Matrix Heatmap')\n",
    "plt.show()\n"
   ]
  },
  {
   "cell_type": "code",
   "execution_count": 106,
   "id": "aead8921",
   "metadata": {},
   "outputs": [
    {
     "ename": "ExecutableNotFound",
     "evalue": "failed to execute PosixPath('dot'), make sure the Graphviz executables are on your systems' PATH",
     "output_type": "error",
     "traceback": [
      "\u001b[0;31m---------------------------------------------------------------------------\u001b[0m",
      "\u001b[0;31mFileNotFoundError\u001b[0m                         Traceback (most recent call last)",
      "File \u001b[0;32m~/anaconda3/lib/python3.11/site-packages/graphviz/backend/execute.py:81\u001b[0m, in \u001b[0;36mrun_check\u001b[0;34m(cmd, input_lines, encoding, quiet, **kwargs)\u001b[0m\n\u001b[1;32m     80\u001b[0m     \u001b[38;5;28;01melse\u001b[39;00m:\n\u001b[0;32m---> 81\u001b[0m         proc \u001b[38;5;241m=\u001b[39m subprocess\u001b[38;5;241m.\u001b[39mrun(cmd, \u001b[38;5;241m*\u001b[39m\u001b[38;5;241m*\u001b[39mkwargs)\n\u001b[1;32m     82\u001b[0m \u001b[38;5;28;01mexcept\u001b[39;00m \u001b[38;5;167;01mOSError\u001b[39;00m \u001b[38;5;28;01mas\u001b[39;00m e:\n",
      "File \u001b[0;32m~/anaconda3/lib/python3.11/subprocess.py:548\u001b[0m, in \u001b[0;36mrun\u001b[0;34m(input, capture_output, timeout, check, *popenargs, **kwargs)\u001b[0m\n\u001b[1;32m    546\u001b[0m     kwargs[\u001b[38;5;124m'\u001b[39m\u001b[38;5;124mstderr\u001b[39m\u001b[38;5;124m'\u001b[39m] \u001b[38;5;241m=\u001b[39m PIPE\n\u001b[0;32m--> 548\u001b[0m \u001b[38;5;28;01mwith\u001b[39;00m Popen(\u001b[38;5;241m*\u001b[39mpopenargs, \u001b[38;5;241m*\u001b[39m\u001b[38;5;241m*\u001b[39mkwargs) \u001b[38;5;28;01mas\u001b[39;00m process:\n\u001b[1;32m    549\u001b[0m     \u001b[38;5;28;01mtry\u001b[39;00m:\n",
      "File \u001b[0;32m~/anaconda3/lib/python3.11/subprocess.py:1024\u001b[0m, in \u001b[0;36mPopen.__init__\u001b[0;34m(self, args, bufsize, executable, stdin, stdout, stderr, preexec_fn, close_fds, shell, cwd, env, universal_newlines, startupinfo, creationflags, restore_signals, start_new_session, pass_fds, user, group, extra_groups, encoding, errors, text, umask, pipesize, process_group)\u001b[0m\n\u001b[1;32m   1021\u001b[0m             \u001b[38;5;28mself\u001b[39m\u001b[38;5;241m.\u001b[39mstderr \u001b[38;5;241m=\u001b[39m io\u001b[38;5;241m.\u001b[39mTextIOWrapper(\u001b[38;5;28mself\u001b[39m\u001b[38;5;241m.\u001b[39mstderr,\n\u001b[1;32m   1022\u001b[0m                     encoding\u001b[38;5;241m=\u001b[39mencoding, errors\u001b[38;5;241m=\u001b[39merrors)\n\u001b[0;32m-> 1024\u001b[0m     \u001b[38;5;28mself\u001b[39m\u001b[38;5;241m.\u001b[39m_execute_child(args, executable, preexec_fn, close_fds,\n\u001b[1;32m   1025\u001b[0m                         pass_fds, cwd, env,\n\u001b[1;32m   1026\u001b[0m                         startupinfo, creationflags, shell,\n\u001b[1;32m   1027\u001b[0m                         p2cread, p2cwrite,\n\u001b[1;32m   1028\u001b[0m                         c2pread, c2pwrite,\n\u001b[1;32m   1029\u001b[0m                         errread, errwrite,\n\u001b[1;32m   1030\u001b[0m                         restore_signals,\n\u001b[1;32m   1031\u001b[0m                         gid, gids, uid, umask,\n\u001b[1;32m   1032\u001b[0m                         start_new_session, process_group)\n\u001b[1;32m   1033\u001b[0m \u001b[38;5;28;01mexcept\u001b[39;00m:\n\u001b[1;32m   1034\u001b[0m     \u001b[38;5;66;03m# Cleanup if the child failed starting.\u001b[39;00m\n",
      "File \u001b[0;32m~/anaconda3/lib/python3.11/subprocess.py:1917\u001b[0m, in \u001b[0;36mPopen._execute_child\u001b[0;34m(self, args, executable, preexec_fn, close_fds, pass_fds, cwd, env, startupinfo, creationflags, shell, p2cread, p2cwrite, c2pread, c2pwrite, errread, errwrite, restore_signals, gid, gids, uid, umask, start_new_session, process_group)\u001b[0m\n\u001b[1;32m   1916\u001b[0m         err_msg \u001b[38;5;241m=\u001b[39m os\u001b[38;5;241m.\u001b[39mstrerror(errno_num)\n\u001b[0;32m-> 1917\u001b[0m     \u001b[38;5;28;01mraise\u001b[39;00m child_exception_type(errno_num, err_msg, err_filename)\n\u001b[1;32m   1918\u001b[0m \u001b[38;5;28;01mraise\u001b[39;00m child_exception_type(err_msg)\n",
      "\u001b[0;31mFileNotFoundError\u001b[0m: [Errno 2] No such file or directory: PosixPath('dot')",
      "\nThe above exception was the direct cause of the following exception:\n",
      "\u001b[0;31mExecutableNotFound\u001b[0m                        Traceback (most recent call last)",
      "Cell \u001b[0;32mIn[106], line 30\u001b[0m\n\u001b[1;32m     28\u001b[0m \u001b[38;5;66;03m# Visualize using graphviz\u001b[39;00m\n\u001b[1;32m     29\u001b[0m graph \u001b[38;5;241m=\u001b[39m graphviz\u001b[38;5;241m.\u001b[39mSource(dot_data)\n\u001b[0;32m---> 30\u001b[0m graph\u001b[38;5;241m.\u001b[39mview()\n",
      "File \u001b[0;32m~/anaconda3/lib/python3.11/site-packages/graphviz/_tools.py:171\u001b[0m, in \u001b[0;36mdeprecate_positional_args.<locals>.decorator.<locals>.wrapper\u001b[0;34m(*args, **kwargs)\u001b[0m\n\u001b[1;32m    162\u001b[0m     wanted \u001b[38;5;241m=\u001b[39m \u001b[38;5;124m'\u001b[39m\u001b[38;5;124m, \u001b[39m\u001b[38;5;124m'\u001b[39m\u001b[38;5;241m.\u001b[39mjoin(\u001b[38;5;124mf\u001b[39m\u001b[38;5;124m'\u001b[39m\u001b[38;5;132;01m{\u001b[39;00mname\u001b[38;5;132;01m}\u001b[39;00m\u001b[38;5;124m=\u001b[39m\u001b[38;5;132;01m{\u001b[39;00mvalue\u001b[38;5;132;01m!r}\u001b[39;00m\u001b[38;5;124m'\u001b[39m\n\u001b[1;32m    163\u001b[0m                        \u001b[38;5;28;01mfor\u001b[39;00m name, value \u001b[38;5;129;01min\u001b[39;00m deprecated\u001b[38;5;241m.\u001b[39mitems())\n\u001b[1;32m    164\u001b[0m     warnings\u001b[38;5;241m.\u001b[39mwarn(\u001b[38;5;124mf\u001b[39m\u001b[38;5;124m'\u001b[39m\u001b[38;5;124mThe signature of \u001b[39m\u001b[38;5;132;01m{\u001b[39;00mfunc\u001b[38;5;241m.\u001b[39m\u001b[38;5;18m__name__\u001b[39m\u001b[38;5;132;01m}\u001b[39;00m\u001b[38;5;124m will be reduced\u001b[39m\u001b[38;5;124m'\u001b[39m\n\u001b[1;32m    165\u001b[0m                   \u001b[38;5;124mf\u001b[39m\u001b[38;5;124m'\u001b[39m\u001b[38;5;124m to \u001b[39m\u001b[38;5;132;01m{\u001b[39;00msupported_number\u001b[38;5;132;01m}\u001b[39;00m\u001b[38;5;124m positional args\u001b[39m\u001b[38;5;124m'\u001b[39m\n\u001b[1;32m    166\u001b[0m                   \u001b[38;5;124mf\u001b[39m\u001b[38;5;124m'\u001b[39m\u001b[38;5;124m \u001b[39m\u001b[38;5;132;01m{\u001b[39;00m\u001b[38;5;28mlist\u001b[39m(supported)\u001b[38;5;132;01m}\u001b[39;00m\u001b[38;5;124m: pass \u001b[39m\u001b[38;5;132;01m{\u001b[39;00mwanted\u001b[38;5;132;01m}\u001b[39;00m\u001b[38;5;124m'\u001b[39m\n\u001b[1;32m    167\u001b[0m                   \u001b[38;5;124m'\u001b[39m\u001b[38;5;124m as keyword arg(s)\u001b[39m\u001b[38;5;124m'\u001b[39m,\n\u001b[1;32m    168\u001b[0m                   stacklevel\u001b[38;5;241m=\u001b[39mstacklevel,\n\u001b[1;32m    169\u001b[0m                   category\u001b[38;5;241m=\u001b[39mcategory)\n\u001b[0;32m--> 171\u001b[0m \u001b[38;5;28;01mreturn\u001b[39;00m func(\u001b[38;5;241m*\u001b[39margs, \u001b[38;5;241m*\u001b[39m\u001b[38;5;241m*\u001b[39mkwargs)\n",
      "File \u001b[0;32m~/anaconda3/lib/python3.11/site-packages/graphviz/rendering.py:185\u001b[0m, in \u001b[0;36mRender.view\u001b[0;34m(self, filename, directory, cleanup, quiet, quiet_view)\u001b[0m\n\u001b[1;32m    150\u001b[0m \u001b[38;5;129m@_tools\u001b[39m\u001b[38;5;241m.\u001b[39mdeprecate_positional_args(supported_number\u001b[38;5;241m=\u001b[39m\u001b[38;5;241m2\u001b[39m)\n\u001b[1;32m    151\u001b[0m \u001b[38;5;28;01mdef\u001b[39;00m \u001b[38;5;21mview\u001b[39m(\u001b[38;5;28mself\u001b[39m,\n\u001b[1;32m    152\u001b[0m          filename: typing\u001b[38;5;241m.\u001b[39mUnion[os\u001b[38;5;241m.\u001b[39mPathLike, \u001b[38;5;28mstr\u001b[39m, \u001b[38;5;28;01mNone\u001b[39;00m] \u001b[38;5;241m=\u001b[39m \u001b[38;5;28;01mNone\u001b[39;00m,\n\u001b[0;32m   (...)\u001b[0m\n\u001b[1;32m    155\u001b[0m          quiet: \u001b[38;5;28mbool\u001b[39m \u001b[38;5;241m=\u001b[39m \u001b[38;5;28;01mFalse\u001b[39;00m,\n\u001b[1;32m    156\u001b[0m          quiet_view: \u001b[38;5;28mbool\u001b[39m \u001b[38;5;241m=\u001b[39m \u001b[38;5;28;01mFalse\u001b[39;00m) \u001b[38;5;241m-\u001b[39m\u001b[38;5;241m>\u001b[39m \u001b[38;5;28mstr\u001b[39m:\n\u001b[1;32m    157\u001b[0m \u001b[38;5;250m    \u001b[39m\u001b[38;5;124;03m\"\"\"Save the source to file, open the rendered result in a viewer.\u001b[39;00m\n\u001b[1;32m    158\u001b[0m \n\u001b[1;32m    159\u001b[0m \u001b[38;5;124;03m    Convenience short-cut for running ``.render(view=True)``.\u001b[39;00m\n\u001b[0;32m   (...)\u001b[0m\n\u001b[1;32m    183\u001b[0m \u001b[38;5;124;03m        and no way to retrieve the application's exit status.\u001b[39;00m\n\u001b[1;32m    184\u001b[0m \u001b[38;5;124;03m    \"\"\"\u001b[39;00m\n\u001b[0;32m--> 185\u001b[0m     \u001b[38;5;28;01mreturn\u001b[39;00m \u001b[38;5;28mself\u001b[39m\u001b[38;5;241m.\u001b[39mrender(filename\u001b[38;5;241m=\u001b[39mfilename, directory\u001b[38;5;241m=\u001b[39mdirectory, view\u001b[38;5;241m=\u001b[39m\u001b[38;5;28;01mTrue\u001b[39;00m,\n\u001b[1;32m    186\u001b[0m                        cleanup\u001b[38;5;241m=\u001b[39mcleanup, quiet\u001b[38;5;241m=\u001b[39mquiet, quiet_view\u001b[38;5;241m=\u001b[39mquiet_view)\n",
      "File \u001b[0;32m~/anaconda3/lib/python3.11/site-packages/graphviz/_tools.py:171\u001b[0m, in \u001b[0;36mdeprecate_positional_args.<locals>.decorator.<locals>.wrapper\u001b[0;34m(*args, **kwargs)\u001b[0m\n\u001b[1;32m    162\u001b[0m     wanted \u001b[38;5;241m=\u001b[39m \u001b[38;5;124m'\u001b[39m\u001b[38;5;124m, \u001b[39m\u001b[38;5;124m'\u001b[39m\u001b[38;5;241m.\u001b[39mjoin(\u001b[38;5;124mf\u001b[39m\u001b[38;5;124m'\u001b[39m\u001b[38;5;132;01m{\u001b[39;00mname\u001b[38;5;132;01m}\u001b[39;00m\u001b[38;5;124m=\u001b[39m\u001b[38;5;132;01m{\u001b[39;00mvalue\u001b[38;5;132;01m!r}\u001b[39;00m\u001b[38;5;124m'\u001b[39m\n\u001b[1;32m    163\u001b[0m                        \u001b[38;5;28;01mfor\u001b[39;00m name, value \u001b[38;5;129;01min\u001b[39;00m deprecated\u001b[38;5;241m.\u001b[39mitems())\n\u001b[1;32m    164\u001b[0m     warnings\u001b[38;5;241m.\u001b[39mwarn(\u001b[38;5;124mf\u001b[39m\u001b[38;5;124m'\u001b[39m\u001b[38;5;124mThe signature of \u001b[39m\u001b[38;5;132;01m{\u001b[39;00mfunc\u001b[38;5;241m.\u001b[39m\u001b[38;5;18m__name__\u001b[39m\u001b[38;5;132;01m}\u001b[39;00m\u001b[38;5;124m will be reduced\u001b[39m\u001b[38;5;124m'\u001b[39m\n\u001b[1;32m    165\u001b[0m                   \u001b[38;5;124mf\u001b[39m\u001b[38;5;124m'\u001b[39m\u001b[38;5;124m to \u001b[39m\u001b[38;5;132;01m{\u001b[39;00msupported_number\u001b[38;5;132;01m}\u001b[39;00m\u001b[38;5;124m positional args\u001b[39m\u001b[38;5;124m'\u001b[39m\n\u001b[1;32m    166\u001b[0m                   \u001b[38;5;124mf\u001b[39m\u001b[38;5;124m'\u001b[39m\u001b[38;5;124m \u001b[39m\u001b[38;5;132;01m{\u001b[39;00m\u001b[38;5;28mlist\u001b[39m(supported)\u001b[38;5;132;01m}\u001b[39;00m\u001b[38;5;124m: pass \u001b[39m\u001b[38;5;132;01m{\u001b[39;00mwanted\u001b[38;5;132;01m}\u001b[39;00m\u001b[38;5;124m'\u001b[39m\n\u001b[1;32m    167\u001b[0m                   \u001b[38;5;124m'\u001b[39m\u001b[38;5;124m as keyword arg(s)\u001b[39m\u001b[38;5;124m'\u001b[39m,\n\u001b[1;32m    168\u001b[0m                   stacklevel\u001b[38;5;241m=\u001b[39mstacklevel,\n\u001b[1;32m    169\u001b[0m                   category\u001b[38;5;241m=\u001b[39mcategory)\n\u001b[0;32m--> 171\u001b[0m \u001b[38;5;28;01mreturn\u001b[39;00m func(\u001b[38;5;241m*\u001b[39margs, \u001b[38;5;241m*\u001b[39m\u001b[38;5;241m*\u001b[39mkwargs)\n",
      "File \u001b[0;32m~/anaconda3/lib/python3.11/site-packages/graphviz/rendering.py:122\u001b[0m, in \u001b[0;36mRender.render\u001b[0;34m(self, filename, directory, view, cleanup, format, renderer, formatter, neato_no_op, quiet, quiet_view, outfile, engine, raise_if_result_exists, overwrite_source)\u001b[0m\n\u001b[1;32m    118\u001b[0m filepath \u001b[38;5;241m=\u001b[39m \u001b[38;5;28mself\u001b[39m\u001b[38;5;241m.\u001b[39msave(filename, directory\u001b[38;5;241m=\u001b[39mdirectory, skip_existing\u001b[38;5;241m=\u001b[39m\u001b[38;5;28;01mNone\u001b[39;00m)\n\u001b[1;32m    120\u001b[0m args\u001b[38;5;241m.\u001b[39mappend(filepath)\n\u001b[0;32m--> 122\u001b[0m rendered \u001b[38;5;241m=\u001b[39m \u001b[38;5;28mself\u001b[39m\u001b[38;5;241m.\u001b[39m_render(\u001b[38;5;241m*\u001b[39margs, \u001b[38;5;241m*\u001b[39m\u001b[38;5;241m*\u001b[39mkwargs)\n\u001b[1;32m    124\u001b[0m \u001b[38;5;28;01mif\u001b[39;00m cleanup:\n\u001b[1;32m    125\u001b[0m     log\u001b[38;5;241m.\u001b[39mdebug(\u001b[38;5;124m'\u001b[39m\u001b[38;5;124mdelete \u001b[39m\u001b[38;5;132;01m%r\u001b[39;00m\u001b[38;5;124m'\u001b[39m, filepath)\n",
      "File \u001b[0;32m~/anaconda3/lib/python3.11/site-packages/graphviz/_tools.py:171\u001b[0m, in \u001b[0;36mdeprecate_positional_args.<locals>.decorator.<locals>.wrapper\u001b[0;34m(*args, **kwargs)\u001b[0m\n\u001b[1;32m    162\u001b[0m     wanted \u001b[38;5;241m=\u001b[39m \u001b[38;5;124m'\u001b[39m\u001b[38;5;124m, \u001b[39m\u001b[38;5;124m'\u001b[39m\u001b[38;5;241m.\u001b[39mjoin(\u001b[38;5;124mf\u001b[39m\u001b[38;5;124m'\u001b[39m\u001b[38;5;132;01m{\u001b[39;00mname\u001b[38;5;132;01m}\u001b[39;00m\u001b[38;5;124m=\u001b[39m\u001b[38;5;132;01m{\u001b[39;00mvalue\u001b[38;5;132;01m!r}\u001b[39;00m\u001b[38;5;124m'\u001b[39m\n\u001b[1;32m    163\u001b[0m                        \u001b[38;5;28;01mfor\u001b[39;00m name, value \u001b[38;5;129;01min\u001b[39;00m deprecated\u001b[38;5;241m.\u001b[39mitems())\n\u001b[1;32m    164\u001b[0m     warnings\u001b[38;5;241m.\u001b[39mwarn(\u001b[38;5;124mf\u001b[39m\u001b[38;5;124m'\u001b[39m\u001b[38;5;124mThe signature of \u001b[39m\u001b[38;5;132;01m{\u001b[39;00mfunc\u001b[38;5;241m.\u001b[39m\u001b[38;5;18m__name__\u001b[39m\u001b[38;5;132;01m}\u001b[39;00m\u001b[38;5;124m will be reduced\u001b[39m\u001b[38;5;124m'\u001b[39m\n\u001b[1;32m    165\u001b[0m                   \u001b[38;5;124mf\u001b[39m\u001b[38;5;124m'\u001b[39m\u001b[38;5;124m to \u001b[39m\u001b[38;5;132;01m{\u001b[39;00msupported_number\u001b[38;5;132;01m}\u001b[39;00m\u001b[38;5;124m positional args\u001b[39m\u001b[38;5;124m'\u001b[39m\n\u001b[1;32m    166\u001b[0m                   \u001b[38;5;124mf\u001b[39m\u001b[38;5;124m'\u001b[39m\u001b[38;5;124m \u001b[39m\u001b[38;5;132;01m{\u001b[39;00m\u001b[38;5;28mlist\u001b[39m(supported)\u001b[38;5;132;01m}\u001b[39;00m\u001b[38;5;124m: pass \u001b[39m\u001b[38;5;132;01m{\u001b[39;00mwanted\u001b[38;5;132;01m}\u001b[39;00m\u001b[38;5;124m'\u001b[39m\n\u001b[1;32m    167\u001b[0m                   \u001b[38;5;124m'\u001b[39m\u001b[38;5;124m as keyword arg(s)\u001b[39m\u001b[38;5;124m'\u001b[39m,\n\u001b[1;32m    168\u001b[0m                   stacklevel\u001b[38;5;241m=\u001b[39mstacklevel,\n\u001b[1;32m    169\u001b[0m                   category\u001b[38;5;241m=\u001b[39mcategory)\n\u001b[0;32m--> 171\u001b[0m \u001b[38;5;28;01mreturn\u001b[39;00m func(\u001b[38;5;241m*\u001b[39margs, \u001b[38;5;241m*\u001b[39m\u001b[38;5;241m*\u001b[39mkwargs)\n",
      "File \u001b[0;32m~/anaconda3/lib/python3.11/site-packages/graphviz/backend/rendering.py:324\u001b[0m, in \u001b[0;36mrender\u001b[0;34m(engine, format, filepath, renderer, formatter, neato_no_op, quiet, outfile, raise_if_result_exists, overwrite_filepath)\u001b[0m\n\u001b[1;32m    320\u001b[0m     \u001b[38;5;28;01mraise\u001b[39;00m exceptions\u001b[38;5;241m.\u001b[39mFileExistsError(\u001b[38;5;124mf\u001b[39m\u001b[38;5;124m'\u001b[39m\u001b[38;5;124moutput file exists: \u001b[39m\u001b[38;5;132;01m{\u001b[39;00mos\u001b[38;5;241m.\u001b[39mfspath(outfile)\u001b[38;5;132;01m!r}\u001b[39;00m\u001b[38;5;124m'\u001b[39m)\n\u001b[1;32m    322\u001b[0m cmd \u001b[38;5;241m+\u001b[39m\u001b[38;5;241m=\u001b[39m args\n\u001b[0;32m--> 324\u001b[0m execute\u001b[38;5;241m.\u001b[39mrun_check(cmd,\n\u001b[1;32m    325\u001b[0m                   cwd\u001b[38;5;241m=\u001b[39mfilepath\u001b[38;5;241m.\u001b[39mparent \u001b[38;5;28;01mif\u001b[39;00m filepath\u001b[38;5;241m.\u001b[39mparent\u001b[38;5;241m.\u001b[39mparts \u001b[38;5;28;01melse\u001b[39;00m \u001b[38;5;28;01mNone\u001b[39;00m,\n\u001b[1;32m    326\u001b[0m                   quiet\u001b[38;5;241m=\u001b[39mquiet,\n\u001b[1;32m    327\u001b[0m                   capture_output\u001b[38;5;241m=\u001b[39m\u001b[38;5;28;01mTrue\u001b[39;00m)\n\u001b[1;32m    329\u001b[0m \u001b[38;5;28;01mreturn\u001b[39;00m os\u001b[38;5;241m.\u001b[39mfspath(outfile)\n",
      "File \u001b[0;32m~/anaconda3/lib/python3.11/site-packages/graphviz/backend/execute.py:84\u001b[0m, in \u001b[0;36mrun_check\u001b[0;34m(cmd, input_lines, encoding, quiet, **kwargs)\u001b[0m\n\u001b[1;32m     82\u001b[0m \u001b[38;5;28;01mexcept\u001b[39;00m \u001b[38;5;167;01mOSError\u001b[39;00m \u001b[38;5;28;01mas\u001b[39;00m e:\n\u001b[1;32m     83\u001b[0m     \u001b[38;5;28;01mif\u001b[39;00m e\u001b[38;5;241m.\u001b[39merrno \u001b[38;5;241m==\u001b[39m errno\u001b[38;5;241m.\u001b[39mENOENT:\n\u001b[0;32m---> 84\u001b[0m         \u001b[38;5;28;01mraise\u001b[39;00m ExecutableNotFound(cmd) \u001b[38;5;28;01mfrom\u001b[39;00m \u001b[38;5;21;01me\u001b[39;00m\n\u001b[1;32m     85\u001b[0m     \u001b[38;5;28;01mraise\u001b[39;00m\n\u001b[1;32m     87\u001b[0m \u001b[38;5;28;01mif\u001b[39;00m \u001b[38;5;129;01mnot\u001b[39;00m quiet \u001b[38;5;129;01mand\u001b[39;00m proc\u001b[38;5;241m.\u001b[39mstderr:\n",
      "\u001b[0;31mExecutableNotFound\u001b[0m: failed to execute PosixPath('dot'), make sure the Graphviz executables are on your systems' PATH"
     ]
    }
   ],
   "source": [
    "import graphviz\n",
    "\n",
    "def parse_to_dot(tree_str, feature_names):\n",
    "    lines = tree_str.split(\"\\n\")\n",
    "    dot_str = 'digraph Tree {\\n'\n",
    "    \n",
    "    for line in lines:\n",
    "        if line.startswith(\"If\"):\n",
    "            depth = line.count('  ')\n",
    "            feature_index = int(line.split(' ')[1].split('_')[1])\n",
    "            threshold = float(line.split('<=')[1])\n",
    "            parent = 'node' + str(depth)\n",
    "            dot_str += f'    \"{parent}\" [label=\"{feature_names[feature_index]} <= {threshold:.2f}\"];\\n'\n",
    "            dot_str += f'    \"{parent}\" -> \"node{depth + 1}L\" [label=\"True\"];\\n'\n",
    "            dot_str += f'    \"{parent}\" -> \"node{depth + 1}R\" [label=\"False\"];\\n'\n",
    "        elif \"Predict\" in line:\n",
    "            depth = line.count('  ')\n",
    "            prediction = float(line.split(\":\")[1].strip())\n",
    "            dot_str += f'    \"node{depth}L\" [label=\"Predict: {prediction}\", shape=box];\\n'\n",
    "            dot_str += f'    \"node{depth}R\" [label=\"Predict: {prediction}\", shape=box];\\n'\n",
    "    \n",
    "    dot_str += '}'\n",
    "    return dot_str\n",
    "\n",
    "# Generate the DOT format string\n",
    "dot_data = parse_to_dot(dtc_model.toDebugString, feature_names)\n",
    "\n",
    "# Visualize using graphviz\n",
    "graph = graphviz.Source(dot_data)\n",
    "graph.view()\n"
   ]
  },
  {
   "cell_type": "code",
   "execution_count": 111,
   "id": "196426ad",
   "metadata": {},
   "outputs": [],
   "source": [
    "# Split the training and testing set.\n",
    "train_data_iteration,test_data_iteration = final_data.randomSplit([0.8,0.2])"
   ]
  },
  {
   "cell_type": "code",
   "execution_count": 113,
   "id": "907bad3e",
   "metadata": {},
   "outputs": [
    {
     "name": "stderr",
     "output_type": "stream",
     "text": [
      "23/10/07 14:02:09 WARN DAGScheduler: Broadcasting large task binary with size 1014.2 KiB\n",
      "23/10/07 14:02:09 WARN DAGScheduler: Broadcasting large task binary with size 1816.6 KiB\n",
      "23/10/07 14:02:10 WARN DAGScheduler: Broadcasting large task binary with size 3.2 MiB\n",
      "23/10/07 14:02:11 WARN DAGScheduler: Broadcasting large task binary with size 5.5 MiB\n",
      "23/10/07 14:02:12 WARN DAGScheduler: Broadcasting large task binary with size 1280.4 KiB\n",
      "23/10/07 14:02:12 WARN DAGScheduler: Broadcasting large task binary with size 9.0 MiB\n",
      "23/10/07 14:02:13 WARN DAGScheduler: Broadcasting large task binary with size 1925.3 KiB\n",
      "                                                                                \r"
     ]
    }
   ],
   "source": [
    "rfc_model_Iteration = rfc.fit(train_data_iteration)\n",
    "rfc_predictions_Iteration = rfc_model.transform(test_data_iteration)"
   ]
  },
  {
   "cell_type": "code",
   "execution_count": 115,
   "id": "728558bc",
   "metadata": {},
   "outputs": [
    {
     "name": "stderr",
     "output_type": "stream",
     "text": [
      "23/10/07 14:04:33 WARN DAGScheduler: Broadcasting large task binary with size 5.2 MiB\n",
      "23/10/07 14:04:33 WARN DAGScheduler: Broadcasting large task binary with size 5.2 MiB\n",
      "23/10/07 14:04:34 WARN DAGScheduler: Broadcasting large task binary with size 5.2 MiB\n",
      "23/10/07 14:04:35 WARN DAGScheduler: Broadcasting large task binary with size 5.2 MiB\n",
      "23/10/07 14:04:35 WARN DAGScheduler: Broadcasting large task binary with size 5.2 MiB\n",
      "23/10/07 14:04:36 WARN DAGScheduler: Broadcasting large task binary with size 5.2 MiB\n",
      "23/10/07 14:04:36 WARN DAGScheduler: Broadcasting large task binary with size 5.2 MiB\n",
      "23/10/07 14:04:37 WARN DAGScheduler: Broadcasting large task binary with size 5.2 MiB\n",
      "23/10/07 14:04:37 WARN DAGScheduler: Broadcasting large task binary with size 5.2 MiB\n",
      "23/10/07 14:04:38 WARN DAGScheduler: Broadcasting large task binary with size 5.2 MiB\n"
     ]
    },
    {
     "name": "stdout",
     "output_type": "stream",
     "text": [
      "Random Forest Algorithm\n",
      "Confusion Matrix:\n",
      "\t\tActual Positive\tActual Negative\n",
      "Predicted Positive\t6465\t\t2208\n",
      "Predicted Negative\t3379\t\t7913\n",
      "----------------------------------------\n",
      "Area Under ROC (AUC): 0.8004468215523884\n",
      "Area Under PR Curve: 0.7782061536991369\n",
      "Accuracy: 0.735518465372706\n",
      "Weighted Precision: 0.737529397505601\n",
      "Weighted Recall: 0.735518465372706\n",
      "F1 Score: 0.7345292189158306\n"
     ]
    }
   ],
   "source": [
    "rfcI_auc = my_binary_eval.evaluate(rfc_predictions_Iteration, {my_binary_eval.metricName: \"areaUnderROC\"})\n",
    "\n",
    "# Area Under PR Curve\n",
    "rfcI_pr =my_binary_eval.evaluate(rfc_predictions_Iteration, {my_binary_eval.metricName: \"areaUnderPR\"})\n",
    "\n",
    "# Weighted Precision\n",
    "rfcI_weighted_precision = acc_evaluator.evaluate(rfc_predictions_Iteration, {acc_evaluator.metricName: \"weightedPrecision\"})\n",
    "\n",
    "# Weighted Recall\n",
    "rfcI_weighted_recall = acc_evaluator.evaluate(rfc_predictions_Iteration, {acc_evaluator.metricName: \"weightedRecall\"})\n",
    "\n",
    "# F1 Score\n",
    "rfcI_f1 = acc_evaluator.evaluate(rfc_predictions_Iteration, {acc_evaluator.metricName: \"f1\"})\n",
    "\n",
    "#Accuracy\n",
    "rfcI_acc = acc_evaluator.evaluate(rfc_predictions_Iteration)\n",
    "\n",
    "# Create a confusion matrix\n",
    "rfcI_true_positives = rfc_predictions_Iteration.filter((col(\"cardio\") == 1) & (col(\"prediction\") == 1)).count()\n",
    "rfcI_true_negatives = rfc_predictions_Iteration.filter((col(\"cardio\") == 0) & (col(\"prediction\") == 0)).count()\n",
    "rfcI_false_positives = rfc_predictions_Iteration.filter((col(\"cardio\") == 0) & (col(\"prediction\") == 1)).count()\n",
    "rfcI_false_negatives = rfc_predictions_Iteration.filter((col(\"cardio\") == 1) & (col(\"prediction\") == 0)).count()\n",
    "\n",
    "print('Random Forest Algorithm')\n",
    "print(\"Confusion Matrix:\")\n",
    "print(\"\\t\\tActual Positive\\tActual Negative\")\n",
    "print(\"Predicted Positive\\t{}\\t\\t{}\".format(rfc_true_positives, rfc_false_positives))\n",
    "print(\"Predicted Negative\\t{}\\t\\t{}\".format(rfc_false_negatives, rfc_true_negatives))\n",
    "print('-'*40)\n",
    "\n",
    "print(f\"Area Under ROC (AUC): {rfcI_auc}\")\n",
    "print(f\"Area Under PR Curve: {rfcI_pr}\")\n",
    "print(f\"Accuracy: {rfcI_acc}\")\n",
    "print(f\"Weighted Precision: {rfcI_weighted_precision}\")\n",
    "print(f\"Weighted Recall: {rfcI_weighted_recall}\")\n",
    "print(f\"F1 Score: {rfcI_f1}\")"
   ]
  },
  {
   "cell_type": "code",
   "execution_count": 116,
   "id": "635dea4a",
   "metadata": {},
   "outputs": [
    {
     "name": "stdout",
     "output_type": "stream",
     "text": [
      "+--------------------+------+\n",
      "|            features|cardio|\n",
      "+--------------------+------+\n",
      "|[50.0,2.0,110.0,8...|     0|\n",
      "|[55.0,1.0,140.0,9...|     1|\n",
      "|[52.0,1.0,130.0,7...|     1|\n",
      "|[48.0,2.0,150.0,1...|     1|\n",
      "|[48.0,1.0,100.0,6...|     0|\n",
      "|[60.0,1.0,120.0,8...|     0|\n",
      "|[61.0,1.0,130.0,8...|     0|\n",
      "|[62.0,2.0,130.0,9...|     1|\n",
      "|[48.0,1.0,110.0,7...|     0|\n",
      "|[54.0,1.0,110.0,6...|     0|\n",
      "|[62.0,1.0,120.0,8...|     0|\n",
      "|[52.0,2.0,120.0,8...|     0|\n",
      "|[41.0,2.0,120.0,8...|     0|\n",
      "|[54.0,1.0,110.0,7...|     0|\n",
      "|[40.0,2.0,130.0,9...|     0|\n",
      "|[46.0,2.0,120.0,8...|     1|\n",
      "|[58.0,1.0,130.0,7...|     0|\n",
      "|[46.0,1.0,110.0,7...|     0|\n",
      "|[48.0,1.0,100.0,7...|     0|\n",
      "|[60.0,2.0,120.0,7...|     0|\n",
      "+--------------------+------+\n",
      "only showing top 20 rows\n",
      "\n"
     ]
    }
   ],
   "source": [
    "assembler_Iteration = VectorAssembler(\n",
    "    inputCols=[\"age\", \"gender\",\"ap_hi\",\"ap_lo\",\n",
    "               \"cholesterol\",\"age_group_indexed\"],\n",
    "    outputCol=\"features\")\n",
    "output_I = assembler.transform(combined_df_indexed)\n",
    "final_data_Iteration = output.select(\"features\",'cardio')\n",
    "final_data_Iteration.show()"
   ]
  },
  {
   "cell_type": "code",
   "execution_count": 117,
   "id": "9e763395",
   "metadata": {},
   "outputs": [],
   "source": [
    "train_data_iteration2,test_data_iteration2 = final_data_Iteration.randomSplit([0.8,0.2])"
   ]
  },
  {
   "cell_type": "code",
   "execution_count": 119,
   "id": "f4fd28cf",
   "metadata": {},
   "outputs": [
    {
     "name": "stderr",
     "output_type": "stream",
     "text": [
      "23/10/07 14:27:07 WARN DAGScheduler: Broadcasting large task binary with size 1011.3 KiB\n",
      "23/10/07 14:27:07 WARN DAGScheduler: Broadcasting large task binary with size 1813.1 KiB\n",
      "23/10/07 14:27:08 WARN DAGScheduler: Broadcasting large task binary with size 3.2 MiB\n",
      "23/10/07 14:27:09 WARN DAGScheduler: Broadcasting large task binary with size 5.5 MiB\n",
      "23/10/07 14:27:09 WARN DAGScheduler: Broadcasting large task binary with size 1269.5 KiB\n",
      "23/10/07 14:27:10 WARN DAGScheduler: Broadcasting large task binary with size 9.0 MiB\n",
      "23/10/07 14:27:11 WARN DAGScheduler: Broadcasting large task binary with size 1904.3 KiB\n",
      "                                                                                \r"
     ]
    }
   ],
   "source": [
    "rfc_model_Iteration2 = rfc.fit(train_data_iteration2)\n",
    "rfc_predictions_Iteration2 = rfc_model.transform(test_data_iteration2)\n"
   ]
  },
  {
   "cell_type": "code",
   "execution_count": 120,
   "id": "05b8162d",
   "metadata": {},
   "outputs": [
    {
     "name": "stderr",
     "output_type": "stream",
     "text": [
      "23/10/07 14:27:30 WARN DAGScheduler: Broadcasting large task binary with size 5.2 MiB\n",
      "23/10/07 14:27:30 WARN DAGScheduler: Broadcasting large task binary with size 5.2 MiB\n",
      "23/10/07 14:27:31 WARN DAGScheduler: Broadcasting large task binary with size 5.2 MiB\n",
      "23/10/07 14:27:32 WARN DAGScheduler: Broadcasting large task binary with size 5.2 MiB\n",
      "23/10/07 14:27:32 WARN DAGScheduler: Broadcasting large task binary with size 5.2 MiB\n",
      "23/10/07 14:27:33 WARN DAGScheduler: Broadcasting large task binary with size 5.2 MiB\n",
      "23/10/07 14:27:33 WARN DAGScheduler: Broadcasting large task binary with size 5.2 MiB\n",
      "23/10/07 14:27:34 WARN DAGScheduler: Broadcasting large task binary with size 5.2 MiB\n",
      "23/10/07 14:27:34 WARN DAGScheduler: Broadcasting large task binary with size 5.2 MiB\n",
      "23/10/07 14:27:35 WARN DAGScheduler: Broadcasting large task binary with size 5.2 MiB\n"
     ]
    },
    {
     "name": "stdout",
     "output_type": "stream",
     "text": [
      "Random Forest Algorithm\n",
      "Confusion Matrix:\n",
      "\t\tActual Positive\tActual Negative\n",
      "Predicted Positive\t6465\t\t2208\n",
      "Predicted Negative\t3379\t\t7913\n",
      "----------------------------------------\n",
      "Area Under ROC (AUC): 0.8130467387180563\n",
      "Area Under PR Curve: 0.8028645064705227\n",
      "Accuracy: 0.7368186543888311\n",
      "Weighted Precision: 0.7388746232841588\n",
      "Weighted Recall: 0.7368186543888311\n",
      "F1 Score: 0.7358231344997237\n"
     ]
    }
   ],
   "source": [
    "rfcI2_auc = my_binary_eval.evaluate(rfc_predictions_Iteration2, {my_binary_eval.metricName: \"areaUnderROC\"})\n",
    "\n",
    "# Area Under PR Curve\n",
    "rfcI2_pr =my_binary_eval.evaluate(rfc_predictions_Iteration2, {my_binary_eval.metricName: \"areaUnderPR\"})\n",
    "\n",
    "# Weighted Precision\n",
    "rfcI2_weighted_precision = acc_evaluator.evaluate(rfc_predictions_Iteration2, {acc_evaluator.metricName: \"weightedPrecision\"})\n",
    "\n",
    "# Weighted Recall\n",
    "rfcI2_weighted_recall = acc_evaluator.evaluate(rfc_predictions_Iteration2, {acc_evaluator.metricName: \"weightedRecall\"})\n",
    "\n",
    "# F1 Score\n",
    "rfcI2_f1 = acc_evaluator.evaluate(rfc_predictions_Iteration2, {acc_evaluator.metricName: \"f1\"})\n",
    "\n",
    "#Accuracy\n",
    "rfcI2_acc = acc_evaluator.evaluate(rfc_predictions_Iteration2)\n",
    "\n",
    "# Create a confusion matrix\n",
    "rfcI_true_positives = rfc_predictions_Iteration.filter((col(\"cardio\") == 1) & (col(\"prediction\") == 1)).count()\n",
    "rfcI_true_negatives = rfc_predictions_Iteration.filter((col(\"cardio\") == 0) & (col(\"prediction\") == 0)).count()\n",
    "rfcI_false_positives = rfc_predictions_Iteration.filter((col(\"cardio\") == 0) & (col(\"prediction\") == 1)).count()\n",
    "rfcI_false_negatives = rfc_predictions_Iteration.filter((col(\"cardio\") == 1) & (col(\"prediction\") == 0)).count()\n",
    "\n",
    "print('Random Forest Algorithm')\n",
    "print(\"Confusion Matrix:\")\n",
    "print(\"\\t\\tActual Positive\\tActual Negative\")\n",
    "print(\"Predicted Positive\\t{}\\t\\t{}\".format(rfc_true_positives, rfc_false_positives))\n",
    "print(\"Predicted Negative\\t{}\\t\\t{}\".format(rfc_false_negatives, rfc_true_negatives))\n",
    "print('-'*40)\n",
    "\n",
    "print(f\"Area Under ROC (AUC): {rfcI2_auc}\")\n",
    "print(f\"Area Under PR Curve: {rfcI2_pr}\")\n",
    "print(f\"Accuracy: {rfcI2_acc}\")\n",
    "print(f\"Weighted Precision: {rfcI2_weighted_precision}\")\n",
    "print(f\"Weighted Recall: {rfcI2_weighted_recall}\")\n",
    "print(f\"F1 Score: {rfcI2_f1}\")"
   ]
  },
  {
   "cell_type": "code",
   "execution_count": null,
   "id": "27e52fdd",
   "metadata": {},
   "outputs": [],
   "source": []
  }
 ],
 "metadata": {
  "kernelspec": {
   "display_name": "Python 3 (ipykernel)",
   "language": "python",
   "name": "python3"
  },
  "language_info": {
   "codemirror_mode": {
    "name": "ipython",
    "version": 3
   },
   "file_extension": ".py",
   "mimetype": "text/x-python",
   "name": "python",
   "nbconvert_exporter": "python",
   "pygments_lexer": "ipython3",
   "version": "3.11.3"
  }
 },
 "nbformat": 4,
 "nbformat_minor": 5
}
